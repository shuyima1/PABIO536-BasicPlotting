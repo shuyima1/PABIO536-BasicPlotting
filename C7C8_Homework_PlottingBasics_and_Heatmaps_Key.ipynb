{
 "cells": [
  {
   "cell_type": "markdown",
   "metadata": {},
   "source": [
    "# Homework for Classes 7 & 8\n",
    "\n",
    "The goal of this homework is to generate an overlayed boxplot/swarm plot and a clustermap of the top significant genes selected by ANOVA by cell line.\n",
    "\n",
    "### Note: \n",
    "To submit this assignment, please upload your completed .ipynb file to canvas by __5pm on Sunday April 28th__."
   ]
  },
  {
   "cell_type": "code",
   "execution_count": 1,
   "metadata": {},
   "outputs": [],
   "source": [
    "# Start with importing the packages\n",
    "import matplotlib.pyplot as plt\n",
    "import numpy as np\n",
    "import pandas as pd\n",
    "import seaborn as sns\n",
    "import scipy\n",
    "from scipy import stats\n",
    "\n",
    "# We're also going to tell Jupyter to use inline plotting instead of notebook plotting\n",
    "# It basically means you don't have to use plt.show() in every cell\n",
    "%matplotlib inline"
   ]
  },
  {
   "cell_type": "code",
   "execution_count": 2,
   "metadata": {},
   "outputs": [],
   "source": [
    "# Import the data file df_T.csv:\n",
    "dfT = pd.read_csv('../Pabio536/C4C5_ Numpy_and_pandas/df_T.csv', index_col=0)"
   ]
  },
  {
   "cell_type": "code",
   "execution_count": 3,
   "metadata": {},
   "outputs": [
    {
     "data": {
      "text/html": [
       "<div>\n",
       "<style scoped>\n",
       "    .dataframe tbody tr th:only-of-type {\n",
       "        vertical-align: middle;\n",
       "    }\n",
       "\n",
       "    .dataframe tbody tr th {\n",
       "        vertical-align: top;\n",
       "    }\n",
       "\n",
       "    .dataframe thead th {\n",
       "        text-align: right;\n",
       "    }\n",
       "</style>\n",
       "<table border=\"1\" class=\"dataframe\">\n",
       "  <thead>\n",
       "    <tr style=\"text-align: right;\">\n",
       "      <th></th>\n",
       "      <th>Sample_geo_accession</th>\n",
       "      <th>Stage</th>\n",
       "      <th>cell type</th>\n",
       "      <th>CellLine</th>\n",
       "      <th>ANKIB1</th>\n",
       "      <th>ZNF618</th>\n",
       "      <th>IMPG2</th>\n",
       "    </tr>\n",
       "    <tr>\n",
       "      <th>Sample Title</th>\n",
       "      <th></th>\n",
       "      <th></th>\n",
       "      <th></th>\n",
       "      <th></th>\n",
       "      <th></th>\n",
       "      <th></th>\n",
       "      <th></th>\n",
       "    </tr>\n",
       "  </thead>\n",
       "  <tbody>\n",
       "    <tr>\n",
       "      <th>FM_1</th>\n",
       "      <td>GSM2344965</td>\n",
       "      <td>primary melanocytes</td>\n",
       "      <td>normal melanocytes</td>\n",
       "      <td>FM</td>\n",
       "      <td>11.332037</td>\n",
       "      <td>10.540128</td>\n",
       "      <td>3.700440</td>\n",
       "    </tr>\n",
       "    <tr>\n",
       "      <th>FM_2</th>\n",
       "      <td>GSM2344966</td>\n",
       "      <td>primary melanocytes</td>\n",
       "      <td>normal melanocytes</td>\n",
       "      <td>FM</td>\n",
       "      <td>11.247928</td>\n",
       "      <td>10.492855</td>\n",
       "      <td>3.169925</td>\n",
       "    </tr>\n",
       "    <tr>\n",
       "      <th>FM_3</th>\n",
       "      <td>GSM2344967</td>\n",
       "      <td>primary melanocytes</td>\n",
       "      <td>normal melanocytes</td>\n",
       "      <td>FM</td>\n",
       "      <td>11.013323</td>\n",
       "      <td>10.088788</td>\n",
       "      <td>3.906891</td>\n",
       "    </tr>\n",
       "    <tr>\n",
       "      <th>SK_MEL_28_1</th>\n",
       "      <td>GSM2344968</td>\n",
       "      <td>metastatic</td>\n",
       "      <td>melanoma cell line</td>\n",
       "      <td>SK_MEL_28</td>\n",
       "      <td>11.363040</td>\n",
       "      <td>9.961450</td>\n",
       "      <td>2.000000</td>\n",
       "    </tr>\n",
       "    <tr>\n",
       "      <th>SK_MEL_28_2</th>\n",
       "      <td>GSM2344969</td>\n",
       "      <td>metastatic</td>\n",
       "      <td>melanoma cell line</td>\n",
       "      <td>SK_MEL_28</td>\n",
       "      <td>11.660887</td>\n",
       "      <td>10.087463</td>\n",
       "      <td>1.000000</td>\n",
       "    </tr>\n",
       "    <tr>\n",
       "      <th>SK_MEL_28_3</th>\n",
       "      <td>GSM2344970</td>\n",
       "      <td>metastatic</td>\n",
       "      <td>melanoma cell line</td>\n",
       "      <td>SK_MEL_28</td>\n",
       "      <td>11.624795</td>\n",
       "      <td>9.957102</td>\n",
       "      <td>2.584963</td>\n",
       "    </tr>\n",
       "    <tr>\n",
       "      <th>SK_MEL_147_1</th>\n",
       "      <td>GSM2344971</td>\n",
       "      <td>metastatic</td>\n",
       "      <td>melanoma cell line</td>\n",
       "      <td>SK_MEL_147</td>\n",
       "      <td>11.212496</td>\n",
       "      <td>10.927037</td>\n",
       "      <td>4.169925</td>\n",
       "    </tr>\n",
       "    <tr>\n",
       "      <th>SK_MEL_147_2</th>\n",
       "      <td>GSM2344972</td>\n",
       "      <td>metastatic</td>\n",
       "      <td>melanoma cell line</td>\n",
       "      <td>SK_MEL_147</td>\n",
       "      <td>10.897845</td>\n",
       "      <td>10.570804</td>\n",
       "      <td>3.807355</td>\n",
       "    </tr>\n",
       "    <tr>\n",
       "      <th>SK_MEL_147_3</th>\n",
       "      <td>GSM2344973</td>\n",
       "      <td>metastatic</td>\n",
       "      <td>melanoma cell line</td>\n",
       "      <td>SK_MEL_147</td>\n",
       "      <td>11.182394</td>\n",
       "      <td>10.659104</td>\n",
       "      <td>3.700440</td>\n",
       "    </tr>\n",
       "    <tr>\n",
       "      <th>UACC_62_1</th>\n",
       "      <td>GSM2344974</td>\n",
       "      <td>metastatic</td>\n",
       "      <td>melanoma cell line</td>\n",
       "      <td>UACC_62</td>\n",
       "      <td>11.510764</td>\n",
       "      <td>10.130571</td>\n",
       "      <td>4.643856</td>\n",
       "    </tr>\n",
       "    <tr>\n",
       "      <th>UACC_62_2</th>\n",
       "      <td>GSM2344975</td>\n",
       "      <td>metastatic</td>\n",
       "      <td>melanoma cell line</td>\n",
       "      <td>UACC_62</td>\n",
       "      <td>11.710806</td>\n",
       "      <td>9.933691</td>\n",
       "      <td>3.906891</td>\n",
       "    </tr>\n",
       "    <tr>\n",
       "      <th>UACC_62_3</th>\n",
       "      <td>GSM2344976</td>\n",
       "      <td>metastatic</td>\n",
       "      <td>melanoma cell line</td>\n",
       "      <td>UACC_62</td>\n",
       "      <td>11.643856</td>\n",
       "      <td>10.209453</td>\n",
       "      <td>3.906891</td>\n",
       "    </tr>\n",
       "  </tbody>\n",
       "</table>\n",
       "</div>"
      ],
      "text/plain": [
       "             Sample_geo_accession                Stage           cell type  \\\n",
       "Sample Title                                                                 \n",
       "FM_1                   GSM2344965  primary melanocytes  normal melanocytes   \n",
       "FM_2                   GSM2344966  primary melanocytes  normal melanocytes   \n",
       "FM_3                   GSM2344967  primary melanocytes  normal melanocytes   \n",
       "SK_MEL_28_1            GSM2344968           metastatic  melanoma cell line   \n",
       "SK_MEL_28_2            GSM2344969           metastatic  melanoma cell line   \n",
       "SK_MEL_28_3            GSM2344970           metastatic  melanoma cell line   \n",
       "SK_MEL_147_1           GSM2344971           metastatic  melanoma cell line   \n",
       "SK_MEL_147_2           GSM2344972           metastatic  melanoma cell line   \n",
       "SK_MEL_147_3           GSM2344973           metastatic  melanoma cell line   \n",
       "UACC_62_1              GSM2344974           metastatic  melanoma cell line   \n",
       "UACC_62_2              GSM2344975           metastatic  melanoma cell line   \n",
       "UACC_62_3              GSM2344976           metastatic  melanoma cell line   \n",
       "\n",
       "                CellLine     ANKIB1     ZNF618     IMPG2  \n",
       "Sample Title                                              \n",
       "FM_1                  FM  11.332037  10.540128  3.700440  \n",
       "FM_2                  FM  11.247928  10.492855  3.169925  \n",
       "FM_3                  FM  11.013323  10.088788  3.906891  \n",
       "SK_MEL_28_1    SK_MEL_28  11.363040   9.961450  2.000000  \n",
       "SK_MEL_28_2    SK_MEL_28  11.660887  10.087463  1.000000  \n",
       "SK_MEL_28_3    SK_MEL_28  11.624795   9.957102  2.584963  \n",
       "SK_MEL_147_1  SK_MEL_147  11.212496  10.927037  4.169925  \n",
       "SK_MEL_147_2  SK_MEL_147  10.897845  10.570804  3.807355  \n",
       "SK_MEL_147_3  SK_MEL_147  11.182394  10.659104  3.700440  \n",
       "UACC_62_1        UACC_62  11.510764  10.130571  4.643856  \n",
       "UACC_62_2        UACC_62  11.710806   9.933691  3.906891  \n",
       "UACC_62_3        UACC_62  11.643856  10.209453  3.906891  "
      ]
     },
     "execution_count": 3,
     "metadata": {},
     "output_type": "execute_result"
    }
   ],
   "source": [
    "dfT.iloc[:,0:7]"
   ]
  },
  {
   "cell_type": "code",
   "execution_count": 5,
   "metadata": {},
   "outputs": [
    {
     "name": "stdout",
     "output_type": "stream",
     "text": [
      "                 ANKIB1     ZNF618     IMPG2    SLC26A6   MAPKAPK3    DYNLT3  \\\n",
      "Sample Title                                                                   \n",
      "FM_1          11.332037  10.540128  3.700440  10.112440  10.664447  8.459432   \n",
      "FM_2          11.247928  10.492855  3.169925   9.575539  10.799282  8.915879   \n",
      "FM_3          11.013323  10.088788  3.906891  10.558421  10.487840  9.152285   \n",
      "\n",
      "                GRAMD3       MPDZ      DGKI       RCC2    ...      \\\n",
      "Sample Title                                              ...       \n",
      "FM_1          8.455327  12.458663  5.129283  12.693051    ...       \n",
      "FM_2          8.668885  12.259155  6.022368  12.809768    ...       \n",
      "FM_3          8.797662  11.452756  5.930737  12.758640    ...       \n",
      "\n",
      "              RP11-872D17.8     CC2D1A  RP11-146B14.1     GPR83    SCAMP5  \\\n",
      "Sample Title                                                                \n",
      "FM_1               3.584963  10.602699       6.209453  4.321928  7.066089   \n",
      "FM_2               4.169925  10.338736       6.000000  3.584963  6.569856   \n",
      "FM_3               4.169925  10.529431       5.906891  3.807355  6.475733   \n",
      "\n",
      "                  FRS2    ABCC11    BMS1P7    CHRNB1    CCDC90B  \n",
      "Sample Title                                                     \n",
      "FM_1          9.567956  6.169925  4.247928  8.758223  10.224002  \n",
      "FM_2          9.677720  5.906891  5.044394  8.169925  10.388017  \n",
      "FM_3          9.357552  5.643856  3.906891  8.139551  10.186114  \n",
      "\n",
      "[3 rows x 93 columns]                  ANKIB1     ZNF618     IMPG2    SLC26A6   MAPKAPK3     DYNLT3  \\\n",
      "Sample Title                                                                    \n",
      "SK_MEL_28_1   11.363040   9.961450  2.000000   9.816984   9.903882  10.211888   \n",
      "SK_MEL_28_2   11.660887  10.087463  1.000000  10.142107   9.995767  10.583083   \n",
      "SK_MEL_28_3   11.624795   9.957102  2.584963   9.936638  10.075479  10.556506   \n",
      "\n",
      "                GRAMD3       MPDZ      DGKI       RCC2    ...      \\\n",
      "Sample Title                                              ...       \n",
      "SK_MEL_28_1   8.257388  11.061371  9.092757  13.647908    ...       \n",
      "SK_MEL_28_2   8.243174  11.350939  9.566054  13.796445    ...       \n",
      "SK_MEL_28_3   8.033423  11.319672  8.778077  13.596889    ...       \n",
      "\n",
      "              RP11-872D17.8     CC2D1A  RP11-146B14.1     GPR83    SCAMP5  \\\n",
      "Sample Title                                                                \n",
      "SK_MEL_28_1        4.000000  10.738092       5.807355  3.321928  8.066089   \n",
      "SK_MEL_28_2        4.807355  10.997885       4.523562  3.321928  8.209453   \n",
      "SK_MEL_28_3        3.584963  11.036174       6.022368  3.000000  8.361944   \n",
      "\n",
      "                  FRS2    ABCC11    BMS1P7    CHRNB1    CCDC90B  \n",
      "Sample Title                                                     \n",
      "SK_MEL_28_1   9.379378  5.554589 -6.643856  7.179909   9.873444  \n",
      "SK_MEL_28_2   9.651052  5.930737 -6.643856  7.294621  10.060696  \n",
      "SK_MEL_28_3   9.419960  5.321928 -6.643856  7.066089   9.902375  \n",
      "\n",
      "[3 rows x 93 columns]                  ANKIB1     ZNF618     IMPG2    SLC26A6   MAPKAPK3     DYNLT3  \\\n",
      "Sample Title                                                                    \n",
      "SK_MEL_147_1  11.212496  10.927037  4.169925   9.768184  11.240791  10.474720   \n",
      "SK_MEL_147_2  10.897845  10.570804  3.807355  10.029287  11.287712  10.067434   \n",
      "SK_MEL_147_3  11.182394  10.659104  3.700440   9.824959  11.264443  10.804131   \n",
      "\n",
      "                GRAMD3      MPDZ      DGKI       RCC2    ...      \\\n",
      "Sample Title                                             ...       \n",
      "SK_MEL_147_1  7.055282  9.493855  5.754888  13.135389    ...       \n",
      "SK_MEL_147_2  7.044394  9.337622  5.882643  13.213712    ...       \n",
      "SK_MEL_147_3  7.467606  9.722808  5.357552  12.709945    ...       \n",
      "\n",
      "              RP11-872D17.8     CC2D1A  RP11-146B14.1     GPR83    SCAMP5  \\\n",
      "Sample Title                                                                \n",
      "SK_MEL_147_1       3.807355  10.692616       6.523562  3.169925  8.487840   \n",
      "SK_MEL_147_2       1.000000  10.706496       3.000000  3.807355  8.566054   \n",
      "SK_MEL_147_3       3.321928  10.916626       6.491853  3.459432  9.372865   \n",
      "\n",
      "                   FRS2    ABCC11    BMS1P7    CHRNB1    CCDC90B  \n",
      "Sample Title                                                      \n",
      "SK_MEL_147_1  10.559377  6.149747  5.523562  8.744834  11.623881  \n",
      "SK_MEL_147_2  10.113742  5.954196  5.781360  9.337622  11.338179  \n",
      "SK_MEL_147_3  10.047124  6.108524  4.906891  9.041659  11.667555  \n",
      "\n",
      "[3 rows x 93 columns]                  ANKIB1     ZNF618     IMPG2    SLC26A6   MAPKAPK3     DYNLT3  \\\n",
      "Sample Title                                                                    \n",
      "UACC_62_1     11.510764  10.130571  4.643856  10.456354  10.461479  12.103288   \n",
      "UACC_62_2     11.710806   9.933691  3.906891  10.641149  10.650154  12.256209   \n",
      "UACC_62_3     11.643856  10.209453  3.906891  10.365229  10.301496  12.203960   \n",
      "\n",
      "                GRAMD3       MPDZ       DGKI       RCC2    ...      \\\n",
      "Sample Title                                               ...       \n",
      "UACC_62_1     8.654636  10.179909   8.924813  13.179598    ...       \n",
      "UACC_62_2     8.060696   9.824959  10.422065  13.739359    ...       \n",
      "UACC_62_3     8.430453   9.856426  10.358651  13.669107    ...       \n",
      "\n",
      "              RP11-872D17.8     CC2D1A  RP11-146B14.1     GPR83    SCAMP5  \\\n",
      "Sample Title                                                                \n",
      "UACC_62_1          4.954196  12.035830       6.442943  3.169925  9.870365   \n",
      "UACC_62_2          4.459432  12.098361       6.087463  2.321928  9.977280   \n",
      "UACC_62_3          4.643856  11.886840       6.022368  3.700440  9.967226   \n",
      "\n",
      "                   FRS2    ABCC11    BMS1P7    CHRNB1    CCDC90B  \n",
      "Sample Title                                                      \n",
      "UACC_62_1      9.766529  6.820179  1.584963  7.960002  10.099348  \n",
      "UACC_62_2     10.072803  5.882643  3.169925  7.266787  10.083479  \n",
      "UACC_62_3     10.271463  6.247928  4.169925  7.366322  10.072803  \n",
      "\n",
      "[3 rows x 93 columns]\n"
     ]
    }
   ],
   "source": [
    "# Create separate variables that contain the gene expression values of each of the cell lines: FM, SK_MEL_28, SK_MEL_147, and UACC_62\n",
    "# Want genes in columns, samples in rows.\n",
    "FM = dfT.iloc[0:3,4:]\n",
    "SK_MEL_28 = dfT.iloc[3:6,4:]\n",
    "SK_MEL_147 = dfT.iloc[6:9,4:]\n",
    "UACC_62 = dfT.iloc[9:,4:]\n",
    "\n",
    "print(FM.head(),SK_MEL_28.head(),SK_MEL_147.head(),UACC_62.head())"
   ]
  },
  {
   "cell_type": "code",
   "execution_count": 7,
   "metadata": {},
   "outputs": [
    {
     "name": "stdout",
     "output_type": "stream",
     "text": [
      "[7.27414711e-03 4.01432883e-03 2.18896281e-03 1.04713255e-01\n",
      " 1.27911355e-05 3.85195662e-06 2.06221860e-04 2.92024433e-05\n",
      " 1.51365865e-05 2.20538893e-03 1.11939922e-03 1.07576521e-04\n",
      " 2.81933187e-03 3.09604828e-01 2.32978522e-03 6.32686937e-06\n",
      " 5.36787965e-06 1.55673490e-06 1.11325496e-03 6.14881127e-02\n",
      " 4.38825973e-02 2.48496761e-07 1.85291734e-02 4.02558135e-05\n",
      " 2.00454818e-06 1.20619251e-01 1.52173320e-02 7.28134053e-05\n",
      " 7.49726095e-03 4.54633516e-06 1.46985155e-06 7.29938757e-03\n",
      " 1.76876623e-06 8.91239992e-09 1.91405195e-03 1.76118010e-02\n",
      " 7.20692394e-06 3.65907229e-04 4.23966109e-06 1.25574409e-02\n",
      " 2.02022701e-01 6.12732112e-04 2.63564518e-04 4.63847043e-03\n",
      " 4.60787729e-02 1.62352754e-01 3.16556432e-05 3.95585890e-02\n",
      " 3.70159805e-06 3.35084135e-02 2.07037520e-01 2.04666171e-03\n",
      " 2.58820983e-02 4.48930232e-04 1.62955403e-03 2.22854563e-06\n",
      " 5.50174013e-03 1.10411220e-03 1.86853815e-05 3.48392613e-02\n",
      " 2.68651522e-04 1.53458476e-07 3.10841401e-04 4.48980335e-05\n",
      " 4.88583169e-02 1.88982231e-03 3.43677422e-04 4.20692044e-01\n",
      " 9.07717754e-03 4.10327484e-02 2.57123376e-04 8.28798509e-12\n",
      " 5.70188035e-05 2.83522730e-04 2.16582450e-04 1.48035555e-03\n",
      " 1.28658853e-08 7.26100767e-01 3.10432456e-04 3.99037366e-04\n",
      " 9.63848924e-05 3.74693163e-03 1.95346767e-05 9.69216075e-02\n",
      " 3.73766842e-06 7.31265946e-01 1.73908158e-01 8.18930393e-06\n",
      " 6.50179043e-03 1.15222815e-01 1.58657217e-07 2.68673744e-04\n",
      " 5.44394263e-07]\n"
     ]
    }
   ],
   "source": [
    "# Generate ANOVA statistics and p values. (Hint: look in class 6 notes)\n",
    "\n",
    "ANOVAstats, p = stats.f_oneway(FM, SK_MEL_147, SK_MEL_28, UACC_62)\n",
    "\n",
    "print(p)"
   ]
  },
  {
   "cell_type": "code",
   "execution_count": 8,
   "metadata": {
    "scrolled": false
   },
   "outputs": [
    {
     "name": "stdout",
     "output_type": "stream",
     "text": [
      "Index(['SLC18B1', 'CDIP1', 'NOMO1', 'RPRD1A', 'BMS1P7', 'WDR19', 'CCDC90B',\n",
      "       'ZCCHC17', 'MARCKSL1', 'FOXC1', 'RPS6KA6', 'AXIN2', 'CSRNP3', 'CC2D1A',\n",
      "       'DYNLT3', 'DTX3L', 'MTSS1', 'ELFN1', 'TMEM60', 'ZNF343', 'SCAMP5',\n",
      "       'MAPKAPK3', 'DGKI', 'TRMT1L', 'POLI', 'MPDZ', 'IQCG', 'BCAP31',\n",
      "       'MAGEA12', 'SSH1', 'CHRNA7', 'MRO', 'GTF2H1', 'GRAMD3', 'FAM111B',\n",
      "       'MANF', 'MOB3A', 'NHEJ1', 'CHRNB1', 'COQ3', 'GTF2E1', 'KPNA4', 'LMNB1',\n",
      "       'RECQL4', 'SLC25A21', 'OAZ3', 'ZNF24', 'FKBPL', 'TRAPPC2B', 'KIF5A',\n",
      "       'HNRNPD', 'ETF1', 'GID4', 'SULT1A1', 'PTPN9', 'IMPG2', 'RCC2',\n",
      "       'SLC35A3', 'TMEM126B', 'RP11-163E9.2', 'ZNF618', 'EHF', 'UQCR11',\n",
      "       'FRS2', 'ANKIB1', 'IFT74', 'DYNC2H1', 'CTD-3214H19.4', 'CPAMD8',\n",
      "       'TSNAXIP1', 'SHMT1', 'TAF1D', 'NUTM2A', 'TSSK6', 'C1QTNF9B-AS1',\n",
      "       'TCEAL9', 'MSTO2P', 'BMPR1A', 'LUM', 'RPL13AP6', 'NCMAP',\n",
      "       'RP11-872D17.8', 'SLC26A6', 'ABCC11', 'PGBD2', 'PLEKHM3', 'GPR83',\n",
      "       'NBAS', 'ACAT1', 'COL1A1', 'RPL23AP97', 'GPR75-ASB3', 'RP11-146B14.1'],\n",
      "      dtype='object')\n"
     ]
    }
   ],
   "source": [
    "# Generated an array of genes that is sorted by the ANOVA p value. (Hint: look in class 7 notes)\n",
    "\n",
    "geneNames = FM.columns\n",
    "\n",
    "pidx = np.argsort(p)\n",
    "\n",
    "orderedgenes = geneNames[pidx]\n",
    "\n",
    "print(orderedgenes)"
   ]
  },
  {
   "cell_type": "code",
   "execution_count": 14,
   "metadata": {},
   "outputs": [
    {
     "name": "stdout",
     "output_type": "stream",
     "text": [
      "Index(['SLC18B1', 'CDIP1'], dtype='object') [8.28798509e-12 8.91239992e-09]\n"
     ]
    }
   ],
   "source": [
    "# Print the names of the top 2 most significant genes, and their associated p-values\n",
    "print(orderedgenes[0:2],p[pidx[0:2]])"
   ]
  },
  {
   "cell_type": "code",
   "execution_count": 17,
   "metadata": {
    "scrolled": false
   },
   "outputs": [
    {
     "data": {
      "image/png": "[encoded data removed]",
      "text/plain": [
       "<Figure size 360x360 with 1 Axes>"
      ]
     },
     "metadata": {
      "needs_background": "light"
     },
     "output_type": "display_data"
    }
   ],
   "source": [
    "# Generate an overlayed boxplot/swarm plot of each cell line's expression of the top gene. \n",
    "# Try to choose a pretty color palette.\n",
    "g = sns.catplot(x=\"CellLine\", y=\"SLC18B1\", kind=\"box\", data=dfT)\n",
    "sns.swarmplot(x=\"CellLine\", y=\"SLC18B1\", color=\"k\", size=7, data=dfT, ax=g.ax)\n",
    "plt.show()"
   ]
  },
  {
   "cell_type": "code",
   "execution_count": 16,
   "metadata": {},
   "outputs": [
    {
     "data": {
      "image/png": "[encoded data removed]",
      "text/plain": [
       "<Figure size 360x360 with 1 Axes>"
      ]
     },
     "metadata": {
      "needs_background": "light"
     },
     "output_type": "display_data"
    }
   ],
   "source": [
    "# Generate an overlayed boxplot/swarm plot of each cell line's expression of the second most significant gene. \n",
    "# Try to choose a pretty color palette.\n",
    "g = sns.catplot(x=\"CellLine\", y=\"CDIP1\", kind=\"box\", data=dfT)\n",
    "sns.swarmplot(x=\"CellLine\", y=\"CDIP1\", color=\"k\", size=7, data=dfT, ax=g.ax)\n",
    "plt.show()"
   ]
  },
  {
   "cell_type": "markdown",
   "metadata": {},
   "source": [
    "Out of the 2 genes that you plotted, which look like they would be more useful as a marker that distinguishes cancer vs. normal? Would both of them be useful? \n",
    "Write the answer in the markdown cell below:"
   ]
  },
  {
   "cell_type": "markdown",
   "metadata": {},
   "source": [
    "Your Answer: SLC18B1 would be useful but CDIP1 would not. CDIP1 expression is high in both normal and one of the cell lines."
   ]
  },
  {
   "cell_type": "markdown",
   "metadata": {},
   "source": [
    "***\n",
    "#### Optional Extra Practice:\n",
    "\n",
    "Plot bar plots and swarm of these genes with the cell line type on the x-axes. For the swarm plot, color the points by cancer vs. normal.\n",
    "\n",
    "These plots are optional to do, and will not be graded. They are only intended to give you some extra practice."
   ]
  },
  {
   "cell_type": "code",
   "execution_count": 26,
   "metadata": {
    "scrolled": false
   },
   "outputs": [
    {
     "data": {
      "image/png": "[encoded data removed]",
      "text/plain": [
       "<Figure size 360x360 with 1 Axes>"
      ]
     },
     "metadata": {
      "needs_background": "light"
     },
     "output_type": "display_data"
    }
   ],
   "source": [
    "g = sns.catplot(x=\"CellLine\", y=\"SLC18B1\", kind=\"bar\", data=dfT)"
   ]
  },
  {
   "cell_type": "code",
   "execution_count": 25,
   "metadata": {},
   "outputs": [
    {
     "name": "stderr",
     "output_type": "stream",
     "text": [
      "/anaconda3/lib/python3.7/site-packages/scipy/stats/stats.py:1713: FutureWarning: Using a non-tuple sequence for multidimensional indexing is deprecated; use `arr[tuple(seq)]` instead of `arr[seq]`. In the future this will be interpreted as an array index, `arr[np.array(seq)]`, which will result either in an error or a different result.\n",
      "  return np.add.reduce(sorted[indexer] * weights, axis=axis) / sumval\n"
     ]
    },
    {
     "data": {
      "image/png": "[encoded data removed]",
      "text/plain": [
       "<Figure size 360x360 with 1 Axes>"
      ]
     },
     "metadata": {
      "needs_background": "light"
     },
     "output_type": "display_data"
    }
   ],
   "source": [
    "g = sns.catplot(x=\"CellLine\", y=\"CDIP1\", kind=\"bar\", data=dfT)"
   ]
  },
  {
   "cell_type": "code",
   "execution_count": 27,
   "metadata": {},
   "outputs": [
    {
     "data": {
      "image/png": "[encoded data removed]",
      "text/plain": [
       "<Figure size 501.875x360 with 1 Axes>"
      ]
     },
     "metadata": {
      "needs_background": "light"
     },
     "output_type": "display_data"
    }
   ],
   "source": [
    "g = sns.catplot(x=\"CellLine\", y=\"SLC18B1\", kind=\"swarm\", data=dfT, hue = 'Stage')"
   ]
  },
  {
   "cell_type": "code",
   "execution_count": 28,
   "metadata": {},
   "outputs": [
    {
     "data": {
      "image/png": "[encoded data removed]",
      "text/plain": [
       "<Figure size 501.875x360 with 1 Axes>"
      ]
     },
     "metadata": {
      "needs_background": "light"
     },
     "output_type": "display_data"
    }
   ],
   "source": [
    "g = sns.catplot(x=\"CellLine\", y=\"CDIP1\", kind=\"swarm\", data=dfT, hue = 'Stage')"
   ]
  },
  {
   "cell_type": "markdown",
   "metadata": {},
   "source": [
    "***"
   ]
  },
  {
   "cell_type": "code",
   "execution_count": 18,
   "metadata": {},
   "outputs": [
    {
     "name": "stdout",
     "output_type": "stream",
     "text": [
      "Index(['SLC18B1', 'CDIP1', 'NOMO1', 'RPRD1A', 'BMS1P7', 'WDR19', 'CCDC90B',\n",
      "       'ZCCHC17', 'MARCKSL1', 'FOXC1'],\n",
      "      dtype='object') [8.28798509e-12 8.91239992e-09 1.28658853e-08 1.53458476e-07\n",
      " 1.58657217e-07 2.48496761e-07 5.44394263e-07 1.46985155e-06\n",
      " 1.55673490e-06 1.76876623e-06]\n"
     ]
    }
   ],
   "source": [
    "# Print the names of the top 10 most significant genes, and their associated p-values\n",
    "print(orderedgenes[0:10],p[pidx[0:10]])"
   ]
  },
  {
   "cell_type": "code",
   "execution_count": 24,
   "metadata": {},
   "outputs": [
    {
     "data": {
      "image/png": "[encoded data removed]",
      "text/plain": [
       "<Figure size 720x720 with 5 Axes>"
      ]
     },
     "metadata": {
      "needs_background": "light"
     },
     "output_type": "display_data"
    }
   ],
   "source": [
    "# Generate a clustermap of the expression these 10 genes, with all of the samples in the rows. \n",
    "# Make sure to standard scale the expression values, add color bars to label the cancer vs. normal samples, and try a pretty color palette\n",
    "# (Hint: look at class 8 notes).\n",
    "\n",
    "# Generate color bars\n",
    "cancerColor = dict(zip(dfT.loc[:,'Stage'].unique(),sns.color_palette()))\n",
    "row_colors = dfT.loc[:,'Stage'].map(cancerColor)\n",
    "\n",
    "# Generate clustermap\n",
    "g = sns.clustermap(dfT.loc[:,orderedgenes[0:10]],standard_scale=1, row_colors=row_colors,cmap = 'inferno')"
   ]
  },
  {
   "cell_type": "markdown",
   "metadata": {},
   "source": [
    "Based on this clustermap, which of the 10 genes look like they would be useful as a marker that distinguishes cancer vs. normal? \n",
    "Write the answer in the markdown cell below:"
   ]
  },
  {
   "cell_type": "markdown",
   "metadata": {},
   "source": [
    "Your Answer: SLC18B1, WDR19, MARCKSL1, and FOXC1 would be most useful."
   ]
  },
  {
   "cell_type": "markdown",
   "metadata": {},
   "source": [
    "***\n",
    "#### Optional Extra Practice:\n",
    "\n",
    "Plot a clustergram with the top 20 genes, and add color bars to label each of the four cell line types.\n",
    "\n",
    "This is optional to do, and will not be graded. They are only intended to give you some extra practice."
   ]
  },
  {
   "cell_type": "code",
   "execution_count": 29,
   "metadata": {},
   "outputs": [
    {
     "data": {
      "image/png": "[encoded data removed]",
      "text/plain": [
       "<Figure size 720x720 with 5 Axes>"
      ]
     },
     "metadata": {
      "needs_background": "light"
     },
     "output_type": "display_data"
    }
   ],
   "source": [
    "# Generate color bars\n",
    "cellColor = dict(zip(dfT.loc[:,'CellLine'].unique(),sns.color_palette()))\n",
    "row_colors = dfT.loc[:,'CellLine'].map(cellColor)\n",
    "\n",
    "# Generate clustermap\n",
    "g = sns.clustermap(dfT.loc[:,orderedgenes[0:20]],standard_scale=1, row_colors=row_colors,cmap = 'inferno')"
   ]
  }
 ],
 "metadata": {
  "kernelspec": {
   "display_name": "Python 3",
   "language": "python",
   "name": "python3"
  },
  "language_info": {
   "codemirror_mode": {
    "name": "ipython",
    "version": 3
   },
   "file_extension": ".py",
   "mimetype": "text/x-python",
   "name": "python",
   "nbconvert_exporter": "python",
   "pygments_lexer": "ipython3",
   "version": "3.7.1"
  }
 },
 "nbformat": 4,
 "nbformat_minor": 2
}
