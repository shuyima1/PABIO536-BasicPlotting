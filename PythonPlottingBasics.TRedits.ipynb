{
 "cells": [
  {
   "cell_type": "code",
   "execution_count": 17,
   "metadata": {},
   "outputs": [],
   "source": [
    "# Shuyi, I think it might be easier to use inline plotting instead of notebook plotting\n",
    "# It basically means you don't have to use plt.show() in every cell\n",
    "# Just an idea...\n",
    "%matplotlib inline"
   ]
  },
  {
   "cell_type": "markdown",
   "metadata": {},
   "source": [
    "# Plotting data with matplotlib and seaborn\n",
    "\n",
    "Your ability to understand and communicate data is often entirely dependent on your ability to make a visual representation of that data. The most widely used python libraries for plotting scientific data are `matplotlib` and `seaborn`. \n",
    "\n",
    "In today's class we will explore the wide range of python plotting options. We will:\n",
    "\n",
    " - Compare samples to get a visual readout of variability\n",
    " - Identify a gene that is differentially expressed in metastatic vs normal\n",
    " - Generate focused plots looking at that gene's expression\n",
    "\n",
    "First, we need to import `pyplot` and `seaborn`. While we're at it let's import `numpy` and `pandas` to store and manipulate data prior to plotting. "
   ]
  },
  {
   "cell_type": "code",
   "execution_count": 18,
   "metadata": {},
   "outputs": [],
   "source": [
    "import matplotlib.pyplot as plt\n",
    "import numpy as np\n",
    "import pandas as pd\n",
    "import seaborn as sns"
   ]
  },
  {
   "cell_type": "markdown",
   "metadata": {},
   "source": [
    "Import the melanoma data we used in the prior class using pd.read_csv() and pd.read_excel(). \n",
    "\n",
    "The data is tab separated and the first column has the gene names.\n",
    " \n",
    "Remember that most things in python are zero-indexed, so the first column is index 0."
   ]
  },
  {
   "cell_type": "code",
   "execution_count": 19,
   "metadata": {},
   "outputs": [
    {
     "name": "stdout",
     "output_type": "stream",
     "text": [
      "             GSM2344965  GSM2344966  GSM2344967  GSM2344968  GSM2344969  \\\n",
      "gene_symbol                                                               \n",
      "ASPDH                 1           1           1           4           0   \n",
      "KRT18P19              0           0           0           1           0   \n",
      "ANKIB1             2578        2432        2067        2634        3238   \n",
      "AGGF1P6               0           0           0           0           0   \n",
      "ZNF618             1489        1441        1089         997        1088   \n",
      "\n",
      "             GSM2344970  GSM2344971  GSM2344972  GSM2344973  GSM2344974  \\\n",
      "gene_symbol                                                               \n",
      "ASPDH                 1           2           1           1           2   \n",
      "KRT18P19              0           2           1           2           0   \n",
      "ANKIB1             3158        2373        1908        2324        2918   \n",
      "AGGF1P6               0           0           0           0           2   \n",
      "ZNF618              994        1947        1521        1617        1121   \n",
      "\n",
      "             GSM2344975  GSM2344976  \n",
      "gene_symbol                          \n",
      "ASPDH                 1           8  \n",
      "KRT18P19              0           2  \n",
      "ANKIB1             3352        3200  \n",
      "AGGF1P6               2           1  \n",
      "ZNF618              978        1184  \n",
      "             Sample_geo_accession                Stage           cell type\n",
      "Sample Title                                                              \n",
      "FM_1                   GSM2344965  primary melanocytes  normal melanocytes\n",
      "FM_2                   GSM2344966  primary melanocytes  normal melanocytes\n",
      "FM_3                   GSM2344967  primary melanocytes  normal melanocytes\n",
      "SK_MEL_28_1            GSM2344968           metastatic  melanoma cell line\n",
      "SK_MEL_28_2            GSM2344969           metastatic  melanoma cell line\n"
     ]
    }
   ],
   "source": [
    "#Import the data and show the first five rows of each DataFrame\n",
    "df = pd.read_csv('GSE88741-expression.txt', sep='\\t', index_col=0)\n",
    "\n",
    "# Take a random sample of 100 genes from the DataFrame\n",
    "# Again, we're setting the random state so we all get the same random set\n",
    "df_sample = df.sample(100, axis = 0, random_state = 333)\n",
    "\n",
    "# Get the metadata from the Excel spreadsheet\n",
    "meta = pd.read_excel(\"GSE88741-metadata.xlsx\", index_col=1)\n",
    "\n",
    "# Print the head of each\n",
    "print (df_sample.head())\n",
    "print (meta.head())"
   ]
  },
  {
   "cell_type": "code",
   "execution_count": 20,
   "metadata": {},
   "outputs": [
    {
     "name": "stdout",
     "output_type": "stream",
     "text": [
      "Sample Title     FM_1     FM_2     FM_3  SK_MEL_28_1  SK_MEL_28_2  \\\n",
      "gene_symbol                                                         \n",
      "ASPDH            1.00     1.00     1.00         4.00         0.01   \n",
      "KRT18P19         0.01     0.01     0.01         1.00         0.01   \n",
      "ANKIB1        2578.00  2432.00  2067.00      2634.00      3238.00   \n",
      "AGGF1P6          0.01     0.01     0.01         0.01         0.01   \n",
      "ZNF618        1489.00  1441.00  1089.00       997.00      1088.00   \n",
      "\n",
      "Sample Title  SK_MEL_28_3  SK_MEL_147_1  SK_MEL_147_2  SK_MEL_147_3  \\\n",
      "gene_symbol                                                           \n",
      "ASPDH                1.00          2.00          1.00          1.00   \n",
      "KRT18P19             0.01          2.00          1.00          2.00   \n",
      "ANKIB1            3158.00       2373.00       1908.00       2324.00   \n",
      "AGGF1P6              0.01          0.01          0.01          0.01   \n",
      "ZNF618             994.00       1947.00       1521.00       1617.00   \n",
      "\n",
      "Sample Title  UACC_62_1  UACC_62_2  UACC_62_3  \n",
      "gene_symbol                                    \n",
      "ASPDH              2.00       1.00        8.0  \n",
      "KRT18P19           0.01       0.01        2.0  \n",
      "ANKIB1          2918.00    3352.00     3200.0  \n",
      "AGGF1P6            2.00       2.00        1.0  \n",
      "ZNF618          1121.00     978.00     1184.0  \n",
      "Sample Title       FM_1       FM_2       FM_3  SK_MEL_28_1  SK_MEL_28_2  \\\n",
      "gene_symbol                                                               \n",
      "ASPDH          0.000000   0.000000   0.000000     2.000000    -6.643856   \n",
      "KRT18P19      -6.643856  -6.643856  -6.643856     0.000000    -6.643856   \n",
      "ANKIB1        11.332037  11.247928  11.013323    11.363040    11.660887   \n",
      "AGGF1P6       -6.643856  -6.643856  -6.643856    -6.643856    -6.643856   \n",
      "ZNF618        10.540128  10.492855  10.088788     9.961450    10.087463   \n",
      "\n",
      "Sample Title  SK_MEL_28_3  SK_MEL_147_1  SK_MEL_147_2  SK_MEL_147_3  \\\n",
      "gene_symbol                                                           \n",
      "ASPDH            0.000000      1.000000      0.000000      0.000000   \n",
      "KRT18P19        -6.643856      1.000000      0.000000      1.000000   \n",
      "ANKIB1          11.624795     11.212496     10.897845     11.182394   \n",
      "AGGF1P6         -6.643856     -6.643856     -6.643856     -6.643856   \n",
      "ZNF618           9.957102     10.927037     10.570804     10.659104   \n",
      "\n",
      "Sample Title  UACC_62_1  UACC_62_2  UACC_62_3  \n",
      "gene_symbol                                    \n",
      "ASPDH          1.000000   0.000000   3.000000  \n",
      "KRT18P19      -6.643856  -6.643856   1.000000  \n",
      "ANKIB1        11.510764  11.710806  11.643856  \n",
      "AGGF1P6        1.000000   1.000000   0.000000  \n",
      "ZNF618        10.130571   9.933691  10.209453  \n"
     ]
    }
   ],
   "source": [
    "# Assign the sample titles to the columns in the data frame with the expression values\n",
    "columns = meta.index\n",
    "df_sample.columns = columns\n",
    "\n",
    "# We want to look at the log2-transformed data values. To do this without getting negative infinity values, \n",
    "# we will nudge the values that have 0 counts to be 0.01.\n",
    "dfnz = df_sample\n",
    "dfnz[dfnz == 0] = 0.01\n",
    "print(dfnz.head())\n",
    "\n",
    "# Do the log2 transform\n",
    "df_log2 = dfnz.transform(np.log2)\n",
    "print(df_log2.head())"
   ]
  },
  {
   "cell_type": "markdown",
   "metadata": {},
   "source": [
    "### Relational Plots\n",
    "\n",
    "We mentioned in an earlier class that `pandas` is built on top of `numpy` to provide easier syntax, easier to read code, and more visually appealing tables. Similarly, `seaborn` is a wrapper around `matplotlib` that makes a fairly complex but powerful library more accessible. We will be showing you both at the same time, as we think `seaborn` is easier to learn and use.  \n",
    "\n",
    "Scatter plots or line plots are useful for showing the relationship between two variables. Let's start by comparing two replicate samples, FM_1 and FM_2 across all genes in our log2 transformed sampleset."
   ]
  },
  {
   "cell_type": "code",
   "execution_count": 21,
   "metadata": {
    "scrolled": true
   },
   "outputs": [
    {
     "data": {
      "image/png": "[encoded data removed]",
      "text/plain": [
       "<Figure size 360x360 with 1 Axes>"
      ]
     },
     "metadata": {
      "needs_background": "light"
     },
     "output_type": "display_data"
    }
   ],
   "source": [
    "g = sns.relplot(x=\"FM_1\", y=\"FM_2\", data=df_log2)\n",
    "plt.show()"
   ]
  },
  {
   "cell_type": "code",
   "execution_count": 22,
   "metadata": {},
   "outputs": [
    {
     "data": {
      "text/plain": [
       "<seaborn.axisgrid.FacetGrid at 0x1312dcc8e48>"
      ]
     },
     "execution_count": 22,
     "metadata": {},
     "output_type": "execute_result"
    }
   ],
   "source": [
    "g"
   ]
  },
  {
   "cell_type": "markdown",
   "metadata": {},
   "source": [
    "So, right off the bat we are mixing `sns` and `plt`. In the first line of code we are calling the sns function `relplot`, which defaults to a scatterplot. You can also use `relplot` to show lines with confidence intervals (give it a try). \n",
    "\n",
    "Notice that we assign the plot to a variable, and then use plt.show from `matplotlib` to print the plot. This is one of several ways to print plots. You will also often see code blocks that simply end with a plotting function, which has a similar output.\n",
    "\n",
    "When you make a plot using `plt` or `sns` you can build it element by element. Let's repeat the plot from above, but add lines using the `plt.plot` that show the cutoff for a two-fold change. Since our data is in log2, we simply need lines one step out from the identity line (y=x)."
   ]
  },
  {
   "cell_type": "code",
   "execution_count": 23,
   "metadata": {},
   "outputs": [
    {
     "data": {
      "image/png": "[encoded data removed]",
      "text/plain": [
       "<Figure size 360x360 with 1 Axes>"
      ]
     },
     "metadata": {
      "needs_background": "light"
     },
     "output_type": "display_data"
    }
   ],
   "source": [
    "g = sns.relplot(x=\"FM_1\", y=\"FM_2\", data=df_log2)\n",
    "plt.plot([-7,15],[-6,16],'k')\n",
    "plt.plot([-6,16],[-7,15],'k')\n",
    "plt.show()"
   ]
  },
  {
   "cell_type": "code",
   "execution_count": 24,
   "metadata": {
    "scrolled": false
   },
   "outputs": [
    {
     "data": {
      "image/png": "[encoded data removed]",
      "text/plain": [
       "<Figure size 360x360 with 1 Axes>"
      ]
     },
     "metadata": {
      "needs_background": "light"
     },
     "output_type": "display_data"
    }
   ],
   "source": [
    "# Now use the same code from above, but compare FM_1 to the metastatic cell line UACC_62_1\n",
    "g = sns.relplot(x=\"FM_1\", y=\"UACC_62_1\", data=df_log2)\n",
    "plt.plot([-7,15],[-6,16],'k')\n",
    "plt.plot([-6,16],[-7,15],'k')\n",
    "plt.show()"
   ]
  },
  {
   "cell_type": "markdown",
   "metadata": {},
   "source": [
    "### Categorical Plots\n",
    "\n",
    "Remember that all of the libraries we have introduced expect each column to be a different variable and each row a different observation.\n",
    "\n",
    "The dataset we're using consists of four different cell cell lines with three replicates of each. When comparing the samples to each other it makes sense to have the samples as the variable columns and have each gene be an 'observation' of how similar the samples are, gene by gene.\n",
    "\n",
    "Now we want to look at the genes as variables, so we first transpose the data. We also want to add categorical data for each sample so we can group or color by the 'Stage' or 'SampleName' variables. "
   ]
  },
  {
   "cell_type": "code",
   "execution_count": 25,
   "metadata": {
    "scrolled": true
   },
   "outputs": [
    {
     "data": {
      "text/html": [
       "<div>\n",
       "<style scoped>\n",
       "    .dataframe tbody tr th:only-of-type {\n",
       "        vertical-align: middle;\n",
       "    }\n",
       "\n",
       "    .dataframe tbody tr th {\n",
       "        vertical-align: top;\n",
       "    }\n",
       "\n",
       "    .dataframe thead th {\n",
       "        text-align: right;\n",
       "    }\n",
       "</style>\n",
       "<table border=\"1\" class=\"dataframe\">\n",
       "  <thead>\n",
       "    <tr style=\"text-align: right;\">\n",
       "      <th>gene_symbol</th>\n",
       "      <th>ASPDH</th>\n",
       "      <th>KRT18P19</th>\n",
       "      <th>ANKIB1</th>\n",
       "      <th>AGGF1P6</th>\n",
       "      <th>ZNF618</th>\n",
       "      <th>IMPG2</th>\n",
       "      <th>SLC26A6</th>\n",
       "      <th>RP11-28P17.3</th>\n",
       "      <th>CYP51A1P2</th>\n",
       "      <th>UBE3AP2</th>\n",
       "      <th>...</th>\n",
       "      <th>KISS1</th>\n",
       "      <th>AEBP1</th>\n",
       "      <th>EHF</th>\n",
       "      <th>LUM</th>\n",
       "      <th>PLEKHM3</th>\n",
       "      <th>IQCG</th>\n",
       "      <th>AQP7P4</th>\n",
       "      <th>IGLV1-41</th>\n",
       "      <th>Stage</th>\n",
       "      <th>SampleName</th>\n",
       "    </tr>\n",
       "    <tr>\n",
       "      <th>Sample Title</th>\n",
       "      <th></th>\n",
       "      <th></th>\n",
       "      <th></th>\n",
       "      <th></th>\n",
       "      <th></th>\n",
       "      <th></th>\n",
       "      <th></th>\n",
       "      <th></th>\n",
       "      <th></th>\n",
       "      <th></th>\n",
       "      <th></th>\n",
       "      <th></th>\n",
       "      <th></th>\n",
       "      <th></th>\n",
       "      <th></th>\n",
       "      <th></th>\n",
       "      <th></th>\n",
       "      <th></th>\n",
       "      <th></th>\n",
       "      <th></th>\n",
       "      <th></th>\n",
       "    </tr>\n",
       "  </thead>\n",
       "  <tbody>\n",
       "    <tr>\n",
       "      <th>FM_1</th>\n",
       "      <td>0.000000</td>\n",
       "      <td>-6.643856</td>\n",
       "      <td>11.332037</td>\n",
       "      <td>-6.643856</td>\n",
       "      <td>10.540128</td>\n",
       "      <td>3.700440</td>\n",
       "      <td>10.112440</td>\n",
       "      <td>-6.643856</td>\n",
       "      <td>1.000000</td>\n",
       "      <td>0.000000</td>\n",
       "      <td>...</td>\n",
       "      <td>-6.643856</td>\n",
       "      <td>13.934520</td>\n",
       "      <td>-6.643856</td>\n",
       "      <td>2.807355</td>\n",
       "      <td>9.832890</td>\n",
       "      <td>8.011227</td>\n",
       "      <td>-6.643856</td>\n",
       "      <td>1.000000</td>\n",
       "      <td>primary melanocytes</td>\n",
       "      <td>FM</td>\n",
       "    </tr>\n",
       "    <tr>\n",
       "      <th>FM_2</th>\n",
       "      <td>0.000000</td>\n",
       "      <td>-6.643856</td>\n",
       "      <td>11.247928</td>\n",
       "      <td>-6.643856</td>\n",
       "      <td>10.492855</td>\n",
       "      <td>3.169925</td>\n",
       "      <td>9.575539</td>\n",
       "      <td>-6.643856</td>\n",
       "      <td>-6.643856</td>\n",
       "      <td>1.584963</td>\n",
       "      <td>...</td>\n",
       "      <td>-6.643856</td>\n",
       "      <td>13.626394</td>\n",
       "      <td>-6.643856</td>\n",
       "      <td>1.000000</td>\n",
       "      <td>9.652845</td>\n",
       "      <td>7.366322</td>\n",
       "      <td>-6.643856</td>\n",
       "      <td>-6.643856</td>\n",
       "      <td>primary melanocytes</td>\n",
       "      <td>FM</td>\n",
       "    </tr>\n",
       "    <tr>\n",
       "      <th>FM_3</th>\n",
       "      <td>0.000000</td>\n",
       "      <td>-6.643856</td>\n",
       "      <td>11.013323</td>\n",
       "      <td>-6.643856</td>\n",
       "      <td>10.088788</td>\n",
       "      <td>3.906891</td>\n",
       "      <td>10.558421</td>\n",
       "      <td>1.000000</td>\n",
       "      <td>2.321928</td>\n",
       "      <td>0.000000</td>\n",
       "      <td>...</td>\n",
       "      <td>-6.643856</td>\n",
       "      <td>14.614135</td>\n",
       "      <td>0.000000</td>\n",
       "      <td>10.437752</td>\n",
       "      <td>9.231221</td>\n",
       "      <td>7.499846</td>\n",
       "      <td>-6.643856</td>\n",
       "      <td>-6.643856</td>\n",
       "      <td>primary melanocytes</td>\n",
       "      <td>FM</td>\n",
       "    </tr>\n",
       "    <tr>\n",
       "      <th>SK_MEL_28_1</th>\n",
       "      <td>2.000000</td>\n",
       "      <td>0.000000</td>\n",
       "      <td>11.363040</td>\n",
       "      <td>-6.643856</td>\n",
       "      <td>9.961450</td>\n",
       "      <td>2.000000</td>\n",
       "      <td>9.816984</td>\n",
       "      <td>-6.643856</td>\n",
       "      <td>1.584963</td>\n",
       "      <td>2.000000</td>\n",
       "      <td>...</td>\n",
       "      <td>-6.643856</td>\n",
       "      <td>0.000000</td>\n",
       "      <td>0.000000</td>\n",
       "      <td>10.726218</td>\n",
       "      <td>9.224002</td>\n",
       "      <td>6.870365</td>\n",
       "      <td>-6.643856</td>\n",
       "      <td>-6.643856</td>\n",
       "      <td>metastatic</td>\n",
       "      <td>SK_MEL_28</td>\n",
       "    </tr>\n",
       "    <tr>\n",
       "      <th>SK_MEL_28_2</th>\n",
       "      <td>-6.643856</td>\n",
       "      <td>-6.643856</td>\n",
       "      <td>11.660887</td>\n",
       "      <td>-6.643856</td>\n",
       "      <td>10.087463</td>\n",
       "      <td>1.000000</td>\n",
       "      <td>10.142107</td>\n",
       "      <td>-6.643856</td>\n",
       "      <td>1.584963</td>\n",
       "      <td>0.000000</td>\n",
       "      <td>...</td>\n",
       "      <td>-6.643856</td>\n",
       "      <td>1.584963</td>\n",
       "      <td>2.584963</td>\n",
       "      <td>11.088788</td>\n",
       "      <td>9.335390</td>\n",
       "      <td>7.348728</td>\n",
       "      <td>-6.643856</td>\n",
       "      <td>-6.643856</td>\n",
       "      <td>metastatic</td>\n",
       "      <td>SK_MEL_28</td>\n",
       "    </tr>\n",
       "  </tbody>\n",
       "</table>\n",
       "<p>5 rows × 102 columns</p>\n",
       "</div>"
      ],
      "text/plain": [
       "gene_symbol      ASPDH  KRT18P19     ANKIB1   AGGF1P6     ZNF618     IMPG2  \\\n",
       "Sample Title                                                                 \n",
       "FM_1          0.000000 -6.643856  11.332037 -6.643856  10.540128  3.700440   \n",
       "FM_2          0.000000 -6.643856  11.247928 -6.643856  10.492855  3.169925   \n",
       "FM_3          0.000000 -6.643856  11.013323 -6.643856  10.088788  3.906891   \n",
       "SK_MEL_28_1   2.000000  0.000000  11.363040 -6.643856   9.961450  2.000000   \n",
       "SK_MEL_28_2  -6.643856 -6.643856  11.660887 -6.643856  10.087463  1.000000   \n",
       "\n",
       "gene_symbol     SLC26A6  RP11-28P17.3  CYP51A1P2   UBE3AP2  ...     KISS1  \\\n",
       "Sample Title                                                ...             \n",
       "FM_1          10.112440     -6.643856   1.000000  0.000000  ... -6.643856   \n",
       "FM_2           9.575539     -6.643856  -6.643856  1.584963  ... -6.643856   \n",
       "FM_3          10.558421      1.000000   2.321928  0.000000  ... -6.643856   \n",
       "SK_MEL_28_1    9.816984     -6.643856   1.584963  2.000000  ... -6.643856   \n",
       "SK_MEL_28_2   10.142107     -6.643856   1.584963  0.000000  ... -6.643856   \n",
       "\n",
       "gene_symbol       AEBP1       EHF        LUM   PLEKHM3      IQCG    AQP7P4  \\\n",
       "Sample Title                                                                 \n",
       "FM_1          13.934520 -6.643856   2.807355  9.832890  8.011227 -6.643856   \n",
       "FM_2          13.626394 -6.643856   1.000000  9.652845  7.366322 -6.643856   \n",
       "FM_3          14.614135  0.000000  10.437752  9.231221  7.499846 -6.643856   \n",
       "SK_MEL_28_1    0.000000  0.000000  10.726218  9.224002  6.870365 -6.643856   \n",
       "SK_MEL_28_2    1.584963  2.584963  11.088788  9.335390  7.348728 -6.643856   \n",
       "\n",
       "gene_symbol   IGLV1-41                Stage  SampleName  \n",
       "Sample Title                                             \n",
       "FM_1          1.000000  primary melanocytes          FM  \n",
       "FM_2         -6.643856  primary melanocytes          FM  \n",
       "FM_3         -6.643856  primary melanocytes          FM  \n",
       "SK_MEL_28_1  -6.643856           metastatic   SK_MEL_28  \n",
       "SK_MEL_28_2  -6.643856           metastatic   SK_MEL_28  \n",
       "\n",
       "[5 rows x 102 columns]"
      ]
     },
     "execution_count": 25,
     "metadata": {},
     "output_type": "execute_result"
    }
   ],
   "source": [
    "# First, we need to reshape the data frame to be amenable to categorical plots. Seaborn prefers plotting by columns, \n",
    "# so the variables of interest should be in the columns, and the different samples/replicates should be in the rows.\n",
    "# We want to look at gene expression based on a phenotype. So we should also add a column with the phenotype information\n",
    "\n",
    "# Transpose the data frame so that the genes are in the columns.\n",
    "dfT = df_log2.T\n",
    "\n",
    "# Add the phenotype and sample ID information from the \"meta\" data frame\n",
    "dfT['Stage'] = meta.Stage\n",
    "dfT['SampleName'] = dfT.index.str[:-2]\n",
    "\n",
    "dfT.head()"
   ]
  },
  {
   "cell_type": "markdown",
   "metadata": {},
   "source": [
    "Before we move on to gene comparisons, let's do one last sample comparison, now with the replicates averaged together. We do this with the `pandas` groupby and mean commands, followed by re-transposing the DataFrame so the samples are again columns. \n",
    "\n",
    "The `sns` function `pairplot` shows a scatter plot of every pairwise combination of variables. Let's use it to compare each pair of cell lines."
   ]
  },
  {
   "cell_type": "code",
   "execution_count": 26,
   "metadata": {
    "scrolled": true
   },
   "outputs": [
    {
     "data": {
      "text/plain": [
       "<seaborn.axisgrid.PairGrid at 0x1312ca8c9e8>"
      ]
     },
     "execution_count": 26,
     "metadata": {},
     "output_type": "execute_result"
    },
    {
     "data": {
      "image/png": "[encoded data removed]",
      "text/plain": [
       "<Figure size 720x720 with 20 Axes>"
      ]
     },
     "metadata": {
      "needs_background": "light"
     },
     "output_type": "display_data"
    }
   ],
   "source": [
    "df_group = dfT.groupby('SampleName').mean()\n",
    "df_group = df_group.T\n",
    "sns.pairplot(df_group)"
   ]
  },
  {
   "cell_type": "markdown",
   "metadata": {},
   "source": [
    "Now that the data frame is properly organized, we want to find a gene of interest to focus on in our plots. To do this, we'll calculate the gene with the maximum difference between normal and cancer cells. Let's take a look at the metadata to remind ourselves how the data is structured."
   ]
  },
  {
   "cell_type": "code",
   "execution_count": 27,
   "metadata": {},
   "outputs": [
    {
     "name": "stdout",
     "output_type": "stream",
     "text": [
      "             Sample_geo_accession                Stage           cell type\n",
      "Sample Title                                                              \n",
      "FM_1                   GSM2344965  primary melanocytes  normal melanocytes\n",
      "FM_2                   GSM2344966  primary melanocytes  normal melanocytes\n",
      "FM_3                   GSM2344967  primary melanocytes  normal melanocytes\n",
      "SK_MEL_28_1            GSM2344968           metastatic  melanoma cell line\n",
      "SK_MEL_28_2            GSM2344969           metastatic  melanoma cell line\n",
      "SK_MEL_28_3            GSM2344970           metastatic  melanoma cell line\n",
      "SK_MEL_147_1           GSM2344971           metastatic  melanoma cell line\n",
      "SK_MEL_147_2           GSM2344972           metastatic  melanoma cell line\n",
      "SK_MEL_147_3           GSM2344973           metastatic  melanoma cell line\n",
      "UACC_62_1              GSM2344974           metastatic  melanoma cell line\n",
      "UACC_62_2              GSM2344975           metastatic  melanoma cell line\n",
      "UACC_62_3              GSM2344976           metastatic  melanoma cell line\n"
     ]
    }
   ],
   "source": [
    "print(meta)"
   ]
  },
  {
   "cell_type": "code",
   "execution_count": 28,
   "metadata": {},
   "outputs": [
    {
     "name": "stdout",
     "output_type": "stream",
     "text": [
      "Sample Title       FM_1       FM_2       FM_3\n",
      "gene_symbol                                  \n",
      "ASPDH          0.000000   0.000000   0.000000\n",
      "KRT18P19      -6.643856  -6.643856  -6.643856\n",
      "ANKIB1        11.332037  11.247928  11.013323\n",
      "AGGF1P6       -6.643856  -6.643856  -6.643856\n",
      "ZNF618        10.540128  10.492855  10.088788\n",
      "Sample Title  SK_MEL_28_1  SK_MEL_28_2  SK_MEL_28_3  SK_MEL_147_1  \\\n",
      "gene_symbol                                                         \n",
      "ASPDH            2.000000    -6.643856     0.000000      1.000000   \n",
      "KRT18P19         0.000000    -6.643856    -6.643856      1.000000   \n",
      "ANKIB1          11.363040    11.660887    11.624795     11.212496   \n",
      "AGGF1P6         -6.643856    -6.643856    -6.643856     -6.643856   \n",
      "ZNF618           9.961450    10.087463     9.957102     10.927037   \n",
      "\n",
      "Sample Title  SK_MEL_147_2  SK_MEL_147_3  UACC_62_1  UACC_62_2  UACC_62_3  \n",
      "gene_symbol                                                                \n",
      "ASPDH             0.000000      0.000000   1.000000   0.000000   3.000000  \n",
      "KRT18P19          0.000000      1.000000  -6.643856  -6.643856   1.000000  \n",
      "ANKIB1           10.897845     11.182394  11.510764  11.710806  11.643856  \n",
      "AGGF1P6          -6.643856     -6.643856   1.000000   1.000000   0.000000  \n",
      "ZNF618           10.570804     10.659104  10.130571   9.933691  10.209453  \n"
     ]
    }
   ],
   "source": [
    "# To do this, we start by creating separate data frames for the Normal and the Metastatic samples.\n",
    "\n",
    "#slicing out the normal and metastatic samples\n",
    "FMnorm = df_log2.iloc[:,0:3]\n",
    "Metastatic = df_log2.iloc[:,3:]\n",
    "\n",
    "print(FMnorm.head())\n",
    "print(Metastatic.head())"
   ]
  },
  {
   "cell_type": "code",
   "execution_count": 29,
   "metadata": {},
   "outputs": [
    {
     "name": "stdout",
     "output_type": "stream",
     "text": [
      "gene_symbol\n",
      "EHF              -7.203594\n",
      "AC104073.1       -7.088185\n",
      "FOXC1            -6.114591\n",
      "LUM              -5.966445\n",
      "APOF             -5.871157\n",
      "AC010731.4       -4.242528\n",
      "KRT18P19         -4.024365\n",
      "ZNF676           -2.954035\n",
      "AC243945.1       -2.824825\n",
      "DGKI             -2.543371\n",
      "AGGF1P6          -2.436841\n",
      "CHRNA7           -2.420790\n",
      "SLC10A1          -2.325730\n",
      "PRELID2P1        -2.325730\n",
      "HNRNPA1P29       -2.214619\n",
      "DYNLT3           -2.186492\n",
      "AC064850.4       -1.840963\n",
      "KISS1            -1.809746\n",
      "RPS6KA6          -1.625172\n",
      "RECQL4           -1.579509\n",
      "DTX3L            -1.125415\n",
      "SULT1A1          -0.877127\n",
      "AQP7P4           -0.849317\n",
      "ZNF343           -0.771921\n",
      "NCMAP            -0.757974\n",
      "RP11-25J3.2      -0.738206\n",
      "RP11-11A5.1      -0.738206\n",
      "RCC2             -0.655997\n",
      "SHMT1            -0.655026\n",
      "BCAP31           -0.634210\n",
      "                   ...    \n",
      "DYNC2H1           0.462046\n",
      "TNNC1             0.486758\n",
      "NBPF17P           0.513305\n",
      "IQCG              0.555745\n",
      "RP11-113C12.2     0.564805\n",
      "ZNF24             0.614500\n",
      "GRAMD3            0.724286\n",
      "MOB3A             0.744443\n",
      "CPAMD8            0.756179\n",
      "GS1-259H13.13     1.015079\n",
      "TSNAXIP1          1.163544\n",
      "NAP1L4P3          1.426278\n",
      "MARCKSL1          1.629882\n",
      "ARIH2P1           1.683737\n",
      "HMGN1P18          1.717515\n",
      "WDR19             1.797676\n",
      "MPDZ              1.818240\n",
      "RP11-537E18.1     1.992397\n",
      "SYN1              2.007163\n",
      "MTND5P27          2.214619\n",
      "IGLV1-41          2.547952\n",
      "CDIP1             3.380546\n",
      "MTSS1             3.830662\n",
      "UBE3AP2           3.997130\n",
      "HNRNPCP10         4.108241\n",
      "CTD-2587H24.1     4.594999\n",
      "ELFN1             5.163275\n",
      "KIF5A             5.405564\n",
      "MTCO1P42          6.804843\n",
      "AEBP1            13.160926\n",
      "Length: 100, dtype: float64\n"
     ]
    }
   ],
   "source": [
    "# Then calculating the means of each type\n",
    "FMmean = FMnorm.mean(1)\n",
    "MetastaticMean = Metastatic.mean(1)\n",
    "\n",
    "# Calculating the difference of the means\n",
    "MeanDiff = FMmean - MetastaticMean\n",
    "\n",
    "# Finding the max and the minimum means\n",
    "maxDiffGene = MeanDiff.idxmax()\n",
    "minDiffGene = MeanDiff.idxmin()\n",
    "\n",
    "print(MeanDiff.sort_values())"
   ]
  },
  {
   "cell_type": "code",
   "execution_count": 30,
   "metadata": {},
   "outputs": [
    {
     "name": "stdout",
     "output_type": "stream",
     "text": [
      "AEBP1\n",
      "Sample Title\n",
      "FM_1    13.934520\n",
      "FM_2    13.626394\n",
      "FM_3    14.614135\n",
      "Name: AEBP1, dtype: float64\n",
      "Sample Title\n",
      "SK_MEL_28_1     0.000000\n",
      "SK_MEL_28_2     1.584963\n",
      "SK_MEL_28_3     2.321928\n",
      "SK_MEL_147_1    1.000000\n",
      "SK_MEL_147_2    0.000000\n",
      "SK_MEL_147_3    0.000000\n",
      "UACC_62_1       0.000000\n",
      "UACC_62_2       1.584963\n",
      "UACC_62_3       1.584963\n",
      "Name: AEBP1, dtype: float64\n"
     ]
    }
   ],
   "source": [
    "print(maxDiffGene) #Note that gene of interest will be \"AEBP1\"\n",
    "print(FMnorm.loc[maxDiffGene])\n",
    "print(Metastatic.loc[maxDiffGene])"
   ]
  },
  {
   "cell_type": "markdown",
   "metadata": {},
   "source": [
    "There are many ways to plot categorical data like bar, box and whisker, swarm plots. Let's look at the expression of AEBP1 using each of these methods. There are separate methods for each, but they are pulled together for convenience in one function, `catplot`. "
   ]
  },
  {
   "cell_type": "code",
   "execution_count": null,
   "metadata": {},
   "outputs": [],
   "source": [
    "# Starting off with a bar plot\n",
    "g = sns.catplot(x = 'Stage',y='AEBP1', data=dfT, kind=\"bar\")\n",
    "plt.show()\n",
    "# Note that the error bars are plotted by default"
   ]
  },
  {
   "cell_type": "code",
   "execution_count": null,
   "metadata": {},
   "outputs": [],
   "source": [
    "g = sns.catplot(x = 'Stage',y='AEBP1', data=dfT, kind=\"box\")\n",
    "plt.show()"
   ]
  },
  {
   "cell_type": "code",
   "execution_count": null,
   "metadata": {},
   "outputs": [],
   "source": [
    "g = sns.catplot(x = 'Stage',y = 'AEBP1', data=dfT, kind=\"swarm\")\n",
    "plt.show()"
   ]
  },
  {
   "cell_type": "markdown",
   "metadata": {},
   "source": [
    "We can add a third, fourth, or fifth dimension of categorical data by changing the color, shape, or size of the markers. Let's set the hue by 'SampleName'."
   ]
  },
  {
   "cell_type": "code",
   "execution_count": null,
   "metadata": {},
   "outputs": [],
   "source": [
    "g = sns.catplot(x = 'Stage',y = 'AEBP1',hue = 'SampleName', data=dfT, kind=\"swarm\")\n",
    "plt.show()"
   ]
  },
  {
   "cell_type": "markdown",
   "metadata": {},
   "source": [
    "You can also plot multiple overlapping plots to "
   ]
  },
  {
   "cell_type": "code",
   "execution_count": 31,
   "metadata": {},
   "outputs": [
    {
     "data": {
      "image/png": "[encoded data removed]",
      "text/plain": [
       "<Figure size 360x360 with 1 Axes>"
      ]
     },
     "metadata": {
      "needs_background": "light"
     },
     "output_type": "display_data"
    }
   ],
   "source": [
    "g = sns.catplot(x=\"Stage\", y=\"AEBP1\", kind=\"box\", data=dfT)\n",
    "sns.swarmplot(x=\"Stage\", y=\"AEBP1\", color=\"k\", size=7, data=dfT, ax=g.ax);"
   ]
  }
 ],
 "metadata": {
  "kernelspec": {
   "display_name": "Python 3",
   "language": "python",
   "name": "python3"
  },
  "language_info": {
   "codemirror_mode": {
    "name": "ipython",
    "version": 3
   },
   "file_extension": ".py",
   "mimetype": "text/x-python",
   "name": "python",
   "nbconvert_exporter": "python",
   "pygments_lexer": "ipython3",
   "version": "3.7.1"
  }
 },
 "nbformat": 4,
 "nbformat_minor": 2
}
