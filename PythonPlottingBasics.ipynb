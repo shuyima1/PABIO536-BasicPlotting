{
 "cells": [
  {
   "cell_type": "code",
   "execution_count": 2,
   "metadata": {},
   "outputs": [],
   "source": [
    "import matplotlib.pyplot as plt\n",
    "import numpy as np\n",
    "import pandas as pd\n",
    "import seaborn as sns"
   ]
  },
  {
   "cell_type": "code",
   "execution_count": 118,
   "metadata": {},
   "outputs": [
    {
     "name": "stdout",
     "output_type": "stream",
     "text": [
      "             GSM2344965  GSM2344966  GSM2344967  GSM2344968  GSM2344969  \\\n",
      "gene_symbol                                                               \n",
      "ASPDH                 1           1           1           4           0   \n",
      "KRT18P19              0           0           0           1           0   \n",
      "ANKIB1             2578        2432        2067        2634        3238   \n",
      "AGGF1P6               0           0           0           0           0   \n",
      "ZNF618             1489        1441        1089         997        1088   \n",
      "\n",
      "             GSM2344970  GSM2344971  GSM2344972  GSM2344973  GSM2344974  \\\n",
      "gene_symbol                                                               \n",
      "ASPDH                 1           2           1           1           2   \n",
      "KRT18P19              0           2           1           2           0   \n",
      "ANKIB1             3158        2373        1908        2324        2918   \n",
      "AGGF1P6               0           0           0           0           2   \n",
      "ZNF618              994        1947        1521        1617        1121   \n",
      "\n",
      "             GSM2344975  GSM2344976  \n",
      "gene_symbol                          \n",
      "ASPDH                 1           8  \n",
      "KRT18P19              0           2  \n",
      "ANKIB1             3352        3200  \n",
      "AGGF1P6               2           1  \n",
      "ZNF618              978        1184  \n",
      "             Sample_geo_accession                Stage           cell type\n",
      "Sample Title                                                              \n",
      "FM_1                   GSM2344965  primary melanocytes  normal melanocytes\n",
      "FM_2                   GSM2344966  primary melanocytes  normal melanocytes\n",
      "FM_3                   GSM2344967  primary melanocytes  normal melanocytes\n",
      "SK_MEL_28_1            GSM2344968           metastatic  melanoma cell line\n",
      "SK_MEL_28_2            GSM2344969           metastatic  melanoma cell line\n"
     ]
    }
   ],
   "source": [
    "# The data is tab separated and the first column has the gene names\n",
    "# Remember that most things in python are zero-indexed, so the first\n",
    "# column is index 0\n",
    "df = pd.read_csv('../Pabio536/C4C5_ Numpy_and_pandas/data/GSE88741-expression.txt', sep='\\t', index_col=0)\n",
    "df_sample = df.sample(100, axis = 0, random_state = 333)\n",
    "meta = pd.read_excel(\"../Pabio536/C4C5_ Numpy_and_pandas/data/GSE88741-metadata.xlsx\", index_col=1)\n",
    "print (df_sample.head())\n",
    "print (meta.head())"
   ]
  },
  {
   "cell_type": "code",
   "execution_count": 119,
   "metadata": {},
   "outputs": [
    {
     "name": "stdout",
     "output_type": "stream",
     "text": [
      "Sample Title  FM_1  FM_2  FM_3  SK_MEL_28_1  SK_MEL_28_2  SK_MEL_28_3  \\\n",
      "gene_symbol                                                             \n",
      "ASPDH            1     1     1            4            0            1   \n",
      "KRT18P19         0     0     0            1            0            0   \n",
      "ANKIB1        2578  2432  2067         2634         3238         3158   \n",
      "AGGF1P6          0     0     0            0            0            0   \n",
      "ZNF618        1489  1441  1089          997         1088          994   \n",
      "\n",
      "Sample Title  SK_MEL_147_1  SK_MEL_147_2  SK_MEL_147_3  UACC_62_1  UACC_62_2  \\\n",
      "gene_symbol                                                                    \n",
      "ASPDH                    2             1             1          2          1   \n",
      "KRT18P19                 2             1             2          0          0   \n",
      "ANKIB1                2373          1908          2324       2918       3352   \n",
      "AGGF1P6                  0             0             0          2          2   \n",
      "ZNF618                1947          1521          1617       1121        978   \n",
      "\n",
      "Sample Title  UACC_62_3  \n",
      "gene_symbol              \n",
      "ASPDH                 8  \n",
      "KRT18P19              2  \n",
      "ANKIB1             3200  \n",
      "AGGF1P6               1  \n",
      "ZNF618             1184  \n",
      "Index(['ASPDH', 'KRT18P19', 'ANKIB1', 'AGGF1P6', 'ZNF618', 'IMPG2', 'SLC26A6',\n",
      "       'RP11-28P17.3', 'CYP51A1P2', 'UBE3AP2', 'MAPKAPK3', 'DYNLT3', 'TNNC1',\n",
      "       'IGHV3-42', 'OR2W5', 'RPL5P2', 'GRAMD3', 'PRELID2P1', 'MTCO1P42',\n",
      "       'GS1-259H13.13', 'IGKV1D-39', 'AC144568.4', 'SYN1', 'MPDZ', 'DGKI',\n",
      "       'RCC2', 'RPL5P16', 'RP11-74C1.2', 'KIF5A', 'GTF2H1', 'TMEM126B',\n",
      "       'COL1A1', 'APOF', 'SLC35A3', 'NBPF17P', 'TMEM60', 'ELFN1', 'OSBPL9P5',\n",
      "       'AKR1C4', 'MARCKSL1', 'TRAPPC2B', 'GU182343.7', 'NCMAP', 'ZNF676',\n",
      "       'BMPR1A', 'RP11-133L14.2', 'WDR19', 'RP11-11A5.1', 'CTD-2587H24.1',\n",
      "       'TAF1D', 'SLC10A1', 'RP11-552J9.11', 'BCAP31', 'RPS6KA6',\n",
      "       'RP11-216F5.1', 'PGBD2', 'NAP1L4P3', 'TSNAXIP1', 'CHRNA7',\n",
      "       'RP11-307F22.2', 'DYNC2H1', 'AC064850.4', 'AC104073.1', 'MTSS1',\n",
      "       'ZCCHC17', 'AC010731.4', 'RP11-359P14.3', 'IFT74', 'FOXC1',\n",
      "       'RP11-537E18.1', 'CDIP1', 'SULT1A1', 'MTND5P27', 'ARIH2P1',\n",
      "       'AC243945.1', 'SLC7A15P', 'HNRNPCP10', 'SHMT1', 'OR1N2', 'ZNF343',\n",
      "       'RECQL4', 'DTX3L', 'CPAMD8', 'CLUHP1', 'HMGN1P18', 'RP11-25J3.2',\n",
      "       'NBAS', 'SRPK2P', 'RP11-113C12.2', 'ZNF24', 'MOB3A', 'HNRNPA1P29',\n",
      "       'KISS1', 'AEBP1', 'EHF', 'LUM', 'PLEKHM3', 'IQCG', 'AQP7P4',\n",
      "       'IGLV1-41'],\n",
      "      dtype='object', name='gene_symbol')\n"
     ]
    }
   ],
   "source": [
    "columns = meta.index\n",
    "df_sample.columns = columns\n",
    "print (df_sample.head())\n",
    "print(df_sample.index)"
   ]
  },
  {
   "cell_type": "code",
   "execution_count": 23,
   "metadata": {},
   "outputs": [
    {
     "name": "stdout",
     "output_type": "stream",
     "text": [
      "             Sample_geo_accession                Stage           cell type\n",
      "Sample Title                                                              \n",
      "FM_1                   GSM2344965  primary melanocytes  normal melanocytes\n",
      "FM_2                   GSM2344966  primary melanocytes  normal melanocytes\n",
      "FM_3                   GSM2344967  primary melanocytes  normal melanocytes\n",
      "SK_MEL_28_1            GSM2344968           metastatic  melanoma cell line\n",
      "SK_MEL_28_2            GSM2344969           metastatic  melanoma cell line\n",
      "SK_MEL_28_3            GSM2344970           metastatic  melanoma cell line\n",
      "SK_MEL_147_1           GSM2344971           metastatic  melanoma cell line\n",
      "SK_MEL_147_2           GSM2344972           metastatic  melanoma cell line\n",
      "SK_MEL_147_3           GSM2344973           metastatic  melanoma cell line\n",
      "UACC_62_1              GSM2344974           metastatic  melanoma cell line\n",
      "UACC_62_2              GSM2344975           metastatic  melanoma cell line\n",
      "UACC_62_3              GSM2344976           metastatic  melanoma cell line\n",
      "Sample Title  FM_1  FM_2  FM_3\n",
      "gene_symbol                   \n",
      "ASPDH            1     1     1\n",
      "KRT18P19         0     0     0\n",
      "ANKIB1        2578  2432  2067\n",
      "AGGF1P6          0     0     0\n",
      "ZNF618        1489  1441  1089\n",
      "Sample Title  UACC_62_1  UACC_62_2  UACC_62_3\n",
      "gene_symbol                                  \n",
      "ASPDH                 2          1          8\n",
      "KRT18P19              0          0          2\n",
      "ANKIB1             2918       3352       3200\n",
      "AGGF1P6               2          2          1\n",
      "ZNF618             1121        978       1184\n"
     ]
    }
   ],
   "source": [
    "#print(df_sample.index)\n",
    "#print(df_sample.iloc[1,:5])\n",
    "#print(df_sample.mean(1))\n",
    "print(meta)\n",
    "FMnorm = df_sample.iloc[:,0:3]\n",
    "UACCmetastatic = df_sample.iloc[:,-3:]\n",
    "print(FMnorm.head())\n",
    "print(UACCmetastatic.head())"
   ]
  },
  {
   "cell_type": "code",
   "execution_count": 41,
   "metadata": {},
   "outputs": [
    {
     "name": "stdout",
     "output_type": "stream",
     "text": [
      "gene_symbol\n",
      "BCAP31           -5739.666667\n",
      "RCC2             -5082.666667\n",
      "DYNLT3           -4202.000000\n",
      "ZCCHC17          -1588.333333\n",
      "RECQL4           -1434.666667\n",
      "SHMT1            -1121.333333\n",
      "LUM              -1102.666667\n",
      "FOXC1            -1056.666667\n",
      "DGKI             -1003.333333\n",
      "ANKIB1            -797.666667\n",
      "TAF1D             -699.333333\n",
      "DTX3L             -533.666667\n",
      "SLC26A6           -314.333333\n",
      "TMEM60            -222.333333\n",
      "CHRNA7            -213.666667\n",
      "SULT1A1           -103.666667\n",
      "NBAS               -91.666667\n",
      "IQCG               -80.666667\n",
      "NBPF17P            -27.000000\n",
      "RPS6KA6            -14.666667\n",
      "ZNF343             -14.000000\n",
      "EHF                -14.000000\n",
      "SYN1               -12.333333\n",
      "AC010731.4         -11.666667\n",
      "NCMAP               -6.666667\n",
      "IMPG2               -6.000000\n",
      "TRAPPC2B            -5.000000\n",
      "AC104073.1          -4.666667\n",
      "ASPDH               -2.666667\n",
      "ZNF676              -2.000000\n",
      "                     ...     \n",
      "SRPK2P               1.333333\n",
      "UBE3AP2              1.666667\n",
      "NAP1L4P3             2.000000\n",
      "ARIH2P1              2.000000\n",
      "RP11-113C12.2        2.333333\n",
      "CPAMD8               5.000000\n",
      "TSNAXIP1             8.666667\n",
      "PGBD2               13.000000\n",
      "PLEKHM3             13.666667\n",
      "MTCO1P42            14.000000\n",
      "TMEM126B            33.333333\n",
      "IFT74               58.666667\n",
      "GRAMD3              62.666667\n",
      "BMPR1A              69.333333\n",
      "KIF5A               93.333333\n",
      "SLC35A3            107.333333\n",
      "MAPKAPK3           187.333333\n",
      "DYNC2H1            190.000000\n",
      "ELFN1              209.333333\n",
      "ZNF618             245.333333\n",
      "GTF2H1             508.333333\n",
      "MOB3A              531.666667\n",
      "WDR19              888.000000\n",
      "CDIP1             1601.000000\n",
      "ZNF24             2008.666667\n",
      "MTSS1             2078.333333\n",
      "COL1A1            3033.333333\n",
      "MPDZ              3446.666667\n",
      "MARCKSL1         14141.333333\n",
      "AEBP1            17791.333333\n",
      "Length: 100, dtype: float64\n",
      "AEBP1\n"
     ]
    }
   ],
   "source": [
    "FMmean = FMnorm.mean(1)\n",
    "UACCmean = UACCmetastatic.mean(1)\n",
    "MeanDiff = FMmean - UACCmean\n",
    "maxDiffGene = MeanDiff.idxmax()\n",
    "minDiffGene = MeanDiff.idxmin()\n",
    "print(MeanDiff.sort_values())\n",
    "print(maxDiffGene)"
   ]
  },
  {
   "cell_type": "code",
   "execution_count": 61,
   "metadata": {},
   "outputs": [
    {
     "name": "stdout",
     "output_type": "stream",
     "text": [
      "Sample Title\n",
      "FM_1    4725\n",
      "FM_2    5163\n",
      "FM_3    5492\n",
      "Name: BCAP31, dtype: int64\n",
      "Sample Title\n",
      "UACC_62_1     9605\n",
      "UACC_62_2    12653\n",
      "UACC_62_3    10341\n",
      "Name: BCAP31, dtype: int64\n"
     ]
    }
   ],
   "source": [
    "print(FMnorm.loc[minDiffGene])\n",
    "print(UACCmetastatic.loc[minDiffGene])"
   ]
  },
  {
   "cell_type": "markdown",
   "metadata": {},
   "source": [
    "### Relational Plots"
   ]
  },
  {
   "cell_type": "code",
   "execution_count": 64,
   "metadata": {},
   "outputs": [
    {
     "data": {
      "image/png": "[encoded data removed]",
      "text/plain": [
       "<Figure size 360x360 with 1 Axes>"
      ]
     },
     "metadata": {
      "needs_background": "light"
     },
     "output_type": "display_data"
    }
   ],
   "source": [
    "g = sns.relplot(x=\"FM_1\", y=\"FM_2\", data=FMnorm)\n",
    "plt.show()"
   ]
  },
  {
   "cell_type": "code",
   "execution_count": 99,
   "metadata": {},
   "outputs": [
    {
     "name": "stdout",
     "output_type": "stream",
     "text": [
      "gene_symbol   ASPDH  KRT18P19  ANKIB1  AGGF1P6  ZNF618  IMPG2  SLC26A6  \\\n",
      "Sample Title                                                             \n",
      "FM_1              1         0    2578        0    1489     13     1107   \n",
      "FM_2              1         0    2432        0    1441      9      763   \n",
      "FM_3              1         0    2067        0    1089     15     1508   \n",
      "UACC_62_1         2         0    2918        2    1121     25     1405   \n",
      "UACC_62_2         1         0    3352        2     978     15     1597   \n",
      "UACC_62_3         8         2    3200        1    1184     15     1319   \n",
      "\n",
      "gene_symbol   RP11-28P17.3  CYP51A1P2  UBE3AP2    ...     MOB3A  HNRNPA1P29  \\\n",
      "Sample Title                                      ...                         \n",
      "FM_1                     0          2        1    ...      1488           0   \n",
      "FM_2                     0          0        3    ...      1345           0   \n",
      "FM_3                     2          5        1    ...      1383           0   \n",
      "UACC_62_1                1          2        0    ...       873           1   \n",
      "UACC_62_2                0          0        0    ...       949           0   \n",
      "UACC_62_3                0          2        0    ...       799           1   \n",
      "\n",
      "gene_symbol   KISS1  AEBP1  EHF   LUM  PLEKHM3  IQCG  AQP7P4  IGLV1-41  \n",
      "Sample Title                                                            \n",
      "FM_1              0  15657    0     7      912   258       0         2  \n",
      "FM_2              0  12646    0     2      805   165       0         0  \n",
      "FM_3              0  25078    1  1387      601   181       0         0  \n",
      "UACC_62_1         0      1    9  2247      707   305       2         0  \n",
      "UACC_62_2         0      3   12  1410      760   276       0         0  \n",
      "UACC_62_3         0      3   22  1047      810   265       0         0  \n",
      "\n",
      "[6 rows x 100 columns]\n"
     ]
    }
   ],
   "source": [
    "FM_UACC = pd.concat([FMnorm, UACCmetastatic], axis=1)\n",
    "FM_UACC = FM_UACC.T\n",
    "print(FM_UACC)"
   ]
  },
  {
   "cell_type": "code",
   "execution_count": 103,
   "metadata": {},
   "outputs": [],
   "source": [
    "indices = FM_UACC.index\n",
    "tmp = indices.tolist()\n",
    "metaFM_UACC = meta.loc[tmp]\n",
    "FM_UACC['Stage'] = meta.loc[tmp,'Stage']\n",
    "FM_UACC['SampleName'] = FM_UACC.index"
   ]
  },
  {
   "cell_type": "code",
   "execution_count": 120,
   "metadata": {},
   "outputs": [
    {
     "data": {
      "text/html": [
       "<div>\n",
       "<style scoped>\n",
       "    .dataframe tbody tr th:only-of-type {\n",
       "        vertical-align: middle;\n",
       "    }\n",
       "\n",
       "    .dataframe tbody tr th {\n",
       "        vertical-align: top;\n",
       "    }\n",
       "\n",
       "    .dataframe thead th {\n",
       "        text-align: right;\n",
       "    }\n",
       "</style>\n",
       "<table border=\"1\" class=\"dataframe\">\n",
       "  <thead>\n",
       "    <tr style=\"text-align: right;\">\n",
       "      <th>gene_symbol</th>\n",
       "      <th>ASPDH</th>\n",
       "      <th>KRT18P19</th>\n",
       "      <th>ANKIB1</th>\n",
       "      <th>AGGF1P6</th>\n",
       "      <th>ZNF618</th>\n",
       "      <th>IMPG2</th>\n",
       "      <th>SLC26A6</th>\n",
       "      <th>RP11-28P17.3</th>\n",
       "      <th>CYP51A1P2</th>\n",
       "      <th>UBE3AP2</th>\n",
       "      <th>...</th>\n",
       "      <th>HNRNPA1P29</th>\n",
       "      <th>KISS1</th>\n",
       "      <th>AEBP1</th>\n",
       "      <th>EHF</th>\n",
       "      <th>LUM</th>\n",
       "      <th>PLEKHM3</th>\n",
       "      <th>IQCG</th>\n",
       "      <th>AQP7P4</th>\n",
       "      <th>IGLV1-41</th>\n",
       "      <th>Stage</th>\n",
       "    </tr>\n",
       "    <tr>\n",
       "      <th>Sample Title</th>\n",
       "      <th></th>\n",
       "      <th></th>\n",
       "      <th></th>\n",
       "      <th></th>\n",
       "      <th></th>\n",
       "      <th></th>\n",
       "      <th></th>\n",
       "      <th></th>\n",
       "      <th></th>\n",
       "      <th></th>\n",
       "      <th></th>\n",
       "      <th></th>\n",
       "      <th></th>\n",
       "      <th></th>\n",
       "      <th></th>\n",
       "      <th></th>\n",
       "      <th></th>\n",
       "      <th></th>\n",
       "      <th></th>\n",
       "      <th></th>\n",
       "      <th></th>\n",
       "    </tr>\n",
       "  </thead>\n",
       "  <tbody>\n",
       "    <tr>\n",
       "      <th>FM_1</th>\n",
       "      <td>1</td>\n",
       "      <td>0</td>\n",
       "      <td>2578</td>\n",
       "      <td>0</td>\n",
       "      <td>1489</td>\n",
       "      <td>13</td>\n",
       "      <td>1107</td>\n",
       "      <td>0</td>\n",
       "      <td>2</td>\n",
       "      <td>1</td>\n",
       "      <td>...</td>\n",
       "      <td>0</td>\n",
       "      <td>0</td>\n",
       "      <td>15657</td>\n",
       "      <td>0</td>\n",
       "      <td>7</td>\n",
       "      <td>912</td>\n",
       "      <td>258</td>\n",
       "      <td>0</td>\n",
       "      <td>2</td>\n",
       "      <td>primary melanocytes</td>\n",
       "    </tr>\n",
       "    <tr>\n",
       "      <th>FM_2</th>\n",
       "      <td>1</td>\n",
       "      <td>0</td>\n",
       "      <td>2432</td>\n",
       "      <td>0</td>\n",
       "      <td>1441</td>\n",
       "      <td>9</td>\n",
       "      <td>763</td>\n",
       "      <td>0</td>\n",
       "      <td>0</td>\n",
       "      <td>3</td>\n",
       "      <td>...</td>\n",
       "      <td>0</td>\n",
       "      <td>0</td>\n",
       "      <td>12646</td>\n",
       "      <td>0</td>\n",
       "      <td>2</td>\n",
       "      <td>805</td>\n",
       "      <td>165</td>\n",
       "      <td>0</td>\n",
       "      <td>0</td>\n",
       "      <td>primary melanocytes</td>\n",
       "    </tr>\n",
       "    <tr>\n",
       "      <th>FM_3</th>\n",
       "      <td>1</td>\n",
       "      <td>0</td>\n",
       "      <td>2067</td>\n",
       "      <td>0</td>\n",
       "      <td>1089</td>\n",
       "      <td>15</td>\n",
       "      <td>1508</td>\n",
       "      <td>2</td>\n",
       "      <td>5</td>\n",
       "      <td>1</td>\n",
       "      <td>...</td>\n",
       "      <td>0</td>\n",
       "      <td>0</td>\n",
       "      <td>25078</td>\n",
       "      <td>1</td>\n",
       "      <td>1387</td>\n",
       "      <td>601</td>\n",
       "      <td>181</td>\n",
       "      <td>0</td>\n",
       "      <td>0</td>\n",
       "      <td>primary melanocytes</td>\n",
       "    </tr>\n",
       "    <tr>\n",
       "      <th>SK_MEL_28_1</th>\n",
       "      <td>4</td>\n",
       "      <td>1</td>\n",
       "      <td>2634</td>\n",
       "      <td>0</td>\n",
       "      <td>997</td>\n",
       "      <td>4</td>\n",
       "      <td>902</td>\n",
       "      <td>0</td>\n",
       "      <td>3</td>\n",
       "      <td>4</td>\n",
       "      <td>...</td>\n",
       "      <td>0</td>\n",
       "      <td>0</td>\n",
       "      <td>1</td>\n",
       "      <td>1</td>\n",
       "      <td>1694</td>\n",
       "      <td>598</td>\n",
       "      <td>117</td>\n",
       "      <td>0</td>\n",
       "      <td>0</td>\n",
       "      <td>metastatic</td>\n",
       "    </tr>\n",
       "    <tr>\n",
       "      <th>SK_MEL_28_2</th>\n",
       "      <td>0</td>\n",
       "      <td>0</td>\n",
       "      <td>3238</td>\n",
       "      <td>0</td>\n",
       "      <td>1088</td>\n",
       "      <td>2</td>\n",
       "      <td>1130</td>\n",
       "      <td>0</td>\n",
       "      <td>3</td>\n",
       "      <td>1</td>\n",
       "      <td>...</td>\n",
       "      <td>0</td>\n",
       "      <td>0</td>\n",
       "      <td>3</td>\n",
       "      <td>6</td>\n",
       "      <td>2178</td>\n",
       "      <td>646</td>\n",
       "      <td>163</td>\n",
       "      <td>0</td>\n",
       "      <td>0</td>\n",
       "      <td>metastatic</td>\n",
       "    </tr>\n",
       "  </tbody>\n",
       "</table>\n",
       "<p>5 rows × 101 columns</p>\n",
       "</div>"
      ],
      "text/plain": [
       "gene_symbol   ASPDH  KRT18P19  ANKIB1  AGGF1P6  ZNF618  IMPG2  SLC26A6  \\\n",
       "Sample Title                                                             \n",
       "FM_1              1         0    2578        0    1489     13     1107   \n",
       "FM_2              1         0    2432        0    1441      9      763   \n",
       "FM_3              1         0    2067        0    1089     15     1508   \n",
       "SK_MEL_28_1       4         1    2634        0     997      4      902   \n",
       "SK_MEL_28_2       0         0    3238        0    1088      2     1130   \n",
       "\n",
       "gene_symbol   RP11-28P17.3  CYP51A1P2  UBE3AP2         ...           \\\n",
       "Sample Title                                           ...            \n",
       "FM_1                     0          2        1         ...            \n",
       "FM_2                     0          0        3         ...            \n",
       "FM_3                     2          5        1         ...            \n",
       "SK_MEL_28_1              0          3        4         ...            \n",
       "SK_MEL_28_2              0          3        1         ...            \n",
       "\n",
       "gene_symbol   HNRNPA1P29  KISS1  AEBP1  EHF   LUM  PLEKHM3  IQCG  AQP7P4  \\\n",
       "Sample Title                                                               \n",
       "FM_1                   0      0  15657    0     7      912   258       0   \n",
       "FM_2                   0      0  12646    0     2      805   165       0   \n",
       "FM_3                   0      0  25078    1  1387      601   181       0   \n",
       "SK_MEL_28_1            0      0      1    1  1694      598   117       0   \n",
       "SK_MEL_28_2            0      0      3    6  2178      646   163       0   \n",
       "\n",
       "gene_symbol   IGLV1-41                Stage  \n",
       "Sample Title                                 \n",
       "FM_1                 2  primary melanocytes  \n",
       "FM_2                 0  primary melanocytes  \n",
       "FM_3                 0  primary melanocytes  \n",
       "SK_MEL_28_1          0           metastatic  \n",
       "SK_MEL_28_2          0           metastatic  \n",
       "\n",
       "[5 rows x 101 columns]"
      ]
     },
     "execution_count": 120,
     "metadata": {},
     "output_type": "execute_result"
    }
   ],
   "source": [
    "dfT = df_sample.T\n",
    "dfT['Stage'] = meta.Stage\n",
    "dfT.head()"
   ]
  },
  {
   "cell_type": "markdown",
   "metadata": {},
   "source": [
    "### Categorical Plots"
   ]
  },
  {
   "cell_type": "code",
   "execution_count": 102,
   "metadata": {},
   "outputs": [
    {
     "data": {
      "image/png": "[encoded data removed]",
      "text/plain": [
       "<Figure size 360x360 with 1 Axes>"
      ]
     },
     "metadata": {
      "needs_background": "light"
     },
     "output_type": "display_data"
    }
   ],
   "source": [
    "g = sns.catplot(x = 'Stage',y='BCAP31', data=FM_UACC, kind=\"bar\")\n",
    "plt.show()"
   ]
  },
  {
   "cell_type": "code",
   "execution_count": 109,
   "metadata": {},
   "outputs": [
    {
     "data": {
      "image/png": "[encoded data removed]",
      "text/plain": [
       "<Figure size 360x360 with 1 Axes>"
      ]
     },
     "metadata": {
      "needs_background": "light"
     },
     "output_type": "display_data"
    }
   ],
   "source": [
    "g = sns.catplot(x = 'Stage',y='BCAP31', data=FM_UACC, kind=\"box\")\n",
    "plt.show()"
   ]
  },
  {
   "cell_type": "code",
   "execution_count": 115,
   "metadata": {},
   "outputs": [
    {
     "ename": "ValueError",
     "evalue": "Could not interpret input 'BCAP31'",
     "output_type": "error",
     "traceback": [
      "\u001b[0;31m---------------------------------------------------------------------------\u001b[0m",
      "\u001b[0;31mValueError\u001b[0m                                Traceback (most recent call last)",
      "\u001b[0;32m<ipython-input-115-3aa19f94ff6c>\u001b[0m in \u001b[0;36m<module>\u001b[0;34m\u001b[0m\n\u001b[0;32m----> 1\u001b[0;31m \u001b[0mg\u001b[0m \u001b[0;34m=\u001b[0m \u001b[0msns\u001b[0m\u001b[0;34m.\u001b[0m\u001b[0mcatplot\u001b[0m\u001b[0;34m(\u001b[0m\u001b[0mx\u001b[0m \u001b[0;34m=\u001b[0m \u001b[0;34m'Stage'\u001b[0m\u001b[0;34m,\u001b[0m\u001b[0my\u001b[0m\u001b[0;34m=\u001b[0m\u001b[0;34m'BCAP31'\u001b[0m\u001b[0;34m,\u001b[0m \u001b[0mdata\u001b[0m\u001b[0;34m=\u001b[0m\u001b[0mdf_sample\u001b[0m\u001b[0;34m,\u001b[0m \u001b[0mkind\u001b[0m\u001b[0;34m=\u001b[0m\u001b[0;34m\"box\"\u001b[0m\u001b[0;34m)\u001b[0m\u001b[0;34m\u001b[0m\u001b[0;34m\u001b[0m\u001b[0m\n\u001b[0m\u001b[1;32m      2\u001b[0m \u001b[0mplt\u001b[0m\u001b[0;34m.\u001b[0m\u001b[0mshow\u001b[0m\u001b[0;34m(\u001b[0m\u001b[0;34m)\u001b[0m\u001b[0;34m\u001b[0m\u001b[0;34m\u001b[0m\u001b[0m\n",
      "\u001b[0;32m/anaconda3/lib/python3.7/site-packages/seaborn/categorical.py\u001b[0m in \u001b[0;36mcatplot\u001b[0;34m(x, y, hue, data, row, col, col_wrap, estimator, ci, n_boot, units, order, hue_order, row_order, col_order, kind, height, aspect, orient, color, palette, legend, legend_out, sharex, sharey, margin_titles, facet_kws, **kwargs)\u001b[0m\n\u001b[1;32m   3714\u001b[0m     \u001b[0;31m# facets to ensure representation of all data in the final plot\u001b[0m\u001b[0;34m\u001b[0m\u001b[0;34m\u001b[0m\u001b[0;34m\u001b[0m\u001b[0m\n\u001b[1;32m   3715\u001b[0m     \u001b[0mp\u001b[0m \u001b[0;34m=\u001b[0m \u001b[0m_CategoricalPlotter\u001b[0m\u001b[0;34m(\u001b[0m\u001b[0;34m)\u001b[0m\u001b[0;34m\u001b[0m\u001b[0;34m\u001b[0m\u001b[0m\n\u001b[0;32m-> 3716\u001b[0;31m     \u001b[0mp\u001b[0m\u001b[0;34m.\u001b[0m\u001b[0mestablish_variables\u001b[0m\u001b[0;34m(\u001b[0m\u001b[0mx_\u001b[0m\u001b[0;34m,\u001b[0m \u001b[0my_\u001b[0m\u001b[0;34m,\u001b[0m \u001b[0mhue\u001b[0m\u001b[0;34m,\u001b[0m \u001b[0mdata\u001b[0m\u001b[0;34m,\u001b[0m \u001b[0morient\u001b[0m\u001b[0;34m,\u001b[0m \u001b[0morder\u001b[0m\u001b[0;34m,\u001b[0m \u001b[0mhue_order\u001b[0m\u001b[0;34m)\u001b[0m\u001b[0;34m\u001b[0m\u001b[0;34m\u001b[0m\u001b[0m\n\u001b[0m\u001b[1;32m   3717\u001b[0m     \u001b[0morder\u001b[0m \u001b[0;34m=\u001b[0m \u001b[0mp\u001b[0m\u001b[0;34m.\u001b[0m\u001b[0mgroup_names\u001b[0m\u001b[0;34m\u001b[0m\u001b[0;34m\u001b[0m\u001b[0m\n\u001b[1;32m   3718\u001b[0m     \u001b[0mhue_order\u001b[0m \u001b[0;34m=\u001b[0m \u001b[0mp\u001b[0m\u001b[0;34m.\u001b[0m\u001b[0mhue_names\u001b[0m\u001b[0;34m\u001b[0m\u001b[0;34m\u001b[0m\u001b[0m\n",
      "\u001b[0;32m/anaconda3/lib/python3.7/site-packages/seaborn/categorical.py\u001b[0m in \u001b[0;36mestablish_variables\u001b[0;34m(self, x, y, hue, data, orient, order, hue_order, units)\u001b[0m\n\u001b[1;32m    153\u001b[0m                 \u001b[0;32mif\u001b[0m \u001b[0misinstance\u001b[0m\u001b[0;34m(\u001b[0m\u001b[0minput\u001b[0m\u001b[0;34m,\u001b[0m \u001b[0mstring_types\u001b[0m\u001b[0;34m)\u001b[0m\u001b[0;34m:\u001b[0m\u001b[0;34m\u001b[0m\u001b[0;34m\u001b[0m\u001b[0m\n\u001b[1;32m    154\u001b[0m                     \u001b[0merr\u001b[0m \u001b[0;34m=\u001b[0m \u001b[0;34m\"Could not interpret input '{}'\"\u001b[0m\u001b[0;34m.\u001b[0m\u001b[0mformat\u001b[0m\u001b[0;34m(\u001b[0m\u001b[0minput\u001b[0m\u001b[0;34m)\u001b[0m\u001b[0;34m\u001b[0m\u001b[0;34m\u001b[0m\u001b[0m\n\u001b[0;32m--> 155\u001b[0;31m                     \u001b[0;32mraise\u001b[0m \u001b[0mValueError\u001b[0m\u001b[0;34m(\u001b[0m\u001b[0merr\u001b[0m\u001b[0;34m)\u001b[0m\u001b[0;34m\u001b[0m\u001b[0;34m\u001b[0m\u001b[0m\n\u001b[0m\u001b[1;32m    156\u001b[0m \u001b[0;34m\u001b[0m\u001b[0m\n\u001b[1;32m    157\u001b[0m             \u001b[0;31m# Figure out the plotting orientation\u001b[0m\u001b[0;34m\u001b[0m\u001b[0;34m\u001b[0m\u001b[0;34m\u001b[0m\u001b[0m\n",
      "\u001b[0;31mValueError\u001b[0m: Could not interpret input 'BCAP31'"
     ]
    }
   ],
   "source": [
    "g = sns.catplot(x = 'Stage',y='BCAP31', data=df_sample, kind=\"box\")\n",
    "plt.show()"
   ]
  },
  {
   "cell_type": "code",
   "execution_count": 107,
   "metadata": {},
   "outputs": [
    {
     "data": {
      "image/png": "[encoded data removed]",
      "text/plain": [
       "<Figure size 360x360 with 1 Axes>"
      ]
     },
     "metadata": {
      "needs_background": "light"
     },
     "output_type": "display_data"
    }
   ],
   "source": [
    "g = sns.catplot(x = 'Stage',y = 'BCAP31', data=FM_UACC, kind=\"swarm\")\n",
    "plt.show()"
   ]
  },
  {
   "cell_type": "code",
   "execution_count": 108,
   "metadata": {},
   "outputs": [
    {
     "data": {
      "image/png": "[encoded data removed]",
      "text/plain": [
       "<Figure size 453.125x360 with 1 Axes>"
      ]
     },
     "metadata": {
      "needs_background": "light"
     },
     "output_type": "display_data"
    }
   ],
   "source": [
    "g = sns.catplot(x = 'Stage',y = 'BCAP31',hue = 'SampleName', data=FM_UACC, kind=\"swarm\")\n",
    "plt.show()"
   ]
  },
  {
   "cell_type": "code",
   "execution_count": 113,
   "metadata": {},
   "outputs": [
    {
     "data": {
      "image/png": "[encoded data removed]",
      "text/plain": [
       "<Figure size 360x360 with 1 Axes>"
      ]
     },
     "metadata": {
      "needs_background": "light"
     },
     "output_type": "display_data"
    }
   ],
   "source": [
    "g = sns.catplot(x=\"Stage\", y=\"BCAP31\", kind=\"box\", data=FM_UACC)\n",
    "sns.swarmplot(x=\"Stage\", y=\"BCAP31\", color=\"k\", size=7, data=FM_UACC, ax=g.ax);"
   ]
  },
  {
   "cell_type": "code",
   "execution_count": 24,
   "metadata": {},
   "outputs": [
    {
     "data": {
      "image/png": "[encoded data removed]",
      "text/plain": [
       "<Figure size 360x216 with 1 Axes>"
      ]
     },
     "metadata": {
      "needs_background": "light"
     },
     "output_type": "display_data"
    }
   ],
   "source": [
    "fig, ax = plt.subplots(figsize=(5,3))\n",
    "ax.plot(df_sample.iloc[0,:5])\n",
    "#ax.set_title('Combined debt growth over time')\n",
    "#ax.legend(loc='upper left')\n",
    "#ax.set_ylabel('Total debt')\n",
    "#ax.set_xlim(xmin=yrs[0],xmax=yrs[-1])\n",
    "fig.tight_layout()"
   ]
  },
  {
   "cell_type": "code",
   "execution_count": 52,
   "metadata": {},
   "outputs": [
    {
     "name": "stdout",
     "output_type": "stream",
     "text": [
      "   survived  pclass     sex   age  sibsp  parch     fare embarked  class  \\\n",
      "0         0       3    male  22.0      1      0   7.2500        S  Third   \n",
      "1         1       1  female  38.0      1      0  71.2833        C  First   \n",
      "2         1       3  female  26.0      0      0   7.9250        S  Third   \n",
      "3         1       1  female  35.0      1      0  53.1000        S  First   \n",
      "4         0       3    male  35.0      0      0   8.0500        S  Third   \n",
      "\n",
      "     who  adult_male deck  embark_town alive  alone  \n",
      "0    man        True  NaN  Southampton    no  False  \n",
      "1  woman       False    C    Cherbourg   yes  False  \n",
      "2  woman       False  NaN  Southampton   yes   True  \n",
      "3  woman       False    C  Southampton   yes  False  \n",
      "4    man        True  NaN  Southampton    no   True  \n"
     ]
    },
    {
     "data": {
      "image/png": "[encoded data removed]",
      "text/plain": [
       "<Figure size 430.5x360 with 1 Axes>"
      ]
     },
     "metadata": {
      "needs_background": "light"
     },
     "output_type": "display_data"
    }
   ],
   "source": [
    "titanic = sns.load_dataset(\"titanic\")\n",
    "print(titanic.head())\n",
    "\n",
    "g = sns.catplot(\"class\", \"survived\", \"sex\", data=titanic, kind=\"bar\", legend=True)\n",
    "plt.show()"
   ]
  },
  {
   "cell_type": "code",
   "execution_count": 59,
   "metadata": {},
   "outputs": [
    {
     "data": {
      "text/html": [
       "<div>\n",
       "<style scoped>\n",
       "    .dataframe tbody tr th:only-of-type {\n",
       "        vertical-align: middle;\n",
       "    }\n",
       "\n",
       "    .dataframe tbody tr th {\n",
       "        vertical-align: top;\n",
       "    }\n",
       "\n",
       "    .dataframe thead th {\n",
       "        text-align: right;\n",
       "    }\n",
       "</style>\n",
       "<table border=\"1\" class=\"dataframe\">\n",
       "  <thead>\n",
       "    <tr style=\"text-align: right;\">\n",
       "      <th></th>\n",
       "      <th>total_bill</th>\n",
       "      <th>tip</th>\n",
       "      <th>sex</th>\n",
       "      <th>smoker</th>\n",
       "      <th>day</th>\n",
       "      <th>time</th>\n",
       "      <th>size</th>\n",
       "    </tr>\n",
       "  </thead>\n",
       "  <tbody>\n",
       "    <tr>\n",
       "      <th>0</th>\n",
       "      <td>16.99</td>\n",
       "      <td>1.01</td>\n",
       "      <td>Female</td>\n",
       "      <td>No</td>\n",
       "      <td>Sun</td>\n",
       "      <td>Dinner</td>\n",
       "      <td>2</td>\n",
       "    </tr>\n",
       "    <tr>\n",
       "      <th>1</th>\n",
       "      <td>10.34</td>\n",
       "      <td>1.66</td>\n",
       "      <td>Male</td>\n",
       "      <td>No</td>\n",
       "      <td>Sun</td>\n",
       "      <td>Dinner</td>\n",
       "      <td>3</td>\n",
       "    </tr>\n",
       "    <tr>\n",
       "      <th>2</th>\n",
       "      <td>21.01</td>\n",
       "      <td>3.50</td>\n",
       "      <td>Male</td>\n",
       "      <td>No</td>\n",
       "      <td>Sun</td>\n",
       "      <td>Dinner</td>\n",
       "      <td>3</td>\n",
       "    </tr>\n",
       "    <tr>\n",
       "      <th>3</th>\n",
       "      <td>23.68</td>\n",
       "      <td>3.31</td>\n",
       "      <td>Male</td>\n",
       "      <td>No</td>\n",
       "      <td>Sun</td>\n",
       "      <td>Dinner</td>\n",
       "      <td>2</td>\n",
       "    </tr>\n",
       "    <tr>\n",
       "      <th>4</th>\n",
       "      <td>24.59</td>\n",
       "      <td>3.61</td>\n",
       "      <td>Female</td>\n",
       "      <td>No</td>\n",
       "      <td>Sun</td>\n",
       "      <td>Dinner</td>\n",
       "      <td>4</td>\n",
       "    </tr>\n",
       "  </tbody>\n",
       "</table>\n",
       "</div>"
      ],
      "text/plain": [
       "   total_bill   tip     sex smoker  day    time  size\n",
       "0       16.99  1.01  Female     No  Sun  Dinner     2\n",
       "1       10.34  1.66    Male     No  Sun  Dinner     3\n",
       "2       21.01  3.50    Male     No  Sun  Dinner     3\n",
       "3       23.68  3.31    Male     No  Sun  Dinner     2\n",
       "4       24.59  3.61  Female     No  Sun  Dinner     4"
      ]
     },
     "execution_count": 59,
     "metadata": {},
     "output_type": "execute_result"
    }
   ],
   "source": [
    "tips = sns.load_dataset(\"tips\")\n",
    "tips.head()"
   ]
  },
  {
   "cell_type": "code",
   "execution_count": null,
   "metadata": {},
   "outputs": [],
   "source": [
    "sns.relplot(x=\"total_bill\", y=\"tip\", data=tips)"
   ]
  }
 ],
 "metadata": {
  "kernelspec": {
   "display_name": "Python 3",
   "language": "python",
   "name": "python3"
  },
  "language_info": {
   "codemirror_mode": {
    "name": "ipython",
    "version": 3
   },
   "file_extension": ".py",
   "mimetype": "text/x-python",
   "name": "python",
   "nbconvert_exporter": "python",
   "pygments_lexer": "ipython3",
   "version": "3.7.1"
  }
 },
 "nbformat": 4,
 "nbformat_minor": 2
}
