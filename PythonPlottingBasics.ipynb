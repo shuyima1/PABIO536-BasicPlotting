{
 "cells": [
  {
   "cell_type": "code",
   "execution_count": 1,
   "metadata": {},
   "outputs": [],
   "source": [
    "import matplotlib.pyplot as plt\n",
    "import numpy as np\n",
    "import pandas as pd\n",
    "import seaborn as sns"
   ]
  },
  {
   "cell_type": "code",
   "execution_count": 23,
   "metadata": {},
   "outputs": [
    {
     "name": "stdout",
     "output_type": "stream",
     "text": [
      "Sample Title\n",
      "FM_1           1\n",
      "FM_2           1\n",
      "FM_3           1\n",
      "SK_MEL_28_1    4\n",
      "SK_MEL_28_2    0\n",
      "Name: ASPDH, dtype: int64\n"
     ]
    }
   ],
   "source": [
    "# The data is tab separated and the first column has the gene names\n",
    "# Remember that most things in python are zero-indexed, so the first\n",
    "# column is index 0\n",
    "df = pd.read_csv('../Pabio536/C4-5_ Numpy and pandas/data/GSE88741-expression.txt', sep='\\t', index_col=0)\n",
    "df_sample = df.sample(100, axis = 0, random_state = 333)\n",
    "meta = pd.read_excel(\"../Pabio536/C4-5_ Numpy and pandas/data/GSE88741-metadata.xlsx\", index_col=1)\n",
    "columns = meta.index\n",
    "df_sample.columns = columns\n",
    "#print (df_sample.head())\n",
    "print(df_sample.iloc[0,:5])"
   ]
  },
  {
   "cell_type": "code",
   "execution_count": 7,
   "metadata": {
    "collapsed": true
   },
   "outputs": [],
   "source": []
  },
  {
   "cell_type": "code",
   "execution_count": 24,
   "metadata": {},
   "outputs": [
    {
     "data": {
      "image/png": "[encoded data removed]",
      "text/plain": [
       "<Figure size 360x216 with 1 Axes>"
      ]
     },
     "metadata": {
      "needs_background": "light"
     },
     "output_type": "display_data"
    }
   ],
   "source": [
    "fig, ax = plt.subplots(figsize=(5,3))\n",
    "ax.plot(df_sample.iloc[0,:5])\n",
    "#ax.set_title('Combined debt growth over time')\n",
    "#ax.legend(loc='upper left')\n",
    "#ax.set_ylabel('Total debt')\n",
    "#ax.set_xlim(xmin=yrs[0],xmax=yrs[-1])\n",
    "fig.tight_layout()"
   ]
  },
  {
   "cell_type": "code",
   "execution_count": 16,
   "metadata": {},
   "outputs": [
    {
     "data": {
      "text/plain": [
       "array([[3, 4, 5, 0, 5, 0, 1, 6, 5, 4, 3, 9, 5, 8, 4, 2, 2, 8, 0, 3, 5, 2,\n",
       "        2, 6, 3, 3, 0, 7, 1, 0, 2, 4, 2, 1, 5, 8, 3, 5, 7, 7, 5, 0, 4, 1,\n",
       "        4, 4, 7, 6, 6, 3],\n",
       "       [8, 7, 7, 6, 0, 3, 4, 4, 0, 9, 9, 6, 8, 8, 7, 1, 2, 0, 5, 5, 9, 2,\n",
       "        8, 3, 1, 9, 8, 6, 6, 8, 7, 4, 3, 1, 2, 2, 8, 5, 8, 5, 4, 6, 0, 6,\n",
       "        0, 0, 9, 9, 3, 9],\n",
       "       [9, 1, 7, 0, 9, 4, 9, 4, 3, 9, 6, 7, 7, 2, 5, 9, 0, 9, 8, 4, 8, 2,\n",
       "        7, 3, 2, 1, 0, 7, 7, 7, 7, 1, 5, 5, 2, 7, 2, 3, 4, 7, 6, 8, 4, 6,\n",
       "        8, 5, 7, 7, 1, 8]])"
      ]
     },
     "execution_count": 16,
     "metadata": {},
     "output_type": "execute_result"
    }
   ],
   "source": [
    "rnd"
   ]
  },
  {
   "cell_type": "code",
   "execution_count": null,
   "metadata": {
    "collapsed": true
   },
   "outputs": [],
   "source": []
  }
 ],
 "metadata": {
  "kernelspec": {
   "display_name": "Python 3",
   "language": "python",
   "name": "python3"
  },
  "language_info": {
   "codemirror_mode": {
    "name": "ipython",
    "version": 3
   },
   "file_extension": ".py",
   "mimetype": "text/x-python",
   "name": "python",
   "nbconvert_exporter": "python",
   "pygments_lexer": "ipython3",
   "version": "3.7.1"
  }
 },
 "nbformat": 4,
 "nbformat_minor": 2
}
