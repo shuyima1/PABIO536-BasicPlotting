{
 "cells": [
  {
   "cell_type": "markdown",
   "metadata": {},
   "source": [
    "# Plotting data with Seaborn and matplotlib\n",
    "\n",
    "Your ability to understand and communicate data is often entirely dependent on your ability to make a visual representation of that data. The most widely used python libraries for plotting scientific data are `matplotlib` and `seaborn`.\n",
    "\n",
    "## Key Takeaways:\n",
    "\n",
    "In today's class we will explore the wide range of python plotting options. We will:\n",
    "\n",
    " - Use Relational Plots to compare samples, getting a visual readout of variability\n",
    " - Use Distribution Plots using histograms and density plots\n",
    " - Use Categorical Plots to generate focused plots looking at that gene's expression\n",
    "\n",
    "\n",
    "First, we need to import `pyplot` and `seaborn`. While we're at it, let's import numpy and pandas to store and manipulate data prior to plotting."
   ]
  },
  {
   "cell_type": "code",
   "execution_count": 1,
   "metadata": {},
   "outputs": [],
   "source": [
    "# Start with importing the packages\n",
    "import matplotlib.pyplot as plt\n",
    "import numpy as np\n",
    "import pandas as pd\n",
    "import seaborn as sns\n",
    "\n",
    "# We're also going to tell Jupyter to use inline plotting instead of notebook plotting\n",
    "# It basically means you don't have to use plt.show() in every cell\n",
    "%matplotlib inline"
   ]
  },
  {
   "cell_type": "markdown",
   "metadata": {},
   "source": [
    "Next, we will import the melanoma data we used in the prior class using `pd.read_csv()` and `pd.read_excel()`.\n",
    "\n",
    "The data file is tab separated, and the first column has the gene names.\n",
    "\n",
    "Remember that most things in python are zero-indexed, so the first column is index 0."
   ]
  },
  {
   "cell_type": "code",
   "execution_count": 2,
   "metadata": {},
   "outputs": [
    {
     "name": "stdout",
     "output_type": "stream",
     "text": [
      "             GSM2344965  GSM2344966  GSM2344967  GSM2344968  GSM2344969  \\\n",
      "gene_symbol                                                               \n",
      "ASPDH                 1           1           1           4           0   \n",
      "KRT18P19              0           0           0           1           0   \n",
      "ANKIB1             2578        2432        2067        2634        3238   \n",
      "AGGF1P6               0           0           0           0           0   \n",
      "ZNF618             1489        1441        1089         997        1088   \n",
      "\n",
      "             GSM2344970  GSM2344971  GSM2344972  GSM2344973  GSM2344974  \\\n",
      "gene_symbol                                                               \n",
      "ASPDH                 1           2           1           1           2   \n",
      "KRT18P19              0           2           1           2           0   \n",
      "ANKIB1             3158        2373        1908        2324        2918   \n",
      "AGGF1P6               0           0           0           0           2   \n",
      "ZNF618              994        1947        1521        1617        1121   \n",
      "\n",
      "             GSM2344975  GSM2344976  \n",
      "gene_symbol                          \n",
      "ASPDH                 1           8  \n",
      "KRT18P19              0           2  \n",
      "ANKIB1             3352        3200  \n",
      "AGGF1P6               2           1  \n",
      "ZNF618              978        1184  \n",
      "             Sample_geo_accession                Stage           cell type\n",
      "Sample Title                                                              \n",
      "FM_1                   GSM2344965  primary melanocytes  normal melanocytes\n",
      "FM_2                   GSM2344966  primary melanocytes  normal melanocytes\n",
      "FM_3                   GSM2344967  primary melanocytes  normal melanocytes\n",
      "SK_MEL_28_1            GSM2344968           metastatic  melanoma cell line\n",
      "SK_MEL_28_2            GSM2344969           metastatic  melanoma cell line\n",
      "Sample Title  FM_1  FM_2  FM_3  SK_MEL_28_1  SK_MEL_28_2  SK_MEL_28_3  \\\n",
      "gene_symbol                                                             \n",
      "ASPDH            1     1     1            4            0            1   \n",
      "KRT18P19         0     0     0            1            0            0   \n",
      "ANKIB1        2578  2432  2067         2634         3238         3158   \n",
      "AGGF1P6          0     0     0            0            0            0   \n",
      "ZNF618        1489  1441  1089          997         1088          994   \n",
      "\n",
      "Sample Title  SK_MEL_147_1  SK_MEL_147_2  SK_MEL_147_3  UACC_62_1  UACC_62_2  \\\n",
      "gene_symbol                                                                    \n",
      "ASPDH                    2             1             1          2          1   \n",
      "KRT18P19                 2             1             2          0          0   \n",
      "ANKIB1                2373          1908          2324       2918       3352   \n",
      "AGGF1P6                  0             0             0          2          2   \n",
      "ZNF618                1947          1521          1617       1121        978   \n",
      "\n",
      "Sample Title  UACC_62_3  \n",
      "gene_symbol              \n",
      "ASPDH                 8  \n",
      "KRT18P19              2  \n",
      "ANKIB1             3200  \n",
      "AGGF1P6               1  \n",
      "ZNF618             1184  \n"
     ]
    }
   ],
   "source": [
    "# Now to import some data to work with:\n",
    "df = pd.read_csv('../Pabio536/C4C5_ Numpy_and_pandas/data/GSE88741-expression.txt', sep='\\t', index_col=0)\n",
    "df_sample = df.sample(100, axis = 0, random_state = 333)\n",
    "meta = pd.read_excel(\"../Pabio536/C4C5_ Numpy_and_pandas/data/GSE88741-metadata.xlsx\", index_col=1)\n",
    "print (df_sample.head())\n",
    "print (meta.head())\n",
    "\n",
    "# Assigning the sample titles to the columns in the data frame with the expression values\n",
    "columns = meta.index\n",
    "df_sample.columns = columns\n",
    "print (df_sample.head())\n"
   ]
  },
  {
   "cell_type": "markdown",
   "metadata": {},
   "source": [
    "For the purposes of this exercise, we'll want to look at log2-transformed data values.\n",
    "\n",
    "To do this without getting too many negative infinity values, we'll focus on genes that have median counts greater than 5, and will nudge the values that have 0 counts to be 0.01."
   ]
  },
  {
   "cell_type": "code",
   "execution_count": 3,
   "metadata": {},
   "outputs": [
    {
     "name": "stdout",
     "output_type": "stream",
     "text": [
      "Sample Title       FM_1       FM_2       FM_3  SK_MEL_28_1  SK_MEL_28_2  \\\n",
      "gene_symbol                                                               \n",
      "ANKIB1        11.332037  11.247928  11.013323    11.363040    11.660887   \n",
      "ZNF618        10.540128  10.492855  10.088788     9.961450    10.087463   \n",
      "IMPG2          3.700440   3.169925   3.906891     2.000000     1.000000   \n",
      "SLC26A6       10.112440   9.575539  10.558421     9.816984    10.142107   \n",
      "MAPKAPK3      10.664447  10.799282  10.487840     9.903882     9.995767   \n",
      "\n",
      "Sample Title  SK_MEL_28_3  SK_MEL_147_1  SK_MEL_147_2  SK_MEL_147_3  \\\n",
      "gene_symbol                                                           \n",
      "ANKIB1          11.624795     11.212496     10.897845     11.182394   \n",
      "ZNF618           9.957102     10.927037     10.570804     10.659104   \n",
      "IMPG2            2.584963      4.169925      3.807355      3.700440   \n",
      "SLC26A6          9.936638      9.768184     10.029287      9.824959   \n",
      "MAPKAPK3        10.075479     11.240791     11.287712     11.264443   \n",
      "\n",
      "Sample Title  UACC_62_1  UACC_62_2  UACC_62_3  \n",
      "gene_symbol                                    \n",
      "ANKIB1        11.510764  11.710806  11.643856  \n",
      "ZNF618        10.130571   9.933691  10.209453  \n",
      "IMPG2          4.643856   3.906891   3.906891  \n",
      "SLC26A6       10.456354  10.641149  10.365229  \n",
      "MAPKAPK3      10.461479  10.650154  10.301496  \n"
     ]
    },
    {
     "name": "stderr",
     "output_type": "stream",
     "text": [
      "/anaconda3/lib/python3.7/site-packages/ipykernel_launcher.py:8: SettingWithCopyWarning: \n",
      "A value is trying to be set on a copy of a slice from a DataFrame.\n",
      "Try using .loc[row_indexer,col_indexer] = value instead\n",
      "\n",
      "See the caveats in the documentation: http://pandas.pydata.org/pandas-docs/stable/indexing.html#indexing-view-versus-copy\n",
      "  \n",
      "/anaconda3/lib/python3.7/site-packages/pandas/core/frame.py:3163: SettingWithCopyWarning: \n",
      "A value is trying to be set on a copy of a slice from a DataFrame\n",
      "\n",
      "See the caveats in the documentation: http://pandas.pydata.org/pandas-docs/stable/indexing.html#indexing-view-versus-copy\n",
      "  self._where(-key, value, inplace=True)\n"
     ]
    }
   ],
   "source": [
    "# Subset on genes that have a median count greater than 5\n",
    "dfmed = df_sample.median(1)\n",
    "dfnz = df_sample.loc[dfmed > 5,]\n",
    "\n",
    "mask1 = (dfnz == 0)\n",
    "\n",
    "# We will also nudge the values that have 0 counts to be 0.01.\n",
    "dfnz[mask1] = 0.01\n",
    "\n",
    "# Do the log2 transform\n",
    "df_log2 = dfnz.transform(np.log2)\n",
    "print(df_log2.head())"
   ]
  },
  {
   "cell_type": "markdown",
   "metadata": {},
   "source": [
    "## A brief dabble into `matplotlib`'s `pyplot`:\n",
    "\n",
    "The plotting functionalities we're going to be talking about from `pyplot` and `seaborn` are all based on functions from the `matplotlib` package. We're going to do the majority of our plotting with `seaborn` since the code is cleaner and the plots are prettier, but it's useful to see how you can plot something with the base case.\n",
    "\n",
    "Fundamentally, when you ask `pyplot` to create a plot, it's creating 3 layers of objects, illustrated here:\n",
    "\n",
    "<img src=\"https://files.realpython.com/media/fig_map.bc8c7cabd823.png\" alt=\"Objects of a pyplot figure\" title = \"Pyplot hierarchy\"/>\n",
    "\n",
    "1. a \"figure\": a container for 1 or more plots.\n",
    "1. an \"axes\": each individual plot within a _figure_.\n",
    "1. a set of plot components (e.g, x-axis, y-axis, legends, labels, etc) within each _axes_.\n",
    "\n",
    "`pyplot` treats each element of a plot as a separate object. A figure is the whole figure, and axes is one subplot within that figure. You can create and manipulate each part of the figure.\n",
    "\n",
    "The image below is a visual glossary to help you see of all the features you can adjust within a `pyplot` figure:\n",
    "\n",
    "<img src=\"https://files.realpython.com/media/anatomy.7d033ebbfbc8.png\" alt=\"Objects of a pyplot figure\" title = \"Pyplot hierarchy\"/>\n",
    "\n",
    "***\n",
    "\n",
    "The most explicit way to plot something is to use a function to define the \"figure\" and \"axes\" objects, then modify the \"axes\" by filling it with specific pieces:"
   ]
  },
  {
   "cell_type": "code",
   "execution_count": 12,
   "metadata": {},
   "outputs": [
    {
     "data": {
      "image/png": "[encoded data removed]",
      "text/plain": [
       "<Figure size 432x288 with 1 Axes>"
      ]
     },
     "metadata": {
      "needs_background": "light"
     },
     "output_type": "display_data"
    }
   ],
   "source": [
    "# define the figure and axes objects, assigning to the variables \"fig\" and \"ax,\" respectively.\n",
    "fig, ax = plt.subplots() # Note: this is your opportunity to define how many plots you want in a figure, and what is your desired figure size (with arguments added to plt.subplots())\n",
    "ax.scatter(x = df_log2['FM_1'], y = df_log2['FM_2'], marker = 'o', color = 'r') # This tells that you want a scatter plot \n",
    "# plot modifiers\n",
    "ax.set_title('Scatter plot of FM_1 vs. FM_2')\n",
    "ax.set_xlabel('Sample FM_1')\n",
    "ax.set_ylabel('Sample FM_2')\n",
    "plt.show()"
   ]
  },
  {
   "cell_type": "markdown",
   "metadata": {},
   "source": [
    "This gets kind of clunky, so pyplot enables a more streamlined way of plotting, which __implicitly__ modifies the most recent \"axes\" object that's being acted on:"
   ]
  },
  {
   "cell_type": "code",
   "execution_count": 14,
   "metadata": {},
   "outputs": [
    {
     "data": {
      "image/png": "[encoded data removed]",
      "text/plain": [
       "<Figure size 432x288 with 1 Axes>"
      ]
     },
     "metadata": {
      "needs_background": "light"
     },
     "output_type": "display_data"
    }
   ],
   "source": [
    "plt.scatter(x = df_log2['FM_1'], y = df_log2['FM_2'], marker = 'o', color = 'r')\n",
    "plt.title('Scatter plot of FM_1 vs. FM_2')\n",
    "plt.xlabel('Sample FM_1')\n",
    "plt.ylabel('Sample FM_2')\n",
    "plt.show()"
   ]
  },
  {
   "cell_type": "markdown",
   "metadata": {},
   "source": [
    "The benefit of this approach is that it's easier to read, and easier to type. But, if you've got multiple axes objects within a figure, `pyplot` may end up making the wrong adjustments/plots in the wrong axes/plot area.\n",
    "\n",
    "For more information about pyplot, the following websites are good resources:\n",
    "\n",
    " - https://www.datacamp.com/community/tutorials/matplotlib-tutorial-python\n",
    " - https://realpython.com/python-matplotlib-guide/"
   ]
  },
  {
   "cell_type": "markdown",
   "metadata": {},
   "source": [
    "## Seaborn plotting\n",
    "\n",
    "`seaborn` is the package to use if you want to make some fancier, prettier, more customized plots, so we're going to spend the rest of our time focusing on using this. Note though that you will still be modifying `seaborn` figures with `pyplot` functions. "
   ]
  },
  {
   "cell_type": "markdown",
   "metadata": {},
   "source": [
    "### Relational Plots\n",
    "\n",
    "We mentioned in an earlier class that `pandas` is built on top of `numpy` to provide easier syntax, easier to read code, and more visually appealing tables. Similarly, `seaborn` is a wrapper around `matplotlib` that makes a fairly complex but powerful library more accessible. We will be showing you both at the same time, as we think `seaborn` is easier to learn and use.  \n",
    "\n",
    "Scatter plots or line plots are useful for showing the __relationship__ between two variables, which we can plot using the `seaborn` function `relplot`. Let's start by comparing two replicate samples, `FM_1` and `FM_2` across all genes in our log2 transformed sampleset."
   ]
  },
  {
   "cell_type": "code",
   "execution_count": 92,
   "metadata": {},
   "outputs": [
    {
     "data": {
      "image/png": "[encoded data removed]",
      "text/plain": [
       "<Figure size 360x360 with 1 Axes>"
      ]
     },
     "metadata": {
      "needs_background": "light"
     },
     "output_type": "display_data"
    }
   ],
   "source": [
    "g = sns.relplot(x=\"FM_1\", y=\"FM_2\", data=df_log2)\n",
    "plt.show()"
   ]
  },
  {
   "cell_type": "markdown",
   "metadata": {},
   "source": [
    "So, right off the bat we are mixing sns and plt. In the first line of code we are calling the `sns` function `relplot`, which defaults to a scatterplot. This website gives more information about what you can do with the `relplot` function: https://seaborn.pydata.org/tutorial/relational.html#relational-tutorial\n",
    "\n",
    "For example, you can also use `relplot` to show lines by changing the \"kind\" argument (give it a try).\n",
    "\n",
    "Notice that we assign the plot to a variable, and then use `plt.show` from `matplotlib` to print the plot. This is one of several ways to print plots. You will also often see code blocks that simply end with a plotting function, which has a similar output.\n",
    "\n",
    "***\n",
    "\n",
    "Let's do some customizations on this plot. \n",
    "\n",
    "When you make a plot using `plt` or `sns`, you can build it element by element. \n",
    "\n",
    "To facilitate comparison between these 2 samples and look for genes that have *large* expression changes, we want to indicate what a 2-fold expression change with lines look like.\n",
    "\n",
    "To do this, let's repeat the plot from above, but add lines using the `plt.plot` that show the cutoff for a two-fold change. Since our data is in log2, we simply need lines one step out from the identity line (y=x)."
   ]
  },
  {
   "cell_type": "code",
   "execution_count": 116,
   "metadata": {},
   "outputs": [
    {
     "data": {
      "image/png": "[encoded data removed]",
      "text/plain": [
       "<Figure size 421.75x360 with 1 Axes>"
      ]
     },
     "metadata": {
      "needs_background": "light"
     },
     "output_type": "display_data"
    }
   ],
   "source": [
    "g = sns.relplot(x=\"FM_1\", y=\"FM_2\", data=df_log2,hue = 'FM_2')\n",
    "plt.plot([-7,15],[-6,16],'k') # adding a line going from  (x,y) = (-7,-6) to (15,16); 'k' changes the color of the line to black\n",
    "plt.plot([-6,16],[-7,15],'k') # adding a line going from  (x,y) = (-6,-7) to (16,15) \n",
    "\n",
    "# other customizations of the plot:\n",
    "plt.xlim(-10, 20) # adjusting x axis limits\n",
    "plt.ylim(-10, 20) # adjusting y axis limits\n",
    "plt.xlabel('Sample FM_1') # renaming x axis title\n",
    "plt.title('FM_1 vs. FM_2')\n",
    "plt.show()"
   ]
  },
  {
   "cell_type": "markdown",
   "metadata": {},
   "source": [
    "Notice that most of the points of this plot lie within the black lines, indicating the most of the genes have expression values that are within two-fold between the two samples. This suggests consistent expression values between replicates, and is a good sanity check that helps to signify that the data are of good quality."
   ]
  },
  {
   "cell_type": "markdown",
   "metadata": {},
   "source": [
    "\n",
    "\n",
    "***\n",
    "\n",
    "Now, let's look at 2 samples belonging to different phenotypes.\n",
    "\n",
    "### <font color=brown>Hands on practice</font>\n",
    "\n",
    "Generate a scatter plot of `FM_1` and `UACC_62_1` with black lines demarcating 2-fold change. Do there appear to be more or less genes with large (>2) fold changes?\n"
   ]
  },
  {
   "cell_type": "code",
   "execution_count": null,
   "metadata": {},
   "outputs": [],
   "source": [
    "# Generate a scatter plot of FM_1 and UACC_62_1 with black lines demarcating 2-fold change\n",
    "None\n",
    "plt.show()"
   ]
  },
  {
   "cell_type": "markdown",
   "metadata": {},
   "source": [
    "### Plotting Distributions\n",
    "\n",
    "Another common visualization is the histogram, to view the overall distribution of the data. To do this with `seaborn`, we can use the `distplot` function."
   ]
  },
  {
   "cell_type": "code",
   "execution_count": 117,
   "metadata": {},
   "outputs": [
    {
     "data": {
      "image/png": "[encoded data removed]",
      "text/plain": [
       "<Figure size 432x288 with 1 Axes>"
      ]
     },
     "metadata": {
      "needs_background": "light"
     },
     "output_type": "display_data"
    }
   ],
   "source": [
    "# Histogram\n",
    "sns.distplot(df_log2['FM_1'],bins=10,color='green')\n",
    "plt.show()"
   ]
  },
  {
   "cell_type": "markdown",
   "metadata": {},
   "source": [
    "Note that the default distplot gives you both the histogram (in bars), as well as a fitted density plot, which estimates what the underlying distribution looks like. You can turn each of these visualizations off by adding the arguments `kde=False` or `hist=False` to the `distplot` function.\n",
    "\n",
    "***\n",
    "\n",
    "To compare distributions of two variables, you can use the `jointplot` function."
   ]
  },
  {
   "cell_type": "code",
   "execution_count": 10,
   "metadata": {},
   "outputs": [
    {
     "data": {
      "image/png": "[encoded data removed]",
      "text/plain": [
       "<Figure size 432x432 with 3 Axes>"
      ]
     },
     "metadata": {
      "needs_background": "light"
     },
     "output_type": "display_data"
    }
   ],
   "source": [
    "# Marginal Plot\n",
    "g = sns.jointplot(x=\"FM_1\",y=\"UACC_62_1\",data=df_log2,kind=\"kde\") # kind options: scatter, reg,resid,kde,hex\n",
    "g.plot_joint(plt.scatter, c=\"w\",s=10) # c = color; s = size ## Note that we can overlay \n",
    "plt.show()"
   ]
  },
  {
   "cell_type": "markdown",
   "metadata": {},
   "source": [
    "### Categorical Plots\n",
    "\n",
    "Remember that all of the libraries we have introduced expect each column to be a different variable and each row a different observation.\n",
    "\n",
    "The dataset we're using consists of four different cell cell lines with three replicates of each. When comparing the samples to each other it makes sense to have the samples as the variable columns and have each gene be an 'observation' of how similar the samples are, gene by gene.\n",
    "\n",
    "Now we want to look at the genes as variables, so we first transpose the data so that the genes are in the columns. "
   ]
  },
  {
   "cell_type": "code",
   "execution_count": 123,
   "metadata": {},
   "outputs": [],
   "source": [
    "# To look at gene expression, transpose the data frame so that the genes are in the columns.\n",
    "dfT = df_log2.T"
   ]
  },
  {
   "cell_type": "markdown",
   "metadata": {},
   "source": [
    "We also want to add categorical data for each sample so we can group or color by the 'Stage' or 'SampleName' variables. To do this, we need to add columns containing the phenotype information to our expression data frame, which we can pull form the `meta` data frame."
   ]
  },
  {
   "cell_type": "code",
   "execution_count": 124,
   "metadata": {},
   "outputs": [
    {
     "data": {
      "text/html": [
       "<div>\n",
       "<style scoped>\n",
       "    .dataframe tbody tr th:only-of-type {\n",
       "        vertical-align: middle;\n",
       "    }\n",
       "\n",
       "    .dataframe tbody tr th {\n",
       "        vertical-align: top;\n",
       "    }\n",
       "\n",
       "    .dataframe thead th {\n",
       "        text-align: right;\n",
       "    }\n",
       "</style>\n",
       "<table border=\"1\" class=\"dataframe\">\n",
       "  <thead>\n",
       "    <tr style=\"text-align: right;\">\n",
       "      <th>gene_symbol</th>\n",
       "      <th>ANKIB1</th>\n",
       "      <th>ZNF618</th>\n",
       "      <th>IMPG2</th>\n",
       "      <th>SLC26A6</th>\n",
       "      <th>MAPKAPK3</th>\n",
       "      <th>DYNLT3</th>\n",
       "      <th>GRAMD3</th>\n",
       "      <th>MPDZ</th>\n",
       "      <th>DGKI</th>\n",
       "      <th>RCC2</th>\n",
       "      <th>...</th>\n",
       "      <th>CPAMD8</th>\n",
       "      <th>NBAS</th>\n",
       "      <th>ZNF24</th>\n",
       "      <th>MOB3A</th>\n",
       "      <th>EHF</th>\n",
       "      <th>LUM</th>\n",
       "      <th>PLEKHM3</th>\n",
       "      <th>IQCG</th>\n",
       "      <th>Stage</th>\n",
       "      <th>SampleName</th>\n",
       "    </tr>\n",
       "    <tr>\n",
       "      <th>Sample Title</th>\n",
       "      <th></th>\n",
       "      <th></th>\n",
       "      <th></th>\n",
       "      <th></th>\n",
       "      <th></th>\n",
       "      <th></th>\n",
       "      <th></th>\n",
       "      <th></th>\n",
       "      <th></th>\n",
       "      <th></th>\n",
       "      <th></th>\n",
       "      <th></th>\n",
       "      <th></th>\n",
       "      <th></th>\n",
       "      <th></th>\n",
       "      <th></th>\n",
       "      <th></th>\n",
       "      <th></th>\n",
       "      <th></th>\n",
       "      <th></th>\n",
       "      <th></th>\n",
       "    </tr>\n",
       "  </thead>\n",
       "  <tbody>\n",
       "    <tr>\n",
       "      <th>FM_1</th>\n",
       "      <td>11.332037</td>\n",
       "      <td>10.540128</td>\n",
       "      <td>3.700440</td>\n",
       "      <td>10.112440</td>\n",
       "      <td>10.664447</td>\n",
       "      <td>8.459432</td>\n",
       "      <td>8.455327</td>\n",
       "      <td>12.458663</td>\n",
       "      <td>5.129283</td>\n",
       "      <td>12.693051</td>\n",
       "      <td>...</td>\n",
       "      <td>4.954196</td>\n",
       "      <td>11.307770</td>\n",
       "      <td>12.138912</td>\n",
       "      <td>10.539159</td>\n",
       "      <td>-6.643856</td>\n",
       "      <td>2.807355</td>\n",
       "      <td>9.832890</td>\n",
       "      <td>8.011227</td>\n",
       "      <td>primary melanocytes</td>\n",
       "      <td>FM_1</td>\n",
       "    </tr>\n",
       "    <tr>\n",
       "      <th>FM_2</th>\n",
       "      <td>11.247928</td>\n",
       "      <td>10.492855</td>\n",
       "      <td>3.169925</td>\n",
       "      <td>9.575539</td>\n",
       "      <td>10.799282</td>\n",
       "      <td>8.915879</td>\n",
       "      <td>8.668885</td>\n",
       "      <td>12.259155</td>\n",
       "      <td>6.022368</td>\n",
       "      <td>12.809768</td>\n",
       "      <td>...</td>\n",
       "      <td>5.247928</td>\n",
       "      <td>11.189207</td>\n",
       "      <td>12.224303</td>\n",
       "      <td>10.393390</td>\n",
       "      <td>-6.643856</td>\n",
       "      <td>1.000000</td>\n",
       "      <td>9.652845</td>\n",
       "      <td>7.366322</td>\n",
       "      <td>primary melanocytes</td>\n",
       "      <td>FM_2</td>\n",
       "    </tr>\n",
       "    <tr>\n",
       "      <th>FM_3</th>\n",
       "      <td>11.013323</td>\n",
       "      <td>10.088788</td>\n",
       "      <td>3.906891</td>\n",
       "      <td>10.558421</td>\n",
       "      <td>10.487840</td>\n",
       "      <td>9.152285</td>\n",
       "      <td>8.797662</td>\n",
       "      <td>11.452756</td>\n",
       "      <td>5.930737</td>\n",
       "      <td>12.758640</td>\n",
       "      <td>...</td>\n",
       "      <td>4.754888</td>\n",
       "      <td>10.990104</td>\n",
       "      <td>11.882643</td>\n",
       "      <td>10.433585</td>\n",
       "      <td>0.000000</td>\n",
       "      <td>10.437752</td>\n",
       "      <td>9.231221</td>\n",
       "      <td>7.499846</td>\n",
       "      <td>primary melanocytes</td>\n",
       "      <td>FM_3</td>\n",
       "    </tr>\n",
       "    <tr>\n",
       "      <th>SK_MEL_28_1</th>\n",
       "      <td>11.363040</td>\n",
       "      <td>9.961450</td>\n",
       "      <td>2.000000</td>\n",
       "      <td>9.816984</td>\n",
       "      <td>9.903882</td>\n",
       "      <td>10.211888</td>\n",
       "      <td>8.257388</td>\n",
       "      <td>11.061371</td>\n",
       "      <td>9.092757</td>\n",
       "      <td>13.647908</td>\n",
       "      <td>...</td>\n",
       "      <td>3.459432</td>\n",
       "      <td>10.894818</td>\n",
       "      <td>11.394999</td>\n",
       "      <td>9.499846</td>\n",
       "      <td>0.000000</td>\n",
       "      <td>10.726218</td>\n",
       "      <td>9.224002</td>\n",
       "      <td>6.870365</td>\n",
       "      <td>metastatic</td>\n",
       "      <td>SK_MEL_28_1</td>\n",
       "    </tr>\n",
       "    <tr>\n",
       "      <th>SK_MEL_28_2</th>\n",
       "      <td>11.660887</td>\n",
       "      <td>10.087463</td>\n",
       "      <td>1.000000</td>\n",
       "      <td>10.142107</td>\n",
       "      <td>9.995767</td>\n",
       "      <td>10.583083</td>\n",
       "      <td>8.243174</td>\n",
       "      <td>11.350939</td>\n",
       "      <td>9.566054</td>\n",
       "      <td>13.796445</td>\n",
       "      <td>...</td>\n",
       "      <td>4.459432</td>\n",
       "      <td>11.100662</td>\n",
       "      <td>11.698705</td>\n",
       "      <td>9.465566</td>\n",
       "      <td>2.584963</td>\n",
       "      <td>11.088788</td>\n",
       "      <td>9.335390</td>\n",
       "      <td>7.348728</td>\n",
       "      <td>metastatic</td>\n",
       "      <td>SK_MEL_28_2</td>\n",
       "    </tr>\n",
       "  </tbody>\n",
       "</table>\n",
       "<p>5 rows × 49 columns</p>\n",
       "</div>"
      ],
      "text/plain": [
       "gene_symbol      ANKIB1     ZNF618     IMPG2    SLC26A6   MAPKAPK3     DYNLT3  \\\n",
       "Sample Title                                                                    \n",
       "FM_1          11.332037  10.540128  3.700440  10.112440  10.664447   8.459432   \n",
       "FM_2          11.247928  10.492855  3.169925   9.575539  10.799282   8.915879   \n",
       "FM_3          11.013323  10.088788  3.906891  10.558421  10.487840   9.152285   \n",
       "SK_MEL_28_1   11.363040   9.961450  2.000000   9.816984   9.903882  10.211888   \n",
       "SK_MEL_28_2   11.660887  10.087463  1.000000  10.142107   9.995767  10.583083   \n",
       "\n",
       "gene_symbol     GRAMD3       MPDZ      DGKI       RCC2     ...         CPAMD8  \\\n",
       "Sample Title                                               ...                  \n",
       "FM_1          8.455327  12.458663  5.129283  12.693051     ...       4.954196   \n",
       "FM_2          8.668885  12.259155  6.022368  12.809768     ...       5.247928   \n",
       "FM_3          8.797662  11.452756  5.930737  12.758640     ...       4.754888   \n",
       "SK_MEL_28_1   8.257388  11.061371  9.092757  13.647908     ...       3.459432   \n",
       "SK_MEL_28_2   8.243174  11.350939  9.566054  13.796445     ...       4.459432   \n",
       "\n",
       "gene_symbol        NBAS      ZNF24      MOB3A       EHF        LUM   PLEKHM3  \\\n",
       "Sample Title                                                                   \n",
       "FM_1          11.307770  12.138912  10.539159 -6.643856   2.807355  9.832890   \n",
       "FM_2          11.189207  12.224303  10.393390 -6.643856   1.000000  9.652845   \n",
       "FM_3          10.990104  11.882643  10.433585  0.000000  10.437752  9.231221   \n",
       "SK_MEL_28_1   10.894818  11.394999   9.499846  0.000000  10.726218  9.224002   \n",
       "SK_MEL_28_2   11.100662  11.698705   9.465566  2.584963  11.088788  9.335390   \n",
       "\n",
       "gene_symbol       IQCG                Stage   SampleName  \n",
       "Sample Title                                              \n",
       "FM_1          8.011227  primary melanocytes         FM_1  \n",
       "FM_2          7.366322  primary melanocytes         FM_2  \n",
       "FM_3          7.499846  primary melanocytes         FM_3  \n",
       "SK_MEL_28_1   6.870365           metastatic  SK_MEL_28_1  \n",
       "SK_MEL_28_2   7.348728           metastatic  SK_MEL_28_2  \n",
       "\n",
       "[5 rows x 49 columns]"
      ]
     },
     "execution_count": 124,
     "metadata": {},
     "output_type": "execute_result"
    }
   ],
   "source": [
    "# Add the phenotype and sample ID information from the \"meta\" data frame\n",
    "dfT['Stage'] = meta.Stage\n",
    "dfT['SampleName'] = dfT.index\n",
    "\n",
    "dfT.head()"
   ]
  },
  {
   "cell_type": "markdown",
   "metadata": {},
   "source": [
    "Now that the data frame is properly organized, we want to find a gene of interest to focus on in our plots. \n",
    "\n",
    "To do this, we'll calculate the gene with the maximum difference between normal and cancer cells.\n",
    "\n",
    "Let's take a look at the metadata to remind ourselves how the data is structured."
   ]
  },
  {
   "cell_type": "code",
   "execution_count": 118,
   "metadata": {},
   "outputs": [
    {
     "name": "stdout",
     "output_type": "stream",
     "text": [
      "             Sample_geo_accession                Stage           cell type\n",
      "Sample Title                                                              \n",
      "FM_1                   GSM2344965  primary melanocytes  normal melanocytes\n",
      "FM_2                   GSM2344966  primary melanocytes  normal melanocytes\n",
      "FM_3                   GSM2344967  primary melanocytes  normal melanocytes\n",
      "SK_MEL_28_1            GSM2344968           metastatic  melanoma cell line\n",
      "SK_MEL_28_2            GSM2344969           metastatic  melanoma cell line\n",
      "SK_MEL_28_3            GSM2344970           metastatic  melanoma cell line\n",
      "SK_MEL_147_1           GSM2344971           metastatic  melanoma cell line\n",
      "SK_MEL_147_2           GSM2344972           metastatic  melanoma cell line\n",
      "SK_MEL_147_3           GSM2344973           metastatic  melanoma cell line\n",
      "UACC_62_1              GSM2344974           metastatic  melanoma cell line\n",
      "UACC_62_2              GSM2344975           metastatic  melanoma cell line\n",
      "UACC_62_3              GSM2344976           metastatic  melanoma cell line\n"
     ]
    }
   ],
   "source": [
    "print(meta)"
   ]
  },
  {
   "cell_type": "markdown",
   "metadata": {},
   "source": [
    "Note that the metadata tells us that the first 3 samples are normal, and the rest are metastatic.\n",
    "\n",
    "We start by creating separate data frames for the Normal and the Metastatic samples."
   ]
  },
  {
   "cell_type": "code",
   "execution_count": 119,
   "metadata": {},
   "outputs": [
    {
     "name": "stdout",
     "output_type": "stream",
     "text": [
      "Sample Title       FM_1       FM_2       FM_3\n",
      "gene_symbol                                  \n",
      "ANKIB1        11.332037  11.247928  11.013323\n",
      "ZNF618        10.540128  10.492855  10.088788\n",
      "IMPG2          3.700440   3.169925   3.906891\n",
      "SLC26A6       10.112440   9.575539  10.558421\n",
      "MAPKAPK3      10.664447  10.799282  10.487840\n",
      "Sample Title  SK_MEL_28_1  SK_MEL_28_2  SK_MEL_28_3  SK_MEL_147_1  \\\n",
      "gene_symbol                                                         \n",
      "ANKIB1          11.363040    11.660887    11.624795     11.212496   \n",
      "ZNF618           9.961450    10.087463     9.957102     10.927037   \n",
      "IMPG2            2.000000     1.000000     2.584963      4.169925   \n",
      "SLC26A6          9.816984    10.142107     9.936638      9.768184   \n",
      "MAPKAPK3         9.903882     9.995767    10.075479     11.240791   \n",
      "\n",
      "Sample Title  SK_MEL_147_2  SK_MEL_147_3  UACC_62_1  UACC_62_2  UACC_62_3  \n",
      "gene_symbol                                                                \n",
      "ANKIB1           10.897845     11.182394  11.510764  11.710806  11.643856  \n",
      "ZNF618           10.570804     10.659104  10.130571   9.933691  10.209453  \n",
      "IMPG2             3.807355      3.700440   4.643856   3.906891   3.906891  \n",
      "SLC26A6          10.029287      9.824959  10.456354  10.641149  10.365229  \n",
      "MAPKAPK3         11.287712     11.264443  10.461479  10.650154  10.301496  \n"
     ]
    }
   ],
   "source": [
    "#slicing out the normal and metastatic samples\n",
    "FMnorm = df_log2.iloc[:,0:3]\n",
    "Metastatic = df_log2.iloc[:,3:]\n",
    "\n",
    "print(FMnorm.head())\n",
    "print(Metastatic.head())"
   ]
  },
  {
   "cell_type": "markdown",
   "metadata": {},
   "source": [
    "We'll then calculate the means of each of the phenotypes, and then calculate the difference of the means."
   ]
  },
  {
   "cell_type": "code",
   "execution_count": 120,
   "metadata": {},
   "outputs": [
    {
     "name": "stdout",
     "output_type": "stream",
     "text": [
      "gene_symbol\n",
      "EHF        -7.203594\n",
      "FOXC1      -6.114591\n",
      "LUM        -5.966445\n",
      "DGKI       -2.543371\n",
      "CHRNA7     -2.420790\n",
      "DYNLT3     -2.186492\n",
      "RPS6KA6    -1.625172\n",
      "RECQL4     -1.579509\n",
      "DTX3L      -1.125415\n",
      "SULT1A1    -0.877127\n",
      "ZNF343     -0.771921\n",
      "NCMAP      -0.757974\n",
      "RCC2       -0.655997\n",
      "SHMT1      -0.655026\n",
      "BCAP31     -0.634210\n",
      "TAF1D      -0.570503\n",
      "ZCCHC17    -0.442476\n",
      "TMEM126B   -0.255220\n",
      "ANKIB1     -0.225225\n",
      "BMPR1A     -0.223518\n",
      "PGBD2      -0.188765\n",
      "GTF2H1     -0.176875\n",
      "COL1A1     -0.051755\n",
      "SLC35A3    -0.028610\n",
      "SLC26A6    -0.026855\n",
      "TMEM60     -0.018016\n",
      "NBAS        0.002560\n",
      "PLEKHM3     0.067130\n",
      "MAPKAPK3    0.074834\n",
      "ZNF618      0.103182\n",
      "TRAPPC2B    0.146771\n",
      "IMPG2       0.290161\n",
      "IFT74       0.448409\n",
      "DYNC2H1     0.462046\n",
      "IQCG        0.555745\n",
      "ZNF24       0.614500\n",
      "GRAMD3      0.724286\n",
      "MOB3A       0.744443\n",
      "CPAMD8      0.756179\n",
      "TSNAXIP1    1.163544\n",
      "MARCKSL1    1.629882\n",
      "WDR19       1.797676\n",
      "MPDZ        1.818240\n",
      "CDIP1       3.380546\n",
      "MTSS1       3.830662\n",
      "ELFN1       5.163275\n",
      "KIF5A       5.405564\n",
      "dtype: float64\n"
     ]
    }
   ],
   "source": [
    "# Then calculating the means of each type\n",
    "FMmean = FMnorm.mean(1)\n",
    "MetastaticMean = Metastatic.mean(1)\n",
    "\n",
    "# Calculating the difference of the means\n",
    "MeanDiff = FMmean - MetastaticMean\n",
    "\n",
    "# Finding the max and the minimum means\n",
    "maxDiffGene = MeanDiff.idxmax()\n",
    "minDiffGene = MeanDiff.idxmin()\n",
    "\n",
    "print(MeanDiff.sort_values())"
   ]
  },
  {
   "cell_type": "code",
   "execution_count": 141,
   "metadata": {},
   "outputs": [
    {
     "name": "stdout",
     "output_type": "stream",
     "text": [
      "EHF\n",
      "Sample Title\n",
      "FM_1    3.169925\n",
      "FM_2    2.321928\n",
      "FM_3    4.584963\n",
      "Name: FOXC1, dtype: float64\n",
      "Sample Title\n",
      "SK_MEL_28_1      7.845490\n",
      "SK_MEL_28_2      8.262095\n",
      "SK_MEL_28_3      8.348728\n",
      "SK_MEL_147_1    10.200899\n",
      "SK_MEL_147_2    10.159871\n",
      "SK_MEL_147_3    10.258566\n",
      "UACC_62_1       10.044394\n",
      "UACC_62_2       10.112440\n",
      "UACC_62_3       10.029287\n",
      "Name: FOXC1, dtype: float64\n"
     ]
    }
   ],
   "source": [
    "print(minDiffGene) #Note that gene of interest will be \"KIF5A\"\n",
    "print(FMnorm.loc['FOXC1'])\n",
    "print(Metastatic.loc['FOXC1'])"
   ]
  },
  {
   "cell_type": "markdown",
   "metadata": {},
   "source": [
    "There are many ways to plot categorical data like `bar`, `box` and `whisker`, `swarm` plots. Let's look at the expression of `AEBP1` using each of these methods. There are separate methods for each, but they are pulled together for convenience in one function, `catplot`."
   ]
  },
  {
   "cell_type": "code",
   "execution_count": 146,
   "metadata": {},
   "outputs": [
    {
     "data": {
      "image/png": "[encoded data removed]",
      "text/plain": [
       "<Figure size 360x360 with 1 Axes>"
      ]
     },
     "metadata": {
      "needs_background": "light"
     },
     "output_type": "display_data"
    }
   ],
   "source": [
    "# Starting off with a bar plot\n",
    "sns.set_context(\"notebook\")\n",
    "g = sns.catplot(x = 'Stage',y='FOXC1', data=dfT, kind=\"bar\")\n",
    "plt.show()\n",
    "# Note that the error bars are plotted by default"
   ]
  },
  {
   "cell_type": "code",
   "execution_count": 145,
   "metadata": {},
   "outputs": [
    {
     "data": {
      "image/png": "[encoded data removed]",
      "text/plain": [
       "<Figure size 360x360 with 1 Axes>"
      ]
     },
     "metadata": {
      "needs_background": "light"
     },
     "output_type": "display_data"
    }
   ],
   "source": [
    "g = sns.catplot(x = 'Stage',y='FOXC1', data=dfT, kind=\"box\")\n",
    "plt.show()"
   ]
  },
  {
   "cell_type": "code",
   "execution_count": 144,
   "metadata": {},
   "outputs": [
    {
     "data": {
      "image/png": "[encoded data removed]",
      "text/plain": [
       "<Figure size 360x360 with 1 Axes>"
      ]
     },
     "metadata": {
      "needs_background": "light"
     },
     "output_type": "display_data"
    }
   ],
   "source": [
    "g = sns.catplot(x = 'Stage',y = 'FOXC1', data=dfT, kind=\"swarm\")\n",
    "plt.show()"
   ]
  },
  {
   "cell_type": "code",
   "execution_count": 143,
   "metadata": {},
   "outputs": [
    {
     "data": {
      "image/png": "[encoded data removed]",
      "text/plain": [
       "<Figure size 480.85x360 with 1 Axes>"
      ]
     },
     "metadata": {
      "needs_background": "light"
     },
     "output_type": "display_data"
    }
   ],
   "source": [
    "g = sns.catplot(x = 'Stage',y = 'FOXC1',hue = 'SampleName', data=dfT, kind=\"swarm\")\n",
    "plt.show()"
   ]
  },
  {
   "cell_type": "code",
   "execution_count": 142,
   "metadata": {},
   "outputs": [
    {
     "data": {
      "image/png": "[encoded data removed]",
      "text/plain": [
       "<Figure size 360x360 with 1 Axes>"
      ]
     },
     "metadata": {
      "needs_background": "light"
     },
     "output_type": "display_data"
    }
   ],
   "source": [
    "g = sns.catplot(x=\"Stage\", y=\"FOXC1\", kind=\"box\", data=dfT)\n",
    "sns.swarmplot(x=\"Stage\", y=\"FOXC1\", color=\"k\", size=7, data=dfT, ax=g.ax);"
   ]
  }
 ],
 "metadata": {
  "kernelspec": {
   "display_name": "Python 3",
   "language": "python",
   "name": "python3"
  },
  "language_info": {
   "codemirror_mode": {
    "name": "ipython",
    "version": 3
   },
   "file_extension": ".py",
   "mimetype": "text/x-python",
   "name": "python",
   "nbconvert_exporter": "python",
   "pygments_lexer": "ipython3",
   "version": "3.7.1"
  }
 },
 "nbformat": 4,
 "nbformat_minor": 2
}
