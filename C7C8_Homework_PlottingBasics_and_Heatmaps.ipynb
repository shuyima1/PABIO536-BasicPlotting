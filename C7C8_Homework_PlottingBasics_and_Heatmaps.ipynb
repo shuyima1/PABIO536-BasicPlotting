{
 "cells": [
  {
   "cell_type": "markdown",
   "metadata": {},
   "source": [
    "# Homework for Classes 7 & 8\n",
    "\n",
    "The goal of this homework is to generate an overlayed boxplot/swarm plot and a clustermap of the top significant genes selected by ANOVA by cell line.\n",
    "\n",
    "Fill in the pieces prompted by `None` in the cells below. Note, that some of those `None` pieces may require more than 1 line of code. There are also 2 questions that I have prompted you to answer. Please fill in your written answer in the markdown cell space provided.\n",
    "\n",
    "### Note 1: \n",
    "To submit this assignment, please upload your completed .ipynb file to canvas by __5pm on Sunday April 28th__.\n",
    "\n",
    "### Note 2: \n",
    "This document also contains __optional__ extra practice problems at the bottom, which will __not__ be graded and are only intended to give you extra practice, if you want to do it (I'll post answers with the key). I have demarcated these optional sections with a section heading."
   ]
  },
  {
   "cell_type": "code",
   "execution_count": 10,
   "metadata": {},
   "outputs": [],
   "source": [
    "# Start with importing the packages\n",
    "import matplotlib.pyplot as plt\n",
    "import numpy as np\n",
    "import pandas as pd\n",
    "import seaborn as sns\n",
    "import scipy\n",
    "from scipy import stats\n",
    "\n",
    "# We're also going to tell Jupyter to use inline plotting instead of notebook plotting\n",
    "# It basically means you don't have to use plt.show() in every cell\n",
    "%matplotlib inline"
   ]
  },
  {
   "cell_type": "code",
   "execution_count": 2,
   "metadata": {},
   "outputs": [],
   "source": [
    "# Import the data file df_T.csv:\n",
    "dfT = None"
   ]
  },
  {
   "cell_type": "code",
   "execution_count": 2,
   "metadata": {},
   "outputs": [],
   "source": [
    "# Create separate variables that contain the gene expression values of each of the cell lines: FM, SK_MEL_28, SK_MEL_147, and UACC_62\n",
    "# Want genes in columns, samples in rows.\n",
    "FM = None\n",
    "SK_MEL_28 = None\n",
    "SK_MEL_147 = None\n",
    "UACC_62 = None\n",
    "\n",
    "#print(FM.head(),SK_MEL_28.head(),SK_MEL_147.head(),UACC_62.head())"
   ]
  },
  {
   "cell_type": "code",
   "execution_count": 13,
   "metadata": {},
   "outputs": [],
   "source": [
    "# Generate ANOVA statistics and p values. (Hint: look in class 6 notes)\n",
    "\n",
    "None\n",
    "\n",
    "#print(p)"
   ]
  },
  {
   "cell_type": "code",
   "execution_count": 4,
   "metadata": {
    "scrolled": false
   },
   "outputs": [],
   "source": [
    "# Generated an array of genes that is sorted by the ANOVA p value. (Hint: look in class 7 notes)\n",
    "\n",
    "orderedgenes = None\n",
    "\n",
    "#print(orderedgenes)"
   ]
  },
  {
   "cell_type": "code",
   "execution_count": 7,
   "metadata": {},
   "outputs": [
    {
     "name": "stdout",
     "output_type": "stream",
     "text": [
      "None None\n"
     ]
    }
   ],
   "source": [
    "# Print the names of the top 2 most significant genes, and their associated p-values\n",
    "print(None,None)"
   ]
  },
  {
   "cell_type": "code",
   "execution_count": 11,
   "metadata": {
    "scrolled": false
   },
   "outputs": [],
   "source": [
    "# Generate an overlayed boxplot/swarm plot of each cell line's expression of the top gene. \n",
    "# Try to choose a pretty color palette.\n",
    "None\n",
    "None\n",
    "plt.show()"
   ]
  },
  {
   "cell_type": "code",
   "execution_count": 12,
   "metadata": {},
   "outputs": [],
   "source": [
    "# Generate an overlayed boxplot/swarm plot of each cell line's expression of the second most significant gene. \n",
    "# Try to choose a pretty color palette.\n",
    "None\n",
    "None\n",
    "plt.show()"
   ]
  },
  {
   "cell_type": "markdown",
   "metadata": {},
   "source": [
    "__Question:__ Out of the 2 genes that you plotted, which look like they would be more useful as a marker that distinguishes cancer vs. normal? Would both of them be useful? \n",
    "Write the answer in the markdown cell below:"
   ]
  },
  {
   "cell_type": "markdown",
   "metadata": {},
   "source": [
    "Your Answer: "
   ]
  },
  {
   "cell_type": "markdown",
   "metadata": {},
   "source": [
    "***\n"
   ]
  },
  {
   "cell_type": "code",
   "execution_count": 18,
   "metadata": {},
   "outputs": [
    {
     "name": "stdout",
     "output_type": "stream",
     "text": [
      "None None\n"
     ]
    }
   ],
   "source": [
    "# Print the names of the top 10 most significant genes, and their associated p-values\n",
    "print(None,None)"
   ]
  },
  {
   "cell_type": "code",
   "execution_count": 19,
   "metadata": {},
   "outputs": [],
   "source": [
    "# Generate a clustermap of the expression these 10 genes, with all of the samples in the rows. \n",
    "# Make sure to standard scale the expression values, add color bars to label the cancer vs. normal samples, and try a pretty color palette\n",
    "# (Hint: look at class 8 notes).\n",
    "\n",
    "# Generate color bars\n",
    "None\n",
    "\n",
    "# Generate clustermap\n",
    "None"
   ]
  },
  {
   "cell_type": "markdown",
   "metadata": {},
   "source": [
    "__Question__: Based on this clustermap, which of the 10 genes look like they would be useful as a marker that distinguishes cancer vs. normal? \n",
    "Write the answer in the markdown cell below:"
   ]
  },
  {
   "cell_type": "markdown",
   "metadata": {},
   "source": [
    "Your Answer: "
   ]
  },
  {
   "cell_type": "markdown",
   "metadata": {},
   "source": [
    "***\n",
    "#### Optional Extra Practice Section:\n",
    "\n",
    "Plot bar plots and swarm of these genes with the cell line type on the x-axes. For the swarm plot, color the points by cancer vs. normal.\n",
    "\n",
    "These plots are optional to do, and will not be graded. They are only intended to give you some extra practice."
   ]
  },
  {
   "cell_type": "code",
   "execution_count": 14,
   "metadata": {
    "scrolled": false
   },
   "outputs": [],
   "source": [
    "# Bar plot, top gene\n",
    "None"
   ]
  },
  {
   "cell_type": "code",
   "execution_count": 15,
   "metadata": {},
   "outputs": [],
   "source": [
    "# Bar plot, second top gene\n",
    "None"
   ]
  },
  {
   "cell_type": "code",
   "execution_count": 16,
   "metadata": {},
   "outputs": [],
   "source": [
    "# Swarm plot, top gene\n",
    "None"
   ]
  },
  {
   "cell_type": "code",
   "execution_count": 20,
   "metadata": {},
   "outputs": [],
   "source": [
    "# Swarm plot, second top gene\n",
    "None"
   ]
  },
  {
   "cell_type": "markdown",
   "metadata": {},
   "source": [
    "\n",
    "Plot a clustergram with the top 20 genes, and add color bars to label each of the four cell line types.\n",
    "\n",
    "This is optional to do, and will not be graded. They are only intended to give you some extra practice."
   ]
  },
  {
   "cell_type": "code",
   "execution_count": 21,
   "metadata": {},
   "outputs": [],
   "source": [
    "# Generate color bars\n",
    "None\n",
    "\n",
    "# Generate clustermap\n",
    "None"
   ]
  }
 ],
 "metadata": {
  "kernelspec": {
   "display_name": "Python 3",
   "language": "python",
   "name": "python3"
  },
  "language_info": {
   "codemirror_mode": {
    "name": "ipython",
    "version": 3
   },
   "file_extension": ".py",
   "mimetype": "text/x-python",
   "name": "python",
   "nbconvert_exporter": "python",
   "pygments_lexer": "ipython3",
   "version": "3.7.1"
  }
 },
 "nbformat": 4,
 "nbformat_minor": 2
}
