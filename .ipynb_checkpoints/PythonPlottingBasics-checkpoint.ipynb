{
 "cells": [
  {
   "cell_type": "code",
   "execution_count": 5,
   "metadata": {
    "collapsed": true
   },
   "outputs": [],
   "source": [
    "import matplotlib.pyplot as plt"
   ]
  },
  {
   "cell_type": "code",
   "execution_count": 6,
   "metadata": {
    "collapsed": true
   },
   "outputs": [],
   "source": [
    "import numpy as np"
   ]
  },
  {
   "cell_type": "code",
   "execution_count": 7,
   "metadata": {
    "collapsed": true
   },
   "outputs": [],
   "source": [
    "np.random.seed(444)"
   ]
  },
  {
   "cell_type": "code",
   "execution_count": 13,
   "metadata": {
    "collapsed": false
   },
   "outputs": [],
   "source": [
    "rng = np.arange(50)\n",
    "rnd = np.random.randint(0,10,size=(3,rng.size))\n",
    "yrs = 1950 + rng\n",
    "\n",
    "fig, ax = plt.subplots(figsize=(5,3))\n",
    "ax.stackplot(yrs, rng+rnd, labels = ['Eastasia','Eurasia','Oceania'])\n",
    "ax.set_title('Combined debt growth over time')\n",
    "ax.legend(loc='upper left')\n",
    "ax.set_ylabel('Total debt')\n",
    "ax.set_xlim(xmin=yrs[0],xmax=yrs[-1])\n",
    "fig.tight_layout()"
   ]
  },
  {
   "cell_type": "code",
   "execution_count": 16,
   "metadata": {
    "collapsed": false
   },
   "outputs": [
    {
     "data": {
      "text/plain": [
       "array([[3, 4, 5, 0, 5, 0, 1, 6, 5, 4, 3, 9, 5, 8, 4, 2, 2, 8, 0, 3, 5, 2,\n",
       "        2, 6, 3, 3, 0, 7, 1, 0, 2, 4, 2, 1, 5, 8, 3, 5, 7, 7, 5, 0, 4, 1,\n",
       "        4, 4, 7, 6, 6, 3],\n",
       "       [8, 7, 7, 6, 0, 3, 4, 4, 0, 9, 9, 6, 8, 8, 7, 1, 2, 0, 5, 5, 9, 2,\n",
       "        8, 3, 1, 9, 8, 6, 6, 8, 7, 4, 3, 1, 2, 2, 8, 5, 8, 5, 4, 6, 0, 6,\n",
       "        0, 0, 9, 9, 3, 9],\n",
       "       [9, 1, 7, 0, 9, 4, 9, 4, 3, 9, 6, 7, 7, 2, 5, 9, 0, 9, 8, 4, 8, 2,\n",
       "        7, 3, 2, 1, 0, 7, 7, 7, 7, 1, 5, 5, 2, 7, 2, 3, 4, 7, 6, 8, 4, 6,\n",
       "        8, 5, 7, 7, 1, 8]])"
      ]
     },
     "execution_count": 16,
     "metadata": {},
     "output_type": "execute_result"
    }
   ],
   "source": [
    "rnd"
   ]
  },
  {
   "cell_type": "code",
   "execution_count": null,
   "metadata": {
    "collapsed": true
   },
   "outputs": [],
   "source": []
  }
 ],
 "metadata": {
  "kernelspec": {
   "display_name": "Python 3",
   "language": "python",
   "name": "python3"
  },
  "language_info": {
   "codemirror_mode": {
    "name": "ipython",
    "version": 3
   },
   "file_extension": ".py",
   "mimetype": "text/x-python",
   "name": "python",
   "nbconvert_exporter": "python",
   "pygments_lexer": "ipython3",
   "version": "3.4.5"
  }
 },
 "nbformat": 4,
 "nbformat_minor": 2
}
