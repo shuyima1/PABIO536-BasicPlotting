{
 "cells": [
  {
   "cell_type": "code",
   "execution_count": 1,
   "metadata": {},
   "outputs": [],
   "source": [
    "import matplotlib.pyplot as plt\n",
    "import numpy as np\n",
    "import pandas as pd\n",
    "import seaborn as sns"
   ]
  },
  {
   "cell_type": "code",
   "execution_count": 3,
   "metadata": {},
   "outputs": [
    {
     "name": "stdout",
     "output_type": "stream",
     "text": [
      "             GSM2344965  GSM2344966  GSM2344967  GSM2344968  GSM2344969  \\\n",
      "gene_symbol                                                               \n",
      "ASPDH                 1           1           1           4           0   \n",
      "KRT18P19              0           0           0           1           0   \n",
      "ANKIB1             2578        2432        2067        2634        3238   \n",
      "AGGF1P6               0           0           0           0           0   \n",
      "ZNF618             1489        1441        1089         997        1088   \n",
      "\n",
      "             GSM2344970  GSM2344971  GSM2344972  GSM2344973  GSM2344974  \\\n",
      "gene_symbol                                                               \n",
      "ASPDH                 1           2           1           1           2   \n",
      "KRT18P19              0           2           1           2           0   \n",
      "ANKIB1             3158        2373        1908        2324        2918   \n",
      "AGGF1P6               0           0           0           0           2   \n",
      "ZNF618              994        1947        1521        1617        1121   \n",
      "\n",
      "             GSM2344975  GSM2344976  \n",
      "gene_symbol                          \n",
      "ASPDH                 1           8  \n",
      "KRT18P19              0           2  \n",
      "ANKIB1             3352        3200  \n",
      "AGGF1P6               2           1  \n",
      "ZNF618              978        1184  \n"
     ]
    }
   ],
   "source": [
    "# The data is tab separated and the first column has the gene names\n",
    "# Remember that most things in python are zero-indexed, so the first\n",
    "# column is index 0\n",
    "df = pd.read_csv('../Pabio536/C4-5_ Numpy and pandas/data/GSE88741-expression.txt', sep='\\t', index_col=0)\n",
    "df_sample = df.sample(100, axis = 0, random_state = 333)\n",
    "print (df_sample.head())"
   ]
  },
  {
   "cell_type": "code",
   "execution_count": 7,
   "metadata": {
    "collapsed": true
   },
   "outputs": [],
   "source": [
    "np.random.seed(444)"
   ]
  },
  {
   "cell_type": "code",
   "execution_count": 13,
   "metadata": {},
   "outputs": [],
   "source": [
    "rng = np.arange(50)\n",
    "rnd = np.random.randint(0,10,size=(3,rng.size))\n",
    "yrs = 1950 + rng\n",
    "\n",
    "fig, ax = plt.subplots(figsize=(5,3))\n",
    "ax.stackplot(yrs, rng+rnd, labels = ['Eastasia','Eurasia','Oceania'])\n",
    "ax.set_title('Combined debt growth over time')\n",
    "ax.legend(loc='upper left')\n",
    "ax.set_ylabel('Total debt')\n",
    "ax.set_xlim(xmin=yrs[0],xmax=yrs[-1])\n",
    "fig.tight_layout()"
   ]
  },
  {
   "cell_type": "code",
   "execution_count": 16,
   "metadata": {},
   "outputs": [
    {
     "data": {
      "text/plain": [
       "array([[3, 4, 5, 0, 5, 0, 1, 6, 5, 4, 3, 9, 5, 8, 4, 2, 2, 8, 0, 3, 5, 2,\n",
       "        2, 6, 3, 3, 0, 7, 1, 0, 2, 4, 2, 1, 5, 8, 3, 5, 7, 7, 5, 0, 4, 1,\n",
       "        4, 4, 7, 6, 6, 3],\n",
       "       [8, 7, 7, 6, 0, 3, 4, 4, 0, 9, 9, 6, 8, 8, 7, 1, 2, 0, 5, 5, 9, 2,\n",
       "        8, 3, 1, 9, 8, 6, 6, 8, 7, 4, 3, 1, 2, 2, 8, 5, 8, 5, 4, 6, 0, 6,\n",
       "        0, 0, 9, 9, 3, 9],\n",
       "       [9, 1, 7, 0, 9, 4, 9, 4, 3, 9, 6, 7, 7, 2, 5, 9, 0, 9, 8, 4, 8, 2,\n",
       "        7, 3, 2, 1, 0, 7, 7, 7, 7, 1, 5, 5, 2, 7, 2, 3, 4, 7, 6, 8, 4, 6,\n",
       "        8, 5, 7, 7, 1, 8]])"
      ]
     },
     "execution_count": 16,
     "metadata": {},
     "output_type": "execute_result"
    }
   ],
   "source": [
    "rnd"
   ]
  },
  {
   "cell_type": "code",
   "execution_count": null,
   "metadata": {
    "collapsed": true
   },
   "outputs": [],
   "source": []
  }
 ],
 "metadata": {
  "kernelspec": {
   "display_name": "Python 3",
   "language": "python",
   "name": "python3"
  },
  "language_info": {
   "codemirror_mode": {
    "name": "ipython",
    "version": 3
   },
   "file_extension": ".py",
   "mimetype": "text/x-python",
   "name": "python",
   "nbconvert_exporter": "python",
   "pygments_lexer": "ipython3",
   "version": "3.7.1"
  }
 },
 "nbformat": 4,
 "nbformat_minor": 2
}
