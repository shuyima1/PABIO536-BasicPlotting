{
 "cells": [
  {
   "cell_type": "code",
   "execution_count": null,
   "metadata": {},
   "outputs": [],
   "source": [
    "# Makes it so any variable or statement on it's own line gets printed w/o print()\n",
    "from IPython.core.interactiveshell import InteractiveShell\n",
    "InteractiveShell.ast_node_interactivity = \"all\""
   ]
  },
  {
   "cell_type": "markdown",
   "metadata": {},
   "source": [
    "# Plotting data with Seaborn and matplotlib\n",
    "\n",
    "Your ability to understand and communicate data is often entirely dependent on your ability to make a visual representation of that data. The most widely used python libraries for plotting scientific data are `matplotlib` and `seaborn`.\n",
    "\n",
    "## Key Takeaways:\n",
    "\n",
    "In today's class we will explore the wide range of python plotting options. We will:\n",
    "\n",
    " - Use Relational Plots to compare samples, getting a visual readout of variability\n",
    " - Use Histograms and Marginal Plots to look at how data are distributed.\n",
    " - Use Categorical Plots to generate focused plots looking at that gene's expression\n",
    "\n",
    "First, we need to import `pyplot` and `seaborn`. While we're at it, let's import numpy and pandas to store and manipulate data prior to plotting."
   ]
  },
  {
   "cell_type": "code",
   "execution_count": 26,
   "metadata": {},
   "outputs": [],
   "source": [
    "# Start with importing the packages\n",
    "import matplotlib.pyplot as plt\n",
    "import numpy as np\n",
    "import pandas as pd\n",
    "import seaborn as sns\n",
    "import scipy\n",
    "from scipy import stats\n",
    "\n",
    "# We're also going to tell Jupyter to use inline plotting instead of notebook plotting\n",
    "# It basically means you don't have to use plt.show() in every cell\n",
    "%matplotlib inline"
   ]
  },
  {
   "cell_type": "markdown",
   "metadata": {},
   "source": [
    "Next, we will import the melanoma data files that you generated for your homework using `pd.read_csv()`.\n",
    "\n",
    "There are 3 key data frames that we'll be working with:\n",
    "\n",
    " - `df_log2`: log2-transformed expression values, with different cell line replicates in the columns and genes in rows.\n",
    " - `df_group`: a condensed version of `df_log2` with the different biological replicates consolidated. Cell lines are in the columns, and genes are in rows.\n",
    " - `dfT`: a transposed version of `df_log2` that has the genes in the columns and the different cell line replicates in the rows. This data frame also has the metadata information in the first 5 columns."
   ]
  },
  {
   "cell_type": "code",
   "execution_count": 4,
   "metadata": {},
   "outputs": [
    {
     "name": "stdout",
     "output_type": "stream",
     "text": [
      "                  FM_1       FM_2       FM_3  SK_MEL_28_1  SK_MEL_28_2  \\\n",
      "gene_symbol                                                              \n",
      "ANKIB1       11.332037  11.247928  11.013323    11.363040    11.660887   \n",
      "ZNF618       10.540128  10.492855  10.088788     9.961450    10.087463   \n",
      "IMPG2         3.700440   3.169925   3.906891     2.000000     1.000000   \n",
      "SLC26A6      10.112440   9.575539  10.558421     9.816984    10.142107   \n",
      "MAPKAPK3     10.664447  10.799282  10.487840     9.903882     9.995767   \n",
      "\n",
      "             SK_MEL_28_3  SK_MEL_147_1  SK_MEL_147_2  SK_MEL_147_3  UACC_62_1  \\\n",
      "gene_symbol                                                                     \n",
      "ANKIB1         11.624795     11.212496     10.897845     11.182394  11.510764   \n",
      "ZNF618          9.957102     10.927037     10.570804     10.659104  10.130571   \n",
      "IMPG2           2.584963      4.169925      3.807355      3.700440   4.643856   \n",
      "SLC26A6         9.936638      9.768184     10.029287      9.824959  10.456354   \n",
      "MAPKAPK3       10.075479     11.240791     11.287712     11.264443  10.461479   \n",
      "\n",
      "             UACC_62_2  UACC_62_3  \n",
      "gene_symbol                        \n",
      "ANKIB1       11.710806  11.643856  \n",
      "ZNF618        9.933691  10.209453  \n",
      "IMPG2         3.906891   3.906891  \n",
      "SLC26A6      10.641149  10.365229  \n",
      "MAPKAPK3     10.650154  10.301496   (93, 12)\n",
      "             Sample_geo_accession                Stage           cell type  \\\n",
      "Sample Title                                                                 \n",
      "FM_1                   GSM2344965  primary melanocytes  normal melanocytes   \n",
      "FM_2                   GSM2344966  primary melanocytes  normal melanocytes   \n",
      "FM_3                   GSM2344967  primary melanocytes  normal melanocytes   \n",
      "SK_MEL_28_1            GSM2344968           metastatic  melanoma cell line   \n",
      "SK_MEL_28_2            GSM2344969           metastatic  melanoma cell line   \n",
      "\n",
      "               CellLine     ANKIB1     ZNF618     IMPG2    SLC26A6   MAPKAPK3  \\\n",
      "Sample Title                                                                    \n",
      "FM_1                 FM  11.332037  10.540128  3.700440  10.112440  10.664447   \n",
      "FM_2                 FM  11.247928  10.492855  3.169925   9.575539  10.799282   \n",
      "FM_3                 FM  11.013323  10.088788  3.906891  10.558421  10.487840   \n",
      "SK_MEL_28_1   SK_MEL_28  11.363040   9.961450  2.000000   9.816984   9.903882   \n",
      "SK_MEL_28_2   SK_MEL_28  11.660887  10.087463  1.000000  10.142107   9.995767   \n",
      "\n",
      "                 DYNLT3    ...      RP11-872D17.8     CC2D1A  RP11-146B14.1  \\\n",
      "Sample Title               ...                                                \n",
      "FM_1           8.459432    ...           3.584963  10.602699       6.209453   \n",
      "FM_2           8.915879    ...           4.169925  10.338736       6.000000   \n",
      "FM_3           9.152285    ...           4.169925  10.529431       5.906891   \n",
      "SK_MEL_28_1   10.211888    ...           4.000000  10.738092       5.807355   \n",
      "SK_MEL_28_2   10.583083    ...           4.807355  10.997885       4.523562   \n",
      "\n",
      "                 GPR83    SCAMP5      FRS2    ABCC11    BMS1P7    CHRNB1  \\\n",
      "Sample Title                                                               \n",
      "FM_1          4.321928  7.066089  9.567956  6.169925  4.247928  8.758223   \n",
      "FM_2          3.584963  6.569856  9.677720  5.906891  5.044394  8.169925   \n",
      "FM_3          3.807355  6.475733  9.357552  5.643856  3.906891  8.139551   \n",
      "SK_MEL_28_1   3.321928  8.066089  9.379378  5.554589 -6.643856  7.179909   \n",
      "SK_MEL_28_2   3.321928  8.209453  9.651052  5.930737 -6.643856  7.294621   \n",
      "\n",
      "                CCDC90B  \n",
      "Sample Title             \n",
      "FM_1          10.224002  \n",
      "FM_2          10.388017  \n",
      "FM_3          10.186114  \n",
      "SK_MEL_28_1    9.873444  \n",
      "SK_MEL_28_2   10.060696  \n",
      "\n",
      "[5 rows x 97 columns] (12, 97)\n",
      "                 FM  SK_MEL_147  SK_MEL_28    UACC_62\n",
      "ANKIB1    11.197762   11.097579  11.549574  11.621809\n",
      "ZNF618    10.373924   10.718982  10.002005  10.091238\n",
      "IMPG2      3.592418    3.892573   1.861654   4.152546\n",
      "SLC26A6   10.082133    9.874143   9.965243  10.487577\n",
      "MAPKAPK3  10.650523   11.264315   9.991709  10.471043 (93, 4)\n"
     ]
    }
   ],
   "source": [
    "# Now to import some data to work with:\n",
    "df_log2 = pd.read_csv('../Pabio536/C4C5_ Numpy_and_pandas/df_log2.csv', index_col=0)\n",
    "dfT = pd.read_csv('../Pabio536/C4C5_ Numpy_and_pandas/df_T.csv', index_col=0)\n",
    "df_group = pd.read_csv('../Pabio536/C4C5_ Numpy_and_pandas/df_group.csv', index_col=0)\n",
    "\n",
    "print (df_log2.head(),df_log2.shape)\n",
    "print (dfT.head(),dfT.shape)\n",
    "print (df_group.head(),df_group.shape)\n"
   ]
  },
  {
   "cell_type": "markdown",
   "metadata": {},
   "source": [
    "### Data frame organization:\n",
    "\n",
    "The plotting libraries we are using are like the those in pandas that we've introduced: expecting each column to be a different variable and each row a different observation.\n",
    "\n",
    "When comparing __samples or cell lines__ to each other, it makes sense to have the samples as the variable columns and have each gene be an 'observation' of how similar the samples are, gene by gene. For these plots, we'll use `df_log2` and `df_group`, respectively.\n",
    "\n",
    "When comparing __genes__  to each other, we want to have the genes as the columns and the samples as the rows. For these plots, we'll use `dfT`."
   ]
  },
  {
   "cell_type": "markdown",
   "metadata": {},
   "source": [
    "## A brief dabble into `matplotlib`'s `pyplot`:\n",
    "\n",
    "The plotting functionalities we're going to be talking about from `pyplot` and `seaborn` are all based on functions from the `matplotlib` package. We're going to do the majority of our plotting with `seaborn` since the code is cleaner and the plots are prettier, but it's useful to see how you can plot something with the base case.\n",
    "\n",
    "Fundamentally, when you ask `pyplot` to create a plot, it's creating 3 layers of objects, illustrated here:\n",
    "\n",
    "<img src=\"https://files.realpython.com/media/fig_map.bc8c7cabd823.png\" alt=\"Objects of a pyplot figure\" title = \"Pyplot hierarchy\"/>\n",
    "\n",
    "1. a \"figure\": a container for 1 or more plots.\n",
    "1. an \"axes\": each individual plot within a _figure_.\n",
    "1. a set of plot components (e.g, x-axis, y-axis, legends, labels, etc) within each _axes_.\n",
    "\n",
    "`pyplot` treats each element of a plot as a separate object. A figure is the whole figure, and axes is one subplot within that figure. You can create and manipulate each part of the figure.\n",
    "\n",
    "The image below is a visual glossary to help you see of all the features you can adjust within a `pyplot` figure:\n",
    "\n",
    "<img src=\"https://files.realpython.com/media/anatomy.7d033ebbfbc8.png\" alt=\"Objects of a pyplot figure\" title = \"Pyplot hierarchy\"/>\n",
    "\n",
    "***\n",
    "\n",
    "The most explicit way to plot something is to use a function to define the \"figure\" and \"axes\" objects, then modify the \"axes\" by filling it with specific pieces:"
   ]
  },
  {
   "cell_type": "code",
   "execution_count": 5,
   "metadata": {},
   "outputs": [
    {
     "data": {
      "image/png": "[encoded data removed]",
      "text/plain": [
       "<Figure size 432x288 with 1 Axes>"
      ]
     },
     "metadata": {
      "needs_background": "light"
     },
     "output_type": "display_data"
    }
   ],
   "source": [
    "# define the figure and axes objects, assigning to the variables \"fig\" and \"ax,\" respectively.\n",
    "fig, ax = plt.subplots() # Note: this is your opportunity to define how many plots you want in a figure, and what is your desired figure size (with arguments added to plt.subplots())\n",
    "ax.scatter(x = df_log2['FM_1'], y = df_log2['FM_2'], marker = 'o', color = 'r') # This tells that you want a scatter plot \n",
    "# plot modifiers\n",
    "ax.set_title('Scatter plot of FM_1 vs. FM_2')\n",
    "ax.set_xlabel('Sample FM_1')\n",
    "ax.set_ylabel('Sample FM_2')\n",
    "plt.show()"
   ]
  },
  {
   "cell_type": "markdown",
   "metadata": {},
   "source": [
    "This gets kind of clunky, so pyplot enables a more streamlined way of plotting, which __implicitly__ modifies the most recent \"axes\" object that's being acted on:"
   ]
  },
  {
   "cell_type": "code",
   "execution_count": 6,
   "metadata": {},
   "outputs": [
    {
     "data": {
      "image/png": "[encoded data removed]",
      "text/plain": [
       "<Figure size 432x288 with 1 Axes>"
      ]
     },
     "metadata": {
      "needs_background": "light"
     },
     "output_type": "display_data"
    }
   ],
   "source": [
    "plt.scatter(x = df_log2['FM_1'], y = df_log2['FM_2'], marker = 'o', color = 'r')\n",
    "plt.title('Scatter plot of FM_1 vs. FM_2')\n",
    "plt.xlabel('Sample FM_1')\n",
    "plt.ylabel('Sample FM_2')\n",
    "plt.show()"
   ]
  },
  {
   "cell_type": "markdown",
   "metadata": {},
   "source": [
    "The benefit of this approach is that it's easier to read, and easier to type. But, if you've got multiple axes objects within a figure, `pyplot` may end up making the wrong adjustments/plots in the wrong axes/plot area.\n",
    "\n",
    "For more information about pyplot, the following websites are good resources:\n",
    "\n",
    " - https://www.datacamp.com/community/tutorials/matplotlib-tutorial-python\n",
    " - https://realpython.com/python-matplotlib-guide/"
   ]
  },
  {
   "cell_type": "markdown",
   "metadata": {},
   "source": [
    "## Seaborn plotting\n",
    "\n",
    "`seaborn` is the package to use if you want to make some fancier, prettier, more customized plots, so we're going to spend the rest of our time focusing on using this. Note though that you will still be modifying `seaborn` figures with `pyplot` functions. "
   ]
  },
  {
   "cell_type": "markdown",
   "metadata": {},
   "source": [
    "### Relational Plots\n",
    "\n",
    "We mentioned in an earlier class that `pandas` is built on top of `numpy` to provide easier syntax, easier to read code, and more visually appealing tables. Similarly, `seaborn` is a wrapper around `matplotlib` that makes a fairly complex but powerful library more accessible. We will be showing you both at the same time, as we think `seaborn` is easier to learn and use.  \n",
    "\n",
    "Scatter plots or line plots are useful for showing the __relationship__ between two variables, which we can plot using the `seaborn` function `relplot`. Let's start by comparing two replicate samples, `FM_1` and `FM_2` across all genes in our log2 transformed sampleset."
   ]
  },
  {
   "cell_type": "code",
   "execution_count": 7,
   "metadata": {},
   "outputs": [
    {
     "data": {
      "image/png": "[encoded data removed]",
      "text/plain": [
       "<Figure size 360x360 with 1 Axes>"
      ]
     },
     "metadata": {
      "needs_background": "light"
     },
     "output_type": "display_data"
    }
   ],
   "source": [
    "sns.set_context(\"notebook\") # This sets the overall visualization characteristics. Options: \"notebook\",“paper”, “talk”, and “poster”\n",
    "\n",
    "g = sns.relplot(x=\"FM_1\", y=\"FM_2\", data=df_log2)\n",
    "plt.show()"
   ]
  },
  {
   "cell_type": "markdown",
   "metadata": {},
   "source": [
    "So, right off the bat we are mixing sns and plt. In the first line of code we are calling the `sns` function `relplot`, which defaults to a scatterplot. This website gives more information about what you can do with the `relplot` function: https://seaborn.pydata.org/tutorial/relational.html#relational-tutorial\n",
    "\n",
    "For example, you can also use `relplot` to show lines by changing the \"kind\" argument (give it a try).\n",
    "\n",
    "Notice that we assign the plot to a variable, and then use `plt.show` from `matplotlib` to print the plot. This is one of several ways to print plots. You will also often see code blocks that simply end with a plotting function, which has a similar output.\n",
    "\n",
    "***\n",
    "\n",
    "Let's do some customizations on this plot. \n",
    "\n",
    "When you make a plot using `plt` or `sns`, you can build it element by element. \n",
    "\n",
    "To facilitate comparison between these 2 samples and look for genes that have *large* expression changes, we want to indicate what a 2-fold expression change with lines look like.\n",
    "\n",
    "To do this, let's repeat the plot from above, but add lines using the `plt.plot` that show the cutoff for a two-fold change. Since our data is in log2, we simply need lines one step out from the identity line (y=x).\n",
    "\n",
    "Note that you can tell seaborn to plot the color of the points according to a specific variable."
   ]
  },
  {
   "cell_type": "code",
   "execution_count": 8,
   "metadata": {},
   "outputs": [
    {
     "data": {
      "image/png": "[encoded data removed]",
      "text/plain": [
       "<Figure size 421.75x360 with 1 Axes>"
      ]
     },
     "metadata": {
      "needs_background": "light"
     },
     "output_type": "display_data"
    }
   ],
   "source": [
    "g = sns.relplot(x=\"FM_1\", y=\"FM_2\", data=df_log2,hue = 'FM_2')\n",
    "plt.plot([-7,15],[-6,16],'k') # adding a line going from  (x,y) = (-7,-6) to (15,16); 'k' changes the color of the line to black\n",
    "plt.plot([-6,16],[-7,15],'k') # adding a line going from  (x,y) = (-6,-7) to (16,15) \n",
    "\n",
    "# other customizations of the plot:\n",
    "plt.xlim(-10, 20) # adjusting x axis limits\n",
    "plt.ylim(-10, 20) # adjusting y axis limits\n",
    "plt.xlabel('Sample FM_1') # renaming x axis title\n",
    "plt.title('FM_1 vs. FM_2')\n",
    "plt.show()"
   ]
  },
  {
   "cell_type": "markdown",
   "metadata": {},
   "source": [
    "Notice that most of the points of this plot lie within the black lines, indicating the most of the genes have expression values that are within two-fold between the two samples. This suggests consistent expression values between replicates, and is a good sanity check that helps to signify that the data are of good quality."
   ]
  },
  {
   "cell_type": "markdown",
   "metadata": {},
   "source": [
    "\n",
    "\n",
    "***\n",
    "\n",
    "Now, let's look at 2 samples belonging to different phenotypes.\n",
    "\n",
    "### <font color=brown>Hands on practice</font>\n",
    "\n",
    "Generate a scatter plot of `FM_1` and `UACC_62_1` with black lines demarcating 2-fold change. Do there appear to be more or less genes with large (>2) fold changes?\n"
   ]
  },
  {
   "cell_type": "code",
   "execution_count": null,
   "metadata": {},
   "outputs": [],
   "source": [
    "# Generate a scatter plot of FM_1 and UACC_62_1 with black lines demarcating 2-fold change\n",
    "None\n",
    "plt.show()"
   ]
  },
  {
   "cell_type": "markdown",
   "metadata": {},
   "source": [
    "### Plotting Distributions\n",
    "\n",
    "Another common visualization is the histogram, to view the overall distribution of the data. To do this with `seaborn`, we can use the `distplot` function."
   ]
  },
  {
   "cell_type": "code",
   "execution_count": 14,
   "metadata": {},
   "outputs": [
    {
     "data": {
      "image/png": "[encoded data removed]",
      "text/plain": [
       "<Figure size 432x288 with 1 Axes>"
      ]
     },
     "metadata": {
      "needs_background": "light"
     },
     "output_type": "display_data"
    }
   ],
   "source": [
    "# Histogram\n",
    "sns.distplot(df_group.loc[:,'FM'],bins=10,color='green')\n",
    "plt.show()"
   ]
  },
  {
   "cell_type": "markdown",
   "metadata": {},
   "source": [
    "Note that the default distplot gives you both the histogram (in bars), as well as a fitted density plot, which estimates what the underlying distribution looks like. You can turn each of these visualizations off by adding the arguments `kde=False` or `hist=False` to the `distplot` function.\n",
    "\n",
    "***\n",
    "\n",
    "To compare distributions of two variables, you can use the `jointplot` function."
   ]
  },
  {
   "cell_type": "code",
   "execution_count": 65,
   "metadata": {},
   "outputs": [
    {
     "data": {
      "image/png": "[encoded data removed]",
      "text/plain": [
       "<Figure size 432x432 with 3 Axes>"
      ]
     },
     "metadata": {
      "needs_background": "light"
     },
     "output_type": "display_data"
    }
   ],
   "source": [
    "# Marginal Plot\n",
    "g = sns.jointplot(x=\"FM\",y=\"UACC_62\",data=df_group,kind=\"kde\") # kind options: scatter, reg,resid,kde,hex\n",
    "g.plot_joint(plt.scatter, c=\"red\",s=10) # c = color; s = size ## Note that we can overlay \n",
    "plt.show()"
   ]
  },
  {
   "cell_type": "markdown",
   "metadata": {},
   "source": [
    "### Categorical Plots\n",
    " \n",
    " \n",
    "For this section, we'll be generating some plots comparing the expression of genes between different phenotypes. Given this, we'll be working with the data frame `dfT`."
   ]
  },
  {
   "cell_type": "code",
   "execution_count": 23,
   "metadata": {},
   "outputs": [
    {
     "data": {
      "text/html": [
       "<div>\n",
       "<style scoped>\n",
       "    .dataframe tbody tr th:only-of-type {\n",
       "        vertical-align: middle;\n",
       "    }\n",
       "\n",
       "    .dataframe tbody tr th {\n",
       "        vertical-align: top;\n",
       "    }\n",
       "\n",
       "    .dataframe thead th {\n",
       "        text-align: right;\n",
       "    }\n",
       "</style>\n",
       "<table border=\"1\" class=\"dataframe\">\n",
       "  <thead>\n",
       "    <tr style=\"text-align: right;\">\n",
       "      <th></th>\n",
       "      <th>Sample_geo_accession</th>\n",
       "      <th>Stage</th>\n",
       "      <th>cell type</th>\n",
       "      <th>CellLine</th>\n",
       "      <th>ANKIB1</th>\n",
       "      <th>ZNF618</th>\n",
       "      <th>IMPG2</th>\n",
       "    </tr>\n",
       "    <tr>\n",
       "      <th>Sample Title</th>\n",
       "      <th></th>\n",
       "      <th></th>\n",
       "      <th></th>\n",
       "      <th></th>\n",
       "      <th></th>\n",
       "      <th></th>\n",
       "      <th></th>\n",
       "    </tr>\n",
       "  </thead>\n",
       "  <tbody>\n",
       "    <tr>\n",
       "      <th>FM_1</th>\n",
       "      <td>GSM2344965</td>\n",
       "      <td>primary melanocytes</td>\n",
       "      <td>normal melanocytes</td>\n",
       "      <td>FM</td>\n",
       "      <td>11.332037</td>\n",
       "      <td>10.540128</td>\n",
       "      <td>3.700440</td>\n",
       "    </tr>\n",
       "    <tr>\n",
       "      <th>FM_2</th>\n",
       "      <td>GSM2344966</td>\n",
       "      <td>primary melanocytes</td>\n",
       "      <td>normal melanocytes</td>\n",
       "      <td>FM</td>\n",
       "      <td>11.247928</td>\n",
       "      <td>10.492855</td>\n",
       "      <td>3.169925</td>\n",
       "    </tr>\n",
       "    <tr>\n",
       "      <th>FM_3</th>\n",
       "      <td>GSM2344967</td>\n",
       "      <td>primary melanocytes</td>\n",
       "      <td>normal melanocytes</td>\n",
       "      <td>FM</td>\n",
       "      <td>11.013323</td>\n",
       "      <td>10.088788</td>\n",
       "      <td>3.906891</td>\n",
       "    </tr>\n",
       "    <tr>\n",
       "      <th>SK_MEL_28_1</th>\n",
       "      <td>GSM2344968</td>\n",
       "      <td>metastatic</td>\n",
       "      <td>melanoma cell line</td>\n",
       "      <td>SK_MEL_28</td>\n",
       "      <td>11.363040</td>\n",
       "      <td>9.961450</td>\n",
       "      <td>2.000000</td>\n",
       "    </tr>\n",
       "    <tr>\n",
       "      <th>SK_MEL_28_2</th>\n",
       "      <td>GSM2344969</td>\n",
       "      <td>metastatic</td>\n",
       "      <td>melanoma cell line</td>\n",
       "      <td>SK_MEL_28</td>\n",
       "      <td>11.660887</td>\n",
       "      <td>10.087463</td>\n",
       "      <td>1.000000</td>\n",
       "    </tr>\n",
       "    <tr>\n",
       "      <th>SK_MEL_28_3</th>\n",
       "      <td>GSM2344970</td>\n",
       "      <td>metastatic</td>\n",
       "      <td>melanoma cell line</td>\n",
       "      <td>SK_MEL_28</td>\n",
       "      <td>11.624795</td>\n",
       "      <td>9.957102</td>\n",
       "      <td>2.584963</td>\n",
       "    </tr>\n",
       "    <tr>\n",
       "      <th>SK_MEL_147_1</th>\n",
       "      <td>GSM2344971</td>\n",
       "      <td>metastatic</td>\n",
       "      <td>melanoma cell line</td>\n",
       "      <td>SK_MEL_147</td>\n",
       "      <td>11.212496</td>\n",
       "      <td>10.927037</td>\n",
       "      <td>4.169925</td>\n",
       "    </tr>\n",
       "    <tr>\n",
       "      <th>SK_MEL_147_2</th>\n",
       "      <td>GSM2344972</td>\n",
       "      <td>metastatic</td>\n",
       "      <td>melanoma cell line</td>\n",
       "      <td>SK_MEL_147</td>\n",
       "      <td>10.897845</td>\n",
       "      <td>10.570804</td>\n",
       "      <td>3.807355</td>\n",
       "    </tr>\n",
       "    <tr>\n",
       "      <th>SK_MEL_147_3</th>\n",
       "      <td>GSM2344973</td>\n",
       "      <td>metastatic</td>\n",
       "      <td>melanoma cell line</td>\n",
       "      <td>SK_MEL_147</td>\n",
       "      <td>11.182394</td>\n",
       "      <td>10.659104</td>\n",
       "      <td>3.700440</td>\n",
       "    </tr>\n",
       "    <tr>\n",
       "      <th>UACC_62_1</th>\n",
       "      <td>GSM2344974</td>\n",
       "      <td>metastatic</td>\n",
       "      <td>melanoma cell line</td>\n",
       "      <td>UACC_62</td>\n",
       "      <td>11.510764</td>\n",
       "      <td>10.130571</td>\n",
       "      <td>4.643856</td>\n",
       "    </tr>\n",
       "    <tr>\n",
       "      <th>UACC_62_2</th>\n",
       "      <td>GSM2344975</td>\n",
       "      <td>metastatic</td>\n",
       "      <td>melanoma cell line</td>\n",
       "      <td>UACC_62</td>\n",
       "      <td>11.710806</td>\n",
       "      <td>9.933691</td>\n",
       "      <td>3.906891</td>\n",
       "    </tr>\n",
       "    <tr>\n",
       "      <th>UACC_62_3</th>\n",
       "      <td>GSM2344976</td>\n",
       "      <td>metastatic</td>\n",
       "      <td>melanoma cell line</td>\n",
       "      <td>UACC_62</td>\n",
       "      <td>11.643856</td>\n",
       "      <td>10.209453</td>\n",
       "      <td>3.906891</td>\n",
       "    </tr>\n",
       "  </tbody>\n",
       "</table>\n",
       "</div>"
      ],
      "text/plain": [
       "             Sample_geo_accession                Stage           cell type  \\\n",
       "Sample Title                                                                 \n",
       "FM_1                   GSM2344965  primary melanocytes  normal melanocytes   \n",
       "FM_2                   GSM2344966  primary melanocytes  normal melanocytes   \n",
       "FM_3                   GSM2344967  primary melanocytes  normal melanocytes   \n",
       "SK_MEL_28_1            GSM2344968           metastatic  melanoma cell line   \n",
       "SK_MEL_28_2            GSM2344969           metastatic  melanoma cell line   \n",
       "SK_MEL_28_3            GSM2344970           metastatic  melanoma cell line   \n",
       "SK_MEL_147_1           GSM2344971           metastatic  melanoma cell line   \n",
       "SK_MEL_147_2           GSM2344972           metastatic  melanoma cell line   \n",
       "SK_MEL_147_3           GSM2344973           metastatic  melanoma cell line   \n",
       "UACC_62_1              GSM2344974           metastatic  melanoma cell line   \n",
       "UACC_62_2              GSM2344975           metastatic  melanoma cell line   \n",
       "UACC_62_3              GSM2344976           metastatic  melanoma cell line   \n",
       "\n",
       "                CellLine     ANKIB1     ZNF618     IMPG2  \n",
       "Sample Title                                              \n",
       "FM_1                  FM  11.332037  10.540128  3.700440  \n",
       "FM_2                  FM  11.247928  10.492855  3.169925  \n",
       "FM_3                  FM  11.013323  10.088788  3.906891  \n",
       "SK_MEL_28_1    SK_MEL_28  11.363040   9.961450  2.000000  \n",
       "SK_MEL_28_2    SK_MEL_28  11.660887  10.087463  1.000000  \n",
       "SK_MEL_28_3    SK_MEL_28  11.624795   9.957102  2.584963  \n",
       "SK_MEL_147_1  SK_MEL_147  11.212496  10.927037  4.169925  \n",
       "SK_MEL_147_2  SK_MEL_147  10.897845  10.570804  3.807355  \n",
       "SK_MEL_147_3  SK_MEL_147  11.182394  10.659104  3.700440  \n",
       "UACC_62_1        UACC_62  11.510764  10.130571  4.643856  \n",
       "UACC_62_2        UACC_62  11.710806   9.933691  3.906891  \n",
       "UACC_62_3        UACC_62  11.643856  10.209453  3.906891  "
      ]
     },
     "execution_count": 23,
     "metadata": {},
     "output_type": "execute_result"
    }
   ],
   "source": [
    "dfT.iloc[:,0:7]"
   ]
  },
  {
   "cell_type": "markdown",
   "metadata": {},
   "source": [
    "We want to find some genes of interest to focus on in our plots. We start by creating separate data frames for the Normal and the Metastatic samples.\n",
    "\n",
    "Note that the metadata tells us that the first 3 samples are normal, and the rest are metastatic.\n",
    "\n",
    "We'll also extract the gene names that we're looking at."
   ]
  },
  {
   "cell_type": "code",
   "execution_count": 38,
   "metadata": {},
   "outputs": [
    {
     "name": "stdout",
     "output_type": "stream",
     "text": [
      "                 ANKIB1     ZNF618     IMPG2    SLC26A6   MAPKAPK3    DYNLT3  \\\n",
      "Sample Title                                                                   \n",
      "FM_1          11.332037  10.540128  3.700440  10.112440  10.664447  8.459432   \n",
      "FM_2          11.247928  10.492855  3.169925   9.575539  10.799282  8.915879   \n",
      "FM_3          11.013323  10.088788  3.906891  10.558421  10.487840  9.152285   \n",
      "\n",
      "                GRAMD3       MPDZ      DGKI       RCC2    ...      \\\n",
      "Sample Title                                              ...       \n",
      "FM_1          8.455327  12.458663  5.129283  12.693051    ...       \n",
      "FM_2          8.668885  12.259155  6.022368  12.809768    ...       \n",
      "FM_3          8.797662  11.452756  5.930737  12.758640    ...       \n",
      "\n",
      "              RP11-872D17.8     CC2D1A  RP11-146B14.1     GPR83    SCAMP5  \\\n",
      "Sample Title                                                                \n",
      "FM_1               3.584963  10.602699       6.209453  4.321928  7.066089   \n",
      "FM_2               4.169925  10.338736       6.000000  3.584963  6.569856   \n",
      "FM_3               4.169925  10.529431       5.906891  3.807355  6.475733   \n",
      "\n",
      "                  FRS2    ABCC11    BMS1P7    CHRNB1    CCDC90B  \n",
      "Sample Title                                                     \n",
      "FM_1          9.567956  6.169925  4.247928  8.758223  10.224002  \n",
      "FM_2          9.677720  5.906891  5.044394  8.169925  10.388017  \n",
      "FM_3          9.357552  5.643856  3.906891  8.139551  10.186114  \n",
      "\n",
      "[3 rows x 93 columns]\n",
      "                 ANKIB1     ZNF618     IMPG2    SLC26A6   MAPKAPK3     DYNLT3  \\\n",
      "Sample Title                                                                    \n",
      "SK_MEL_28_1   11.363040   9.961450  2.000000   9.816984   9.903882  10.211888   \n",
      "SK_MEL_28_2   11.660887  10.087463  1.000000  10.142107   9.995767  10.583083   \n",
      "SK_MEL_28_3   11.624795   9.957102  2.584963   9.936638  10.075479  10.556506   \n",
      "SK_MEL_147_1  11.212496  10.927037  4.169925   9.768184  11.240791  10.474720   \n",
      "SK_MEL_147_2  10.897845  10.570804  3.807355  10.029287  11.287712  10.067434   \n",
      "\n",
      "                GRAMD3       MPDZ      DGKI       RCC2    ...      \\\n",
      "Sample Title                                              ...       \n",
      "SK_MEL_28_1   8.257388  11.061371  9.092757  13.647908    ...       \n",
      "SK_MEL_28_2   8.243174  11.350939  9.566054  13.796445    ...       \n",
      "SK_MEL_28_3   8.033423  11.319672  8.778077  13.596889    ...       \n",
      "SK_MEL_147_1  7.055282   9.493855  5.754888  13.135389    ...       \n",
      "SK_MEL_147_2  7.044394   9.337622  5.882643  13.213712    ...       \n",
      "\n",
      "              RP11-872D17.8     CC2D1A  RP11-146B14.1     GPR83    SCAMP5  \\\n",
      "Sample Title                                                                \n",
      "SK_MEL_28_1        4.000000  10.738092       5.807355  3.321928  8.066089   \n",
      "SK_MEL_28_2        4.807355  10.997885       4.523562  3.321928  8.209453   \n",
      "SK_MEL_28_3        3.584963  11.036174       6.022368  3.000000  8.361944   \n",
      "SK_MEL_147_1       3.807355  10.692616       6.523562  3.169925  8.487840   \n",
      "SK_MEL_147_2       1.000000  10.706496       3.000000  3.807355  8.566054   \n",
      "\n",
      "                   FRS2    ABCC11    BMS1P7    CHRNB1    CCDC90B  \n",
      "Sample Title                                                      \n",
      "SK_MEL_28_1    9.379378  5.554589 -6.643856  7.179909   9.873444  \n",
      "SK_MEL_28_2    9.651052  5.930737 -6.643856  7.294621  10.060696  \n",
      "SK_MEL_28_3    9.419960  5.321928 -6.643856  7.066089   9.902375  \n",
      "SK_MEL_147_1  10.559377  6.149747  5.523562  8.744834  11.623881  \n",
      "SK_MEL_147_2  10.113742  5.954196  5.781360  9.337622  11.338179  \n",
      "\n",
      "[5 rows x 93 columns]\n"
     ]
    },
    {
     "data": {
      "text/plain": [
       "Index(['ANKIB1', 'ZNF618', 'IMPG2', 'SLC26A6', 'MAPKAPK3', 'DYNLT3', 'GRAMD3',\n",
       "       'MPDZ', 'DGKI', 'RCC2', 'KIF5A', 'GTF2H1', 'TMEM126B', 'COL1A1',\n",
       "       'SLC35A3', 'TMEM60', 'ELFN1', 'MARCKSL1', 'TRAPPC2B', 'NCMAP', 'BMPR1A',\n",
       "       'WDR19', 'TAF1D', 'BCAP31', 'RPS6KA6', 'PGBD2', 'TSNAXIP1', 'CHRNA7',\n",
       "       'DYNC2H1', 'MTSS1', 'ZCCHC17', 'IFT74', 'FOXC1', 'CDIP1', 'SULT1A1',\n",
       "       'SHMT1', 'ZNF343', 'RECQL4', 'DTX3L', 'CPAMD8', 'NBAS', 'ZNF24',\n",
       "       'MOB3A', 'EHF', 'LUM', 'PLEKHM3', 'IQCG', 'TCEAL9', 'CSRNP3', 'TSSK6',\n",
       "       'ACAT1', 'PTPN9', 'NUTM2A', 'OAZ3', 'ETF1', 'AXIN2', 'UQCR11', 'FKBPL',\n",
       "       'TRMT1L', 'C1QTNF9B-AS1', 'NHEJ1', 'RPRD1A', 'KPNA4', 'MAGEA12',\n",
       "       'RPL13AP6', 'GID4', 'LMNB1', 'RPL23AP97', 'CTD-3214H19.4', 'MSTO2P',\n",
       "       'MANF', 'SLC18B1', 'SSH1', 'COQ3', 'FAM111B', 'HNRNPD', 'NOMO1',\n",
       "       'GPR75-ASB3', 'GTF2E1', 'SLC25A21', 'MRO', 'RP11-163E9.2', 'POLI',\n",
       "       'RP11-872D17.8', 'CC2D1A', 'RP11-146B14.1', 'GPR83', 'SCAMP5', 'FRS2',\n",
       "       'ABCC11', 'BMS1P7', 'CHRNB1', 'CCDC90B'],\n",
       "      dtype='object')"
      ]
     },
     "execution_count": 38,
     "metadata": {},
     "output_type": "execute_result"
    }
   ],
   "source": [
    "#slicing out the normal and metastatic samples\n",
    "normal = dfT.iloc[0:3,4:]\n",
    "metastatic = dfT.iloc[3:,4:]\n",
    "\n",
    "print(normal.head())\n",
    "print(metastatic.head())\n",
    "\n",
    "# pulling out gene names\n",
    "genenames = normal.columns\n",
    "genenames"
   ]
  },
  {
   "cell_type": "markdown",
   "metadata": {},
   "source": [
    "We'll then calculate the t-test p-values for each gene between these two groups (like we did in class 6), and identify the most statistically significant differences."
   ]
  },
  {
   "cell_type": "code",
   "execution_count": 33,
   "metadata": {},
   "outputs": [
    {
     "name": "stdout",
     "output_type": "stream",
     "text": [
      "[2.21947143e-01 6.59127346e-01 6.93357957e-01 9.12349018e-01\n",
      " 8.30322419e-01 2.44405579e-03 6.83876063e-02 4.51052642e-03\n",
      " 6.21257004e-02 1.34901834e-02 2.28818450e-01 5.96516466e-01\n",
      " 3.68206969e-01 9.80690092e-01 8.85205826e-01 9.65765704e-01\n",
      " 2.53923299e-02 2.56274417e-04 5.37115787e-01 1.03216252e-01\n",
      " 2.83610065e-01 2.13584826e-03 4.56573648e-02 1.51868165e-02\n",
      " 1.96198779e-01 4.32713976e-01 1.00358145e-01 1.54085363e-03\n",
      " 2.58643097e-02 9.15281365e-04 2.39951137e-01 2.06620780e-02\n",
      " 4.64592692e-06 5.64705695e-02 3.16276053e-01 1.50599890e-01\n",
      " 1.29334332e-01 1.34209233e-04 2.81404477e-02 3.42649166e-02\n",
      " 9.79521405e-01 2.38203602e-03 4.34414053e-04 5.14516193e-04\n",
      " 2.77037838e-03 6.70914825e-01 3.63484918e-01 2.51901266e-01\n",
      " 4.43773105e-02 1.29413948e-02 1.38364972e-01 1.66904250e-01\n",
      " 2.22711598e-01 9.56453608e-01 3.96522909e-04 6.10066245e-02\n",
      " 3.41217649e-01 5.88663235e-01 7.77160260e-01 5.57821410e-01\n",
      " 4.12147518e-01 3.70993351e-01 6.44274696e-04 3.68456627e-07\n",
      " 3.25127787e-01 1.43778623e-03 2.58642269e-04 8.41903003e-02\n",
      " 2.60687446e-01 3.53698297e-03 3.09448216e-02 2.76948085e-04\n",
      " 4.18497373e-01 2.97406237e-02 5.20713255e-01 4.25205700e-02\n",
      " 2.24167231e-01 4.11965760e-01 2.52615089e-03 3.71343697e-01\n",
      " 2.73769946e-01 1.43059554e-01 3.27748393e-03 8.58508008e-01\n",
      " 6.37025137e-02 5.96807038e-01 4.33403378e-02 8.61108519e-04\n",
      " 1.39685794e-01 7.42062472e-01 2.76546340e-01 4.36935441e-01\n",
      " 5.88100636e-01]\n"
     ]
    }
   ],
   "source": [
    "# Then t test\n",
    "stat, p = stats.ttest_ind(normal, metastatic)\n",
    "print(p)"
   ]
  },
  {
   "cell_type": "markdown",
   "metadata": {},
   "source": [
    "Now that we have the p values, we want to sort the genes based on p value. To do this, we want to get the indices that would sort the p value array, and use that information to get the ordered gene names."
   ]
  },
  {
   "cell_type": "code",
   "execution_count": 40,
   "metadata": {},
   "outputs": [
    {
     "name": "stdout",
     "output_type": "stream",
     "text": [
      "Index(['MAGEA12', 'FOXC1', 'RECQL4', 'MARCKSL1', 'LMNB1', 'SLC18B1', 'ETF1',\n",
      "       'MOB3A', 'EHF', 'KPNA4', 'SCAMP5', 'MTSS1', 'GID4', 'CHRNA7', 'WDR19',\n",
      "       'ZNF24', 'DYNLT3', 'GTF2E1', 'LUM', 'POLI', 'MSTO2P', 'MPDZ', 'TSSK6',\n",
      "       'RCC2', 'BCAP31', 'IFT74', 'ELFN1', 'DYNC2H1', 'DTX3L', 'COQ3', 'MANF',\n",
      "       'CPAMD8', 'HNRNPD', 'GPR83', 'CSRNP3', 'TAF1D', 'CDIP1', 'AXIN2',\n",
      "       'DGKI', 'CC2D1A', 'GRAMD3', 'RPL23AP97', 'TSNAXIP1', 'NCMAP', 'ZNF343',\n",
      "       'ACAT1', 'FRS2', 'RP11-163E9.2', 'SHMT1', 'PTPN9', 'RPS6KA6', 'ANKIB1',\n",
      "       'NUTM2A', 'NOMO1', 'KIF5A', 'ZCCHC17', 'TCEAL9', 'CTD-3214H19.4', 'MRO',\n",
      "       'BMS1P7', 'BMPR1A', 'SULT1A1', 'RPL13AP6', 'UQCR11', 'IQCG', 'TMEM126B',\n",
      "       'RPRD1A', 'SLC25A21', 'GPR75-ASB3', 'NHEJ1', 'SSH1', 'PGBD2', 'CHRNB1',\n",
      "       'FAM111B', 'TRAPPC2B', 'C1QTNF9B-AS1', 'CCDC90B', 'FKBPL', 'GTF2H1',\n",
      "       'RP11-146B14.1', 'ZNF618', 'PLEKHM3', 'IMPG2', 'ABCC11', 'TRMT1L',\n",
      "       'MAPKAPK3', 'RP11-872D17.8', 'SLC35A3', 'SLC26A6', 'OAZ3', 'TMEM60',\n",
      "       'NBAS', 'COL1A1'],\n",
      "      dtype='object')\n"
     ]
    }
   ],
   "source": [
    "# extracting the indexes that would give a sorted p\n",
    "pidx = np.argsort(p)\n",
    "\n",
    "# mapping these indexes to gene names\n",
    "orderedgenes = genenames[pidx]\n",
    "\n",
    "print(orderedgenes)"
   ]
  },
  {
   "cell_type": "code",
   "execution_count": 45,
   "metadata": {},
   "outputs": [
    {
     "name": "stdout",
     "output_type": "stream",
     "text": [
      "               MAGEA12     FOXC1    RECQL4\n",
      "Sample Title                              \n",
      "FM_1         -6.643856  3.169925  8.804131\n",
      "FM_2          1.000000  2.321928  9.638436\n",
      "FM_3         -6.643856  4.584963  9.721099\n",
      "                MAGEA12      FOXC1     RECQL4\n",
      "Sample Title                                 \n",
      "SK_MEL_28_1   11.020980   7.845490  11.156715\n",
      "SK_MEL_28_2   11.171177   8.262095  11.384244\n",
      "SK_MEL_28_3   11.147205   8.348728  11.291746\n",
      "SK_MEL_147_1  12.176796  10.200899  10.726218\n",
      "SK_MEL_147_2  12.143064  10.159871  10.770664\n",
      "SK_MEL_147_3  11.811776  10.258566  10.236014\n",
      "UACC_62_1     11.435149  10.044394  10.942515\n",
      "UACC_62_2     11.892543  10.112440  11.284824\n",
      "UACC_62_3     11.632995  10.029287  10.913637\n"
     ]
    }
   ],
   "source": [
    "print(normal.loc[:,('MAGEA12', 'FOXC1', 'RECQL4')])\n",
    "print(metastatic.loc[:,('MAGEA12', 'FOXC1', 'RECQL4')])"
   ]
  },
  {
   "cell_type": "markdown",
   "metadata": {},
   "source": [
    "There are many ways to plot categorical data like `bar`, `box`, and `swarm` plots. Let's look at the expression of `MAGEA12` using each of these methods. There are separate methods for each, but they are pulled together for convenience in one function, `catplot`."
   ]
  },
  {
   "cell_type": "code",
   "execution_count": 86,
   "metadata": {},
   "outputs": [
    {
     "data": {
      "image/png": "[encoded data removed]",
      "text/plain": [
       "<Figure size 360x360 with 1 Axes>"
      ]
     },
     "metadata": {
      "needs_background": "light"
     },
     "output_type": "display_data"
    }
   ],
   "source": [
    "# Starting off with a bar plot\n",
    "g = sns.catplot(x = 'Stage',y='MAGEA12', data=dfT, kind=\"bar\")\n",
    "plt.show()\n",
    "# Note that the error bars are plotted by default"
   ]
  },
  {
   "cell_type": "markdown",
   "metadata": {},
   "source": [
    "### <font color=brown>Hands on practice</font>\n",
    "\n",
    "Generate a bar plot of each cell line's expression of the gene `FOXC1`."
   ]
  },
  {
   "cell_type": "code",
   "execution_count": 62,
   "metadata": {},
   "outputs": [],
   "source": [
    "#bar plot of FOXC1 expression for each cell line\n",
    "None"
   ]
  },
  {
   "cell_type": "markdown",
   "metadata": {},
   "source": [
    "***\n",
    "\n",
    "Comparing distributions is often done with boxplots or swarm plots:"
   ]
  },
  {
   "cell_type": "code",
   "execution_count": 47,
   "metadata": {},
   "outputs": [
    {
     "data": {
      "image/png": "[encoded data removed]",
      "text/plain": [
       "<Figure size 360x360 with 1 Axes>"
      ]
     },
     "metadata": {
      "needs_background": "light"
     },
     "output_type": "display_data"
    }
   ],
   "source": [
    "g = sns.catplot(x = 'Stage',y='MAGEA12', data=dfT, kind=\"box\")\n",
    "plt.show()"
   ]
  },
  {
   "cell_type": "code",
   "execution_count": 48,
   "metadata": {},
   "outputs": [
    {
     "data": {
      "image/png": "[encoded data removed]",
      "text/plain": [
       "<Figure size 360x360 with 1 Axes>"
      ]
     },
     "metadata": {
      "needs_background": "light"
     },
     "output_type": "display_data"
    }
   ],
   "source": [
    "g = sns.catplot(x = 'Stage',y = 'MAGEA12', data=dfT, kind=\"swarm\")\n",
    "plt.show()"
   ]
  },
  {
   "cell_type": "markdown",
   "metadata": {},
   "source": [
    "Note that you can tell seaborn to plot the color of the swarm points according to a specific variable."
   ]
  },
  {
   "cell_type": "code",
   "execution_count": 49,
   "metadata": {
    "scrolled": true
   },
   "outputs": [
    {
     "data": {
      "image/png": "[encoded data removed]",
      "text/plain": [
       "<Figure size 468.35x360 with 1 Axes>"
      ]
     },
     "metadata": {
      "needs_background": "light"
     },
     "output_type": "display_data"
    }
   ],
   "source": [
    "g = sns.catplot(x = 'Stage',y = 'MAGEA12',hue = 'CellLine', data=dfT, kind=\"swarm\")\n",
    "plt.show()"
   ]
  },
  {
   "cell_type": "markdown",
   "metadata": {},
   "source": [
    "Note that you can overlay plots on top of each other."
   ]
  },
  {
   "cell_type": "code",
   "execution_count": 54,
   "metadata": {
    "scrolled": true
   },
   "outputs": [
    {
     "data": {
      "image/png": "[encoded data removed]",
      "text/plain": [
       "<Figure size 360x360 with 1 Axes>"
      ]
     },
     "metadata": {
      "needs_background": "light"
     },
     "output_type": "display_data"
    }
   ],
   "source": [
    "# an overlayed box and swarm plot\n",
    "g = sns.catplot(x=\"Stage\", y=\"MAGEA12\", kind=\"box\", data=dfT)\n",
    "sns.swarmplot(x=\"Stage\", y=\"MAGEA12\", color=\"k\", size=7, data=dfT, ax=g.ax);"
   ]
  },
  {
   "cell_type": "markdown",
   "metadata": {},
   "source": [
    "### <font color=brown>Hands on practice</font>\n",
    "\n",
    "Generate a box and swarm plot of each cell line's expression of the gene `FOXC1`."
   ]
  },
  {
   "cell_type": "code",
   "execution_count": 62,
   "metadata": {},
   "outputs": [],
   "source": [
    "#an overlayed box and swarm plot of FOXC1 expression for each cell line\n",
    "None"
   ]
  },
  {
   "cell_type": "markdown",
   "metadata": {},
   "source": [
    "## Bonus: Customizing color palettes"
   ]
  },
  {
   "cell_type": "markdown",
   "metadata": {},
   "source": [
    "`pyplot` and `seaborn` give you a lot of ways to customize the color scheme of your plots.\n",
    "\n",
    "Option 1: you can pick a specific color by name (see https://python-graph-gallery.com/196-select-one-color-with-matplotlib/ for list of colors).\n",
    "\n",
    "Option 2: you can select a color palette scheme. Useful resources for color palettes:\n",
    " - https://seaborn.pydata.org/tutorial/color_palettes.html\n",
    " - https://matplotlib.org/users/colormaps.html"
   ]
  },
  {
   "cell_type": "code",
   "execution_count": 84,
   "metadata": {},
   "outputs": [],
   "source": [
    "# Getting the current palette\n",
    "current_palette = sns.color_palette()"
   ]
  },
  {
   "cell_type": "code",
   "execution_count": 77,
   "metadata": {},
   "outputs": [
    {
     "data": {
      "application/vnd.jupyter.widget-view+json": {
       "model_id": "a141dd1c13ce44c7ae0f7128dfd42aec",
       "version_major": 2,
       "version_minor": 0
      },
      "text/plain": [
       "interactive(children=(Dropdown(description='name', options=('Set1', 'Set2', 'Set3', 'Paired', 'Accent', 'Paste…"
      ]
     },
     "metadata": {},
     "output_type": "display_data"
    }
   ],
   "source": [
    "# Setting up\n",
    "cbpalseq = sns.choose_colorbrewer_palette(data_type='qualitative') # possible data types: ‘sequential’, ‘diverging’, ‘qualitative’\n"
   ]
  },
  {
   "cell_type": "markdown",
   "metadata": {},
   "source": [
    "You can temporarily set the color palette for one plot by using the `palette` argument within a plotting function:"
   ]
  },
  {
   "cell_type": "code",
   "execution_count": 81,
   "metadata": {},
   "outputs": [
    {
     "data": {
      "image/png": "[encoded data removed]",
      "text/plain": [
       "<Figure size 427.85x360 with 1 Axes>"
      ]
     },
     "metadata": {
      "needs_background": "light"
     },
     "output_type": "display_data"
    }
   ],
   "source": [
    "g = sns.relplot(x=\"FM_1\", y=\"FM_2\", data=df_log2,hue = 'FM_2',palette='viridis')"
   ]
  },
  {
   "cell_type": "markdown",
   "metadata": {},
   "source": [
    "Alternatively, you can reset the default `seaborn` color palette:"
   ]
  },
  {
   "cell_type": "code",
   "execution_count": 83,
   "metadata": {},
   "outputs": [
    {
     "data": {
      "image/png": "[encoded data removed]",
      "text/plain": [
       "<Figure size 468.35x360 with 1 Axes>"
      ]
     },
     "metadata": {
      "needs_background": "light"
     },
     "output_type": "display_data"
    }
   ],
   "source": [
    "# Setting a color palette\n",
    "sns.set_palette(sns.color_palette(cbpalseq))\n",
    "\n",
    "# Now try plotting\n",
    "g = sns.catplot(x = 'Stage',y = 'MAGEA12',hue = 'CellLine', data=dfT, kind=\"swarm\")"
   ]
  }
 ],
 "metadata": {
  "kernelspec": {
   "display_name": "Python 3",
   "language": "python",
   "name": "python3"
  },
  "language_info": {
   "codemirror_mode": {
    "name": "ipython",
    "version": 3
   },
   "file_extension": ".py",
   "mimetype": "text/x-python",
   "name": "python",
   "nbconvert_exporter": "python",
   "pygments_lexer": "ipython3",
   "version": "3.7.1"
  }
 },
 "nbformat": 4,
 "nbformat_minor": 2
}
